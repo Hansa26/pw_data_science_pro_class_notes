{
 "cells": [
  {
   "cell_type": "code",
   "execution_count": 1,
   "id": "ef466c57-4e2a-4f29-8a12-e19477dfe5e9",
   "metadata": {},
   "outputs": [],
   "source": [
    "a = 10\n",
    "b = 5"
   ]
  },
  {
   "cell_type": "code",
   "execution_count": 2,
   "id": "f9d7c506-a43b-4deb-a900-2f8bd5eb38c1",
   "metadata": {},
   "outputs": [
    {
     "data": {
      "text/plain": [
       "50"
      ]
     },
     "execution_count": 2,
     "metadata": {},
     "output_type": "execute_result"
    }
   ],
   "source": [
    "a*b"
   ]
  },
  {
   "cell_type": "code",
   "execution_count": 3,
   "id": "bd799e38-21fd-419a-81c4-6ac49003db54",
   "metadata": {},
   "outputs": [
    {
     "data": {
      "text/plain": [
       "2.0"
      ]
     },
     "execution_count": 3,
     "metadata": {},
     "output_type": "execute_result"
    }
   ],
   "source": [
    "a/b"
   ]
  },
  {
   "cell_type": "code",
   "execution_count": 4,
   "id": "b2f8b7e0-34a9-4a3b-80cb-da3acd0a8e2a",
   "metadata": {},
   "outputs": [],
   "source": [
    "b = 0"
   ]
  },
  {
   "cell_type": "code",
   "execution_count": 5,
   "id": "bac2c383-2394-4d5d-90cb-95da8c48eb42",
   "metadata": {},
   "outputs": [
    {
     "ename": "ZeroDivisionError",
     "evalue": "division by zero",
     "output_type": "error",
     "traceback": [
      "\u001b[0;31m---------------------------------------------------------------------------\u001b[0m",
      "\u001b[0;31mZeroDivisionError\u001b[0m                         Traceback (most recent call last)",
      "Cell \u001b[0;32mIn[5], line 1\u001b[0m\n\u001b[0;32m----> 1\u001b[0m \u001b[43ma\u001b[49m\u001b[38;5;241;43m/\u001b[39;49m\u001b[43mb\u001b[49m\n",
      "\u001b[0;31mZeroDivisionError\u001b[0m: division by zero"
     ]
    }
   ],
   "source": [
    "a/b"
   ]
  },
  {
   "cell_type": "code",
   "execution_count": 9,
   "id": "7d57341b-359c-452d-9ddf-358b9039cf0f",
   "metadata": {},
   "outputs": [
    {
     "name": "stdin",
     "output_type": "stream",
     "text": [
      "Enter a value of a:  6\n",
      "Enter a value of b:  0\n"
     ]
    }
   ],
   "source": [
    "a = int(input(\"Enter a value of a: \"))\n",
    "b = int(input(\"Enter a value of b: \"))"
   ]
  },
  {
   "cell_type": "code",
   "execution_count": 11,
   "id": "367cd3fa-bba6-4669-873e-b4f770b9cab4",
   "metadata": {},
   "outputs": [
    {
     "ename": "ZeroDivisionError",
     "evalue": "division by zero",
     "output_type": "error",
     "traceback": [
      "\u001b[0;31m---------------------------------------------------------------------------\u001b[0m",
      "\u001b[0;31mZeroDivisionError\u001b[0m                         Traceback (most recent call last)",
      "Cell \u001b[0;32mIn[11], line 1\u001b[0m\n\u001b[0;32m----> 1\u001b[0m \u001b[43ma\u001b[49m\u001b[38;5;241;43m/\u001b[39;49m\u001b[43mb\u001b[49m\n\u001b[1;32m      2\u001b[0m \u001b[38;5;28mprint\u001b[39m(\u001b[38;5;124m\"\u001b[39m\u001b[38;5;124mPrint Something!\u001b[39m\u001b[38;5;124m\"\u001b[39m)\n",
      "\u001b[0;31mZeroDivisionError\u001b[0m: division by zero"
     ]
    }
   ],
   "source": [
    "a/b\n",
    "print(\"Print Something!\")"
   ]
  },
  {
   "cell_type": "code",
   "execution_count": 2,
   "id": "61822d29-fbfd-48b4-a89f-0db6da64a764",
   "metadata": {},
   "outputs": [
    {
     "name": "stdin",
     "output_type": "stream",
     "text": [
      "Enter a value of a:  2\n",
      "Enter a value of b:  2\n"
     ]
    },
    {
     "name": "stdout",
     "output_type": "stream",
     "text": [
      "Division =  1.0\n",
      "Prints if except block is not caught\n",
      "Always prints\n"
     ]
    }
   ],
   "source": [
    "try:\n",
    "    a = int(input(\"Enter a value of a: \"))\n",
    "    b = int(input(\"Enter a value of b: \"))\n",
    "    c = a/b\n",
    "    print(\"Division = \", c)\n",
    "except ZeroDivisionError as ex:\n",
    "    print(\"Division by Zero Error!\", ex)\n",
    "except ValueError:\n",
    "    print(\"Give the numerical Value!\")\n",
    "except TypeError:\n",
    "    print(\"Check the operands!\")\n",
    "else:\n",
    "    print(\"Prints if except block is not caught\")\n",
    "finally:\n",
    "    print(\"Always prints\")"
   ]
  },
  {
   "cell_type": "code",
   "execution_count": 2,
   "id": "d97ed78e-74eb-4314-b1d0-684c8dcbb79c",
   "metadata": {},
   "outputs": [
    {
     "name": "stdout",
     "output_type": "stream",
     "text": [
      "division by zero\n",
      "invalid literal for int() with base 10: 'sudh'\n"
     ]
    }
   ],
   "source": [
    "try:\n",
    "    x = 5/0\n",
    "except ZeroDivisionError as z:\n",
    "    print(z)\n",
    "    try:\n",
    "        y = int(\"sudh\")\n",
    "    except ValueError as v:\n",
    "        print(v)"
   ]
  },
  {
   "cell_type": "code",
   "execution_count": 8,
   "id": "bf009ebb-efbf-4d45-b3af-a140e247f306",
   "metadata": {},
   "outputs": [
    {
     "name": "stdout",
     "output_type": "stream",
     "text": [
      "5.0\n",
      "Executes if try block executes without any error\n",
      "This will execute always!\n"
     ]
    }
   ],
   "source": [
    "try:\n",
    "    x = 5/1\n",
    "    print(x)\n",
    "except ZeroDivisionError as z:\n",
    "    print(z)\n",
    "else:\n",
    "    print(\"Executes if try block executes without any error\")\n",
    "finally:\n",
    "    print(\"This will execute always!\")"
   ]
  },
  {
   "cell_type": "code",
   "execution_count": 9,
   "id": "3235ea7f-50df-45cd-81ee-1429f6c90981",
   "metadata": {},
   "outputs": [
    {
     "name": "stdout",
     "output_type": "stream",
     "text": [
      "division by zero\n",
      "This will execute always!\n"
     ]
    }
   ],
   "source": [
    "try:\n",
    "    x = 5/0\n",
    "    print(x)\n",
    "except ZeroDivisionError as z:\n",
    "    print(z)\n",
    "else:\n",
    "    print(\"Executes if try block executes without any error\")\n",
    "finally:\n",
    "    print(\"This will execute always!\")"
   ]
  },
  {
   "cell_type": "code",
   "execution_count": 13,
   "id": "bd9c996d-f714-4c0c-b52c-6ce0aa2cd702",
   "metadata": {},
   "outputs": [
    {
     "name": "stdout",
     "output_type": "stream",
     "text": [
      "This is a key Error 'courses'\n"
     ]
    }
   ],
   "source": [
    "d = {\"name\": \"Hansa\", \"mobile_no\": 8971077273, \"email_id\": \"hansagouds26@gmail.com\"}\n",
    "try:\n",
    "    d[\"courses\"]\n",
    "except KeyError as ke:\n",
    "    print(\"This is a key Error\", ke)"
   ]
  },
  {
   "cell_type": "code",
   "execution_count": 14,
   "id": "c3d27173-d7dd-4d37-a0dd-6a4ce3749184",
   "metadata": {},
   "outputs": [
    {
     "ename": "IndexError",
     "evalue": "list index out of range",
     "output_type": "error",
     "traceback": [
      "\u001b[0;31m---------------------------------------------------------------------------\u001b[0m",
      "\u001b[0;31mIndexError\u001b[0m                                Traceback (most recent call last)",
      "Cell \u001b[0;32mIn[14], line 2\u001b[0m\n\u001b[1;32m      1\u001b[0m l \u001b[38;5;241m=\u001b[39m [\u001b[38;5;241m1\u001b[39m, \u001b[38;5;241m2\u001b[39m, \u001b[38;5;241m3\u001b[39m, \u001b[38;5;241m4\u001b[39m, \u001b[38;5;241m5\u001b[39m]\n\u001b[0;32m----> 2\u001b[0m \u001b[43ml\u001b[49m\u001b[43m[\u001b[49m\u001b[38;5;241;43m10\u001b[39;49m\u001b[43m]\u001b[49m\n",
      "\u001b[0;31mIndexError\u001b[0m: list index out of range"
     ]
    }
   ],
   "source": [
    "l = [1, 2, 3, 4, 5]\n",
    "l[10]"
   ]
  },
  {
   "cell_type": "code",
   "execution_count": 15,
   "id": "c323ccd8-9d25-4744-bc5c-3364b38eeee9",
   "metadata": {},
   "outputs": [
    {
     "name": "stdout",
     "output_type": "stream",
     "text": [
      "There are only 5 elements. list index out of range\n"
     ]
    }
   ],
   "source": [
    "try:\n",
    "    l[10]\n",
    "except IndexError as ie:\n",
    "    print(f\"There are only {len(l)} elements.\", ie)"
   ]
  },
  {
   "cell_type": "code",
   "execution_count": 16,
   "id": "f858a160-f8b7-4cc6-a3d0-decce666d1e2",
   "metadata": {},
   "outputs": [
    {
     "ename": "ValueError",
     "evalue": "invalid literal for int() with base 10: 'hansa'",
     "output_type": "error",
     "traceback": [
      "\u001b[0;31m---------------------------------------------------------------------------\u001b[0m",
      "\u001b[0;31mValueError\u001b[0m                                Traceback (most recent call last)",
      "Cell \u001b[0;32mIn[16], line 2\u001b[0m\n\u001b[1;32m      1\u001b[0m a \u001b[38;5;241m=\u001b[39m \u001b[38;5;124m\"\u001b[39m\u001b[38;5;124mhansa\u001b[39m\u001b[38;5;124m\"\u001b[39m\n\u001b[0;32m----> 2\u001b[0m \u001b[38;5;28;43mint\u001b[39;49m\u001b[43m(\u001b[49m\u001b[43ma\u001b[49m\u001b[43m)\u001b[49m\n",
      "\u001b[0;31mValueError\u001b[0m: invalid literal for int() with base 10: 'hansa'"
     ]
    }
   ],
   "source": [
    "a = \"hansa\"\n",
    "int(a)"
   ]
  },
  {
   "cell_type": "code",
   "execution_count": 17,
   "id": "7a160cdf-f2fc-441e-8157-6071c988b7ae",
   "metadata": {},
   "outputs": [
    {
     "name": "stdout",
     "output_type": "stream",
     "text": [
      "invalid literal for int() with base 10: 'hansa'\n"
     ]
    }
   ],
   "source": [
    "try:\n",
    "    int(a)\n",
    "except ValueError as ve:\n",
    "    print(ve)"
   ]
  },
  {
   "cell_type": "code",
   "execution_count": 37,
   "id": "4b782f86-490f-455a-a319-ae930bdac6c1",
   "metadata": {},
   "outputs": [],
   "source": [
    "file_name = '/home/jovyan/work/Python Basics - 19th Aug & 20th Aug/pro/sample2.txt'"
   ]
  },
  {
   "cell_type": "code",
   "execution_count": 40,
   "id": "cbaebe27-475f-4c4d-aa36-347c8f23a031",
   "metadata": {},
   "outputs": [
    {
     "data": {
      "text/plain": [
       "'Google LLC (/ˈɡuːɡəl/ ⓘ) is an American multinational technology company focusing on artificial intelligence,[9] online advertising, search engine technology, cloud computing, computer software, quantum computing, e-commerce, and consumer electronics. It has been referred to as \"the most powerful company in the world\"[10] and as one of the world\\'s most valuable brands due to its market dominance, data collection, and technological advantages in the field of artificial intelligence.[11][12][13] Alongside Amazon, Apple Inc., Meta Platforms, and Microsoft, Google\\'s parent company Alphabet Inc. is one of the five Big Tech companies.'"
      ]
     },
     "execution_count": 40,
     "metadata": {},
     "output_type": "execute_result"
    }
   ],
   "source": [
    "f = open(file_name)\n",
    "f.read()"
   ]
  },
  {
   "cell_type": "code",
   "execution_count": 34,
   "id": "4091fa72-450d-472f-b58f-27ee953347f5",
   "metadata": {},
   "outputs": [
    {
     "name": "stdout",
     "output_type": "stream",
     "text": [
      "total 1012\n",
      "-rw-r--r-- 1 jovyan users  10744 Oct  5 15:30 'Exception Handling and Logging.ipynb'\n",
      "-rw-r--r-- 1 jovyan users  43262 Oct  5 03:24 'For Loop Functions and Recursions.ipynb'\n",
      "-rw-r--r-- 1 jovyan users  22471 Oct  1 11:43 'Function Arguments.ipynb'\n",
      "-rw-r--r-- 1 jovyan users  29823 Sep 26 14:45  Functions.ipynb\n",
      "-rw-r--r-- 1 jovyan users  10980 Oct  1 15:31 'Map, Reduce, Filter - Functional Programming.ipynb'\n",
      "-rw-r--r-- 1 jovyan users  21026 Sep 18 05:06  Operators.ipynb\n",
      "-rw-r--r-- 1 jovyan users   4388 Sep 18 05:12 'Pattern Programmings.ipynb'\n",
      "drwxr-xr-x 3 jovyan users   4096 Oct  5 15:27  \u001b[0m\u001b[01;34mpro\u001b[0m/\n",
      "-rw-r--r-- 1 jovyan users  11486 Sep 13 16:36  python_basics_variables_cont.ipynb\n",
      "-rw-r--r-- 1 jovyan users  21900 Sep 13 16:29  python_basics_variables.ipynb\n",
      "-rw-r--r-- 1 jovyan users  85765 Sep 15 03:34  python_data_types.ipynb\n",
      "-rw-r--r-- 1 jovyan users  23674 Oct  1 11:43  Recap.ipynb\n",
      "-rw-r--r-- 1 jovyan users 673838 Oct  5 03:20  sample.txt\n",
      "-rw-r--r-- 1 jovyan users  22267 Oct  5 03:25  Untitled.ipynb\n",
      "-rw-r--r-- 1 jovyan users  22371 Oct  4 14:23 'While Loop & Break.ipynb'\n"
     ]
    }
   ],
   "source": [
    "ls -l"
   ]
  },
  {
   "cell_type": "code",
   "execution_count": 36,
   "id": "481f1681-0e03-42b0-8fd1-e58e14f21d46",
   "metadata": {},
   "outputs": [
    {
     "data": {
      "text/plain": [
       "'/home/jovyan/work/Python Basics - 19th Aug & 20th Aug'"
      ]
     },
     "execution_count": 36,
     "metadata": {},
     "output_type": "execute_result"
    }
   ],
   "source": [
    "pwd"
   ]
  },
  {
   "cell_type": "code",
   "execution_count": 42,
   "id": "002e1080-b1b2-44eb-a6a4-4dc6b5e86c49",
   "metadata": {},
   "outputs": [
    {
     "name": "stdin",
     "output_type": "stream",
     "text": [
      "Enter a number:  q\n"
     ]
    },
    {
     "name": "stdout",
     "output_type": "stream",
     "text": [
      "User has entered either invalid input or entered 0\n"
     ]
    }
   ],
   "source": [
    "try:\n",
    "    n = int(input(\"Enter a number: \"))\n",
    "    d = 123/n\n",
    "    print(d)\n",
    "except (ValueError, ZeroDivisionError) as ex:\n",
    "    print(\"User has entered either invalid input or entered 0\")"
   ]
  },
  {
   "cell_type": "code",
   "execution_count": 43,
   "id": "21c49b7a-45d5-4efb-92df-638207994c46",
   "metadata": {},
   "outputs": [
    {
     "name": "stdin",
     "output_type": "stream",
     "text": [
      "Enter a number:  h\n"
     ]
    },
    {
     "name": "stdout",
     "output_type": "stream",
     "text": [
      "User has entered either invalid input invalid literal for int() with base 10: 'h'\n"
     ]
    }
   ],
   "source": [
    "try:\n",
    "    try:\n",
    "        n = int(input(\"Enter a number: \"))\n",
    "        d = 123/n\n",
    "        print(d)\n",
    "    except ZeroDivisionError as ex:\n",
    "        print(\"User entered Zero\", ex)\n",
    "except ValueError as ex:\n",
    "    print(\"User has entered either invalid input\", ex)"
   ]
  },
  {
   "cell_type": "code",
   "execution_count": 44,
   "id": "d9f14016-5a43-416b-bed8-261f8e04a2bc",
   "metadata": {},
   "outputs": [
    {
     "name": "stdin",
     "output_type": "stream",
     "text": [
      "Enter a number:  1\n"
     ]
    },
    {
     "name": "stdout",
     "output_type": "stream",
     "text": [
      "123.0\n",
      "123.0\n"
     ]
    }
   ],
   "source": [
    "try:\n",
    "    try:\n",
    "        n = int(input(\"Enter a number: \"))\n",
    "        d = 123/n\n",
    "        print(d)\n",
    "    except ZeroDivisionError as ex:\n",
    "        print(\"User entered Zero\", ex)\n",
    "except ValueError as ex:\n",
    "    print(\"User has entered either invalid input\", ex)\n",
    "else:\n",
    "    print(d)"
   ]
  },
  {
   "cell_type": "code",
   "execution_count": 50,
   "id": "51805943-988a-4a6e-bfed-57df5266f8fd",
   "metadata": {},
   "outputs": [],
   "source": [
    "file_name = '/home/jovyan/work/Python Basics - 19th Aug & 20th Aug/pro/sample2.txt'"
   ]
  },
  {
   "cell_type": "code",
   "execution_count": 51,
   "id": "4de40293-83a4-4d61-b2ea-7a2b2897bc05",
   "metadata": {},
   "outputs": [],
   "source": [
    "f = open(file_name)"
   ]
  },
  {
   "cell_type": "code",
   "execution_count": 52,
   "id": "2688a00e-d831-4c2d-9099-78460727596f",
   "metadata": {},
   "outputs": [
    {
     "data": {
      "text/plain": [
       "<_io.TextIOWrapper name='/home/jovyan/work/Python Basics - 19th Aug & 20th Aug/pro/sample2.txt' mode='r' encoding='UTF-8'>"
      ]
     },
     "execution_count": 52,
     "metadata": {},
     "output_type": "execute_result"
    }
   ],
   "source": [
    "f"
   ]
  },
  {
   "cell_type": "code",
   "execution_count": 53,
   "id": "abea9e36-8d3b-4214-9bcc-40d53d7d3c0b",
   "metadata": {},
   "outputs": [
    {
     "data": {
      "text/plain": [
       "'Google LLC (/ˈɡuːɡəl/ ⓘ) is an American multinational technology \\ncompany focusing on artificial intelligence,[9] online advertising, search engine technology, cloud computing, \\ncomputer software, quantum computing, e-commerce, and consumer electronics. It has been referred to as \"the most powerful company in the world\"[10] \\nand as one of the world\\'s most valuable brands due to its market dominance, data collection, and technological advantages in the field of artificial intelligence.\\n[11][12][13] Alongside Amazon, Apple Inc., Meta Platforms, and Microsoft, Google\\'s parent company Alphabet Inc. is one of the five Big Tech companies.'"
      ]
     },
     "execution_count": 53,
     "metadata": {},
     "output_type": "execute_result"
    }
   ],
   "source": [
    "f.read()"
   ]
  },
  {
   "cell_type": "code",
   "execution_count": 54,
   "id": "bca7b143-2681-454e-9009-1bf7023d6219",
   "metadata": {},
   "outputs": [],
   "source": [
    "f.close()"
   ]
  },
  {
   "cell_type": "code",
   "execution_count": 55,
   "id": "673cd6f8-3aa2-4211-8532-b375e02ab353",
   "metadata": {},
   "outputs": [],
   "source": [
    "file_name = '/home/jovyan/work/Python Basics - 19th Aug & 20th Aug/pro/sample2.txt'\n"
   ]
  },
  {
   "cell_type": "code",
   "execution_count": 56,
   "id": "990dca8f-7522-43cf-963d-7b1aa42c7633",
   "metadata": {},
   "outputs": [],
   "source": [
    "f = open(file_name)"
   ]
  },
  {
   "cell_type": "code",
   "execution_count": 57,
   "id": "9aaa1dee-33eb-42ce-9ec3-eed93c71b4c4",
   "metadata": {},
   "outputs": [
    {
     "ename": "UnsupportedOperation",
     "evalue": "not writable",
     "output_type": "error",
     "traceback": [
      "\u001b[0;31m---------------------------------------------------------------------------\u001b[0m",
      "\u001b[0;31mUnsupportedOperation\u001b[0m                      Traceback (most recent call last)",
      "Cell \u001b[0;32mIn[57], line 1\u001b[0m\n\u001b[0;32m----> 1\u001b[0m \u001b[43mf\u001b[49m\u001b[38;5;241;43m.\u001b[39;49m\u001b[43mwrite\u001b[49m\u001b[43m(\u001b[49m\u001b[38;5;124;43m\"\u001b[39;49m\u001b[38;5;124;43mAs\u001b[39;49m\u001b[38;5;124;43m\"\u001b[39;49m\u001b[43m)\u001b[49m\n",
      "\u001b[0;31mUnsupportedOperation\u001b[0m: not writable"
     ]
    }
   ],
   "source": [
    "f.write(\"As\")"
   ]
  },
  {
   "cell_type": "code",
   "execution_count": 58,
   "id": "d0a721f4-9304-4f83-8725-5bf08260a406",
   "metadata": {},
   "outputs": [],
   "source": [
    "f.close()"
   ]
  },
  {
   "cell_type": "code",
   "execution_count": 59,
   "id": "9f046462-eb3f-446a-80e3-3ef35dc3bed5",
   "metadata": {},
   "outputs": [
    {
     "data": {
      "text/plain": [
       "<_io.TextIOWrapper name='/home/jovyan/work/Python Basics - 19th Aug & 20th Aug/pro/sample2.txt' mode='r' encoding='UTF-8'>"
      ]
     },
     "execution_count": 59,
     "metadata": {},
     "output_type": "execute_result"
    }
   ],
   "source": [
    "f"
   ]
  },
  {
   "cell_type": "code",
   "execution_count": 2,
   "id": "54435f38-60b2-44eb-8060-91fb47a035f7",
   "metadata": {},
   "outputs": [
    {
     "name": "stdout",
     "output_type": "stream",
     "text": [
      "Google LLC (/ˈɡuːɡəl/ ⓘ) is an American multinational technology \n",
      "company focusing on artificial intelligence,[9] online advertising, search engine technology, cloud computing, \n",
      "computer software, quantum computing, e-commerce, and consumer electronics. It has been referred to as \"the most powerful company in the world\"[10] \n",
      "and as one of the world's most valuable brands due to its market dominance, data collection, and technological advantages in the field of artificial intelligence.\n",
      "[11][12][13] Alongside Amazon, Apple Inc., Meta Platforms, and Microsoft, Google's parent company Alphabet Inc. is one of the five Big Tech companies.\n",
      "File is Closed\n"
     ]
    }
   ],
   "source": [
    "try:\n",
    "    file_name = '/home/jovyan/work/Python Basics - 19th Aug & 20th Aug/pro/sample2.txt'\n",
    "    f = open(file_name)\n",
    "    data = f.read()\n",
    "except Exception as ex:\n",
    "    print(\"There is some issue! \", ex)\n",
    "else:\n",
    "    print(data)\n",
    "finally:\n",
    "    f.close()\n",
    "    print(\"File is Closed\")"
   ]
  },
  {
   "cell_type": "code",
   "execution_count": 2,
   "id": "aa9b2505-2433-46e1-aef1-bcaf8ab30834",
   "metadata": {},
   "outputs": [
    {
     "name": "stdout",
     "output_type": "stream",
     "text": [
      "There is some issue!  TextIOWrapper.write() takes exactly one argument (0 given) \n",
      "\n",
      "\n",
      "File is Closed\n"
     ]
    }
   ],
   "source": [
    "try:\n",
    "    file_name = '/home/jovyan/work/Python Basics - 19th Aug & 20th Aug/pro/sample2.txt'\n",
    "    f = open(file_name)\n",
    "    data = f.write()\n",
    "except Exception as ex:\n",
    "    print(\"There is some issue! \", ex, \"\\n\")\n",
    "else:\n",
    "    print(data)\n",
    "finally:\n",
    "    try:\n",
    "        print(data)\n",
    "    except Exception as ex:\n",
    "        pass\n",
    "    f.close()\n",
    "    print(\"\\nFile is Closed\")"
   ]
  },
  {
   "cell_type": "markdown",
   "id": "59b96815-8091-47ed-b848-7aca9757c618",
   "metadata": {},
   "source": [
    "# Custom Exceptions"
   ]
  },
  {
   "cell_type": "code",
   "execution_count": 3,
   "id": "fd1141b2-c9cb-4f2a-b43a-2a5b715c7159",
   "metadata": {},
   "outputs": [
    {
     "name": "stdin",
     "output_type": "stream",
     "text": [
      "Enter the height of the wall:  -10\n"
     ]
    }
   ],
   "source": [
    "a = int(input(\"Enter the height of the wall: \"))"
   ]
  },
  {
   "cell_type": "code",
   "execution_count": 5,
   "id": "484b34ed-600b-4336-a3c8-a14df24c986d",
   "metadata": {},
   "outputs": [
    {
     "name": "stdin",
     "output_type": "stream",
     "text": [
      "Enter the height of the wall:  -10\n"
     ]
    },
    {
     "name": "stdout",
     "output_type": "stream",
     "text": [
      "Entered height is Negative!\n"
     ]
    }
   ],
   "source": [
    "try:\n",
    "    a = int(input(\"Enter the height of the wall: \"))\n",
    "    if a < 0:\n",
    "        raise ValueError(\"Entered height is Negative!\")\n",
    "except ValueError as v:\n",
    "    print(v)"
   ]
  },
  {
   "cell_type": "code",
   "execution_count": 8,
   "id": "3fc2864e-00c7-4f9d-910e-bdabe880d689",
   "metadata": {},
   "outputs": [
    {
     "name": "stdin",
     "output_type": "stream",
     "text": [
      "Enter your age:  19\n"
     ]
    },
    {
     "name": "stdout",
     "output_type": "stream",
     "text": [
      "Valid User!\n"
     ]
    }
   ],
   "source": [
    "try:\n",
    "    age = int(input(\"Enter your age: \"))\n",
    "    if age < 0:\n",
    "        raise ValueError(\"User has entered a negative age which is invalid\")\n",
    "    elif age < 18:\n",
    "        print(\"User is underage\") \n",
    "    else:\n",
    "        print(\"Valid User!\")\n",
    "        \n",
    "except ValueError as ve:\n",
    "    print(ve)"
   ]
  },
  {
   "cell_type": "markdown",
   "id": "ef0b480f-c6f3-4361-aa32-4b4c1619ede9",
   "metadata": {},
   "source": [
    "# Logging"
   ]
  },
  {
   "cell_type": "code",
   "execution_count": 1,
   "id": "be8c5d65-8e0a-4d59-b7fb-4fba79229111",
   "metadata": {},
   "outputs": [],
   "source": [
    "import logging"
   ]
  },
  {
   "cell_type": "code",
   "execution_count": 2,
   "id": "92699d38-5a6b-4ca2-8f10-9e5ef94882a2",
   "metadata": {},
   "outputs": [],
   "source": [
    "logging.basicConfig(filename=\"sample_test.log\", filemode=\"a\", level=logging.INFO, format='%(asctime)s-%(levelname)s-%(message)s') # create a file at particular time"
   ]
  },
  {
   "cell_type": "code",
   "execution_count": 3,
   "id": "e8b50cd4-e5a9-4ef4-9b4b-3ca7cb128355",
   "metadata": {},
   "outputs": [],
   "source": [
    "logging.info(\"This is a sample Logger information!\")"
   ]
  },
  {
   "cell_type": "code",
   "execution_count": 4,
   "id": "6ed918bb-794d-43bd-b21a-9e6d5ab8a72a",
   "metadata": {},
   "outputs": [],
   "source": [
    "logging.debug(\"This is a sample Debug information!\")"
   ]
  },
  {
   "cell_type": "code",
   "execution_count": 5,
   "id": "a7e2e453-872f-41fd-93d5-86180aa59ffa",
   "metadata": {},
   "outputs": [],
   "source": [
    "logging.warning(\"This is a sample warning information!\")"
   ]
  },
  {
   "cell_type": "code",
   "execution_count": 6,
   "id": "a0588a0e-c4d6-4d7a-9901-52f2dd81046e",
   "metadata": {},
   "outputs": [],
   "source": [
    "logging.error(\"This is a sample error information!\")"
   ]
  },
  {
   "cell_type": "code",
   "execution_count": 7,
   "id": "f5c2ded3-1192-43af-a5f7-da4cbca94764",
   "metadata": {},
   "outputs": [],
   "source": [
    "logging.critical(\"This is a sample critica information!\")"
   ]
  },
  {
   "cell_type": "code",
   "execution_count": null,
   "id": "41772274-6ab2-4fd7-8633-4a95c0d0c325",
   "metadata": {},
   "outputs": [],
   "source": []
  },
  {
   "cell_type": "code",
   "execution_count": null,
   "id": "b14ed5da-d0e0-43f6-850e-c6e643529ac0",
   "metadata": {},
   "outputs": [],
   "source": []
  },
  {
   "cell_type": "code",
   "execution_count": null,
   "id": "3a21f8d9-ebbc-419c-a74b-50da4d22c99b",
   "metadata": {},
   "outputs": [],
   "source": []
  },
  {
   "cell_type": "code",
   "execution_count": null,
   "id": "6015973f-3295-4f45-9b7c-1343f4fe3ff9",
   "metadata": {},
   "outputs": [],
   "source": []
  },
  {
   "cell_type": "code",
   "execution_count": null,
   "id": "1dc71830-cc5d-4a00-bf7a-34a3628981e0",
   "metadata": {},
   "outputs": [],
   "source": []
  },
  {
   "cell_type": "code",
   "execution_count": null,
   "id": "5554e75d-ff13-4fa7-b64e-cecf7ea14bef",
   "metadata": {},
   "outputs": [],
   "source": []
  },
  {
   "cell_type": "code",
   "execution_count": null,
   "id": "4b955294-8a76-4960-8486-7fa4ff09111e",
   "metadata": {},
   "outputs": [],
   "source": []
  },
  {
   "cell_type": "code",
   "execution_count": 10,
   "id": "cebebe08-0bfb-4ce2-a486-5ae504268b61",
   "metadata": {},
   "outputs": [],
   "source": [
    "# from GFG\n"
   ]
  },
  {
   "cell_type": "code",
   "execution_count": 34,
   "id": "d47d4922-c1f8-4550-a0de-151f0a4c0aa4",
   "metadata": {},
   "outputs": [],
   "source": [
    "# # importing module\n",
    "# import logging\n",
    "\n",
    "# # Create and configure logger\n",
    "# logging.basicConfig(filename=\"newfile.log\",\n",
    "#                     format='%(asctime)s %(message)s',\n",
    "#                     filemode='w')\n",
    "\n",
    "# # Creating an object\n",
    "# logger = logging.getLogger()\n",
    " \n",
    "# # Setting the threshold of logger to DEBUG\n",
    "# logger.setLevel(logging.DEBUG)\n",
    " \n",
    "# # Test messages\n",
    "# logger.debug(\"Harmless debug Message\")\n",
    "# logger.info(\"Just an information\")\n",
    "# logger.warning(\"Its a Warning\")\n",
    "# logger.error(\"Did you try to divide by zero\")\n",
    "# logger.critical(\"Internet is down\")"
   ]
  },
  {
   "cell_type": "code",
   "execution_count": 35,
   "id": "36d85139-7f5d-4b8f-9e88-f1052c1b9ad8",
   "metadata": {},
   "outputs": [],
   "source": []
  },
  {
   "cell_type": "code",
   "execution_count": 36,
   "id": "9968ac3e-503f-412e-81d0-2f5e34f7104a",
   "metadata": {},
   "outputs": [],
   "source": []
  },
  {
   "cell_type": "code",
   "execution_count": null,
   "id": "47ea9890-4f5f-4dea-ba9f-0b64d38bedd8",
   "metadata": {},
   "outputs": [],
   "source": []
  }
 ],
 "metadata": {
  "kernelspec": {
   "display_name": "Python 3 (ipykernel)",
   "language": "python",
   "name": "python3"
  },
  "language_info": {
   "codemirror_mode": {
    "name": "ipython",
    "version": 3
   },
   "file_extension": ".py",
   "mimetype": "text/x-python",
   "name": "python",
   "nbconvert_exporter": "python",
   "pygments_lexer": "ipython3",
   "version": "3.10.8"
  }
 },
 "nbformat": 4,
 "nbformat_minor": 5
}
