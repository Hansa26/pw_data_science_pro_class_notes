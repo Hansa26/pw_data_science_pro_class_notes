{
 "cells": [
  {
   "cell_type": "markdown",
   "id": "536395a8-2a15-4635-867a-a0c5eca562b6",
   "metadata": {},
   "source": [
    "# break, continue, pass"
   ]
  },
  {
   "cell_type": "code",
   "execution_count": 2,
   "id": "dd703ff1-33ad-415a-90bc-dd0f499b75bf",
   "metadata": {},
   "outputs": [
    {
     "name": "stdout",
     "output_type": "stream",
     "text": [
      "Zero\n",
      "This always prints\n"
     ]
    }
   ],
   "source": [
    "num = 0\n",
    "\n",
    "if num > 0:\n",
    "    print(\"Positive number\")\n",
    "elif num == 0:\n",
    "    print(\"Zero\")\n",
    "else:\n",
    "    print(\"Negative number\")\n",
    "    \n",
    "print(\"This always prints\")"
   ]
  },
  {
   "cell_type": "code",
   "execution_count": 3,
   "id": "7eb23242-13c8-4781-8e5c-b1e84875bdf7",
   "metadata": {},
   "outputs": [
    {
     "name": "stdout",
     "output_type": "stream",
     "text": [
      "1\n",
      "2\n",
      "3\n",
      "4\n",
      "5\n"
     ]
    }
   ],
   "source": [
    "for i in range(1, 6):\n",
    "    print(i)"
   ]
  },
  {
   "cell_type": "code",
   "execution_count": 8,
   "id": "aa5d024d-7b3a-4148-961f-c442ed11903d",
   "metadata": {},
   "outputs": [
    {
     "name": "stdout",
     "output_type": "stream",
     "text": [
      "Today is  mon\n",
      "Today is  tue\n",
      "Today is  wed\n",
      "Today is  thur\n",
      "Today is  fri\n",
      "Today is  sat\n",
      "Today is  sun\n"
     ]
    }
   ],
   "source": [
    "days = 0\n",
    "week = ['mon', 'tue', 'wed', 'thur', 'fri', 'sat', 'sun']\n",
    "\n",
    "while days < 7:\n",
    "    print(\"Today is \", week[days])\n",
    "    days += 1"
   ]
  },
  {
   "cell_type": "markdown",
   "id": "8f216841-7bdf-4248-af30-d107cd6c8044",
   "metadata": {},
   "source": [
    "# break"
   ]
  },
  {
   "cell_type": "code",
   "execution_count": 9,
   "id": "877dc6c7-2f61-4413-a590-3dc53ab08830",
   "metadata": {},
   "outputs": [
    {
     "data": {
      "text/plain": [
       "['I', 'write', 'code']"
      ]
     },
     "execution_count": 9,
     "metadata": {},
     "output_type": "execute_result"
    }
   ],
   "source": [
    "text = \"I write code\"\n",
    "text.split()"
   ]
  },
  {
   "cell_type": "code",
   "execution_count": 10,
   "id": "d2beb7bf-883c-44b9-928d-7e19eaceccca",
   "metadata": {},
   "outputs": [
    {
     "name": "stdin",
     "output_type": "stream",
     "text": [
      "Enter three word message! welcome to pwskills\n"
     ]
    }
   ],
   "source": [
    "x = input(\"Enter three word message!\")"
   ]
  },
  {
   "cell_type": "code",
   "execution_count": 12,
   "id": "463b9ea3-2660-40a8-b9d2-f5cca5883dd4",
   "metadata": {},
   "outputs": [],
   "source": [
    "word1, word2, word3 = x.split()"
   ]
  },
  {
   "cell_type": "code",
   "execution_count": 15,
   "id": "f3ec4aa7-ed2a-4d09-8f8c-5b4f4c8b62ad",
   "metadata": {},
   "outputs": [
    {
     "name": "stdout",
     "output_type": "stream",
     "text": [
      "welcome\n",
      "to\n",
      "pwskills\n"
     ]
    }
   ],
   "source": [
    "print(word1)\n",
    "print(word2)\n",
    "print(word3)"
   ]
  },
  {
   "cell_type": "code",
   "execution_count": 20,
   "id": "5fd2d44e-92f4-4adf-959e-726d61411a7c",
   "metadata": {},
   "outputs": [
    {
     "name": "stdin",
     "output_type": "stream",
     "text": [
      "Enter three numbers, separated by spaces:  1,2,3\n"
     ]
    },
    {
     "name": "stdout",
     "output_type": "stream",
     "text": [
      "6\n",
      "2\n",
      "3\n"
     ]
    }
   ],
   "source": [
    "a, b, c = input(\"Enter three numbers, separated by spaces: \").split(',')\n",
    "\n",
    "print(int(a) + int(b) + int(c))\n",
    "print(b)\n",
    "print(c)"
   ]
  },
  {
   "cell_type": "code",
   "execution_count": 22,
   "id": "0c6466f0-1bb7-4b1e-bd6f-a718c2118973",
   "metadata": {},
   "outputs": [
    {
     "name": "stdin",
     "output_type": "stream",
     "text": [
      "Enter the Roll number, Name and Percentage (Separated by comma): 1VI14IS028, Hansa S, 79.99%\n"
     ]
    },
    {
     "name": "stdout",
     "output_type": "stream",
     "text": [
      "Roll Number: 1VI14IS028\n",
      "Name:  Hansa S\n",
      "Percentage:  79.99%\n"
     ]
    }
   ],
   "source": [
    "roll, name, percent = input(\"Enter the Roll number, Name and Percentage (Separated by comma):\").split(',')\n",
    "\n",
    "\n",
    "print(\"Roll Number:\", roll)\n",
    "print(\"Name:\", name)\n",
    "print(\"Percentage:\", percent)"
   ]
  },
  {
   "cell_type": "code",
   "execution_count": 24,
   "id": "3e65503d-92c0-44ff-bb67-7e1a5f5a4ef7",
   "metadata": {},
   "outputs": [
    {
     "name": "stdout",
     "output_type": "stream",
     "text": [
      "['A', 'B', 'C D E F']\n"
     ]
    }
   ],
   "source": [
    "s1 = \"A B C D E F\"\n",
    "print(s1.split(' ', 2))"
   ]
  },
  {
   "cell_type": "code",
   "execution_count": 27,
   "id": "ac15d4c4-1f20-4cb1-affc-61f86326443c",
   "metadata": {},
   "outputs": [
    {
     "data": {
      "text/plain": [
       "'Hi@Hi@Hi@Hi@Hi@Hi'"
      ]
     },
     "execution_count": 27,
     "metadata": {},
     "output_type": "execute_result"
    }
   ],
   "source": [
    "s2 = \"Hi@\"*5 + 'Hi'\n",
    "s2"
   ]
  },
  {
   "cell_type": "code",
   "execution_count": 28,
   "id": "d4d677bf-5910-4ff8-a992-2589ad7a3f67",
   "metadata": {},
   "outputs": [
    {
     "data": {
      "text/plain": [
       "['Hi', 'Hi', 'Hi', 'Hi', 'Hi', 'Hi']"
      ]
     },
     "execution_count": 28,
     "metadata": {},
     "output_type": "execute_result"
    }
   ],
   "source": [
    "s2.split('@')"
   ]
  },
  {
   "cell_type": "code",
   "execution_count": 32,
   "id": "f2f14579-1194-4297-a1fd-6212354fc19a",
   "metadata": {},
   "outputs": [
    {
     "data": {
      "text/plain": [
       "['Hi', 'Hi', 'Hi', 'Hi', 'Hi@Hi']"
      ]
     },
     "execution_count": 32,
     "metadata": {},
     "output_type": "execute_result"
    }
   ],
   "source": [
    "s2.split('@', 4) "
   ]
  },
  {
   "cell_type": "code",
   "execution_count": null,
   "id": "a394e036-9cf3-4c27-8129-771fa150abfb",
   "metadata": {},
   "outputs": [],
   "source": [
    "s2.split"
   ]
  },
  {
   "cell_type": "raw",
   "id": "d7bc6823-9871-4257-984b-551ba5a276e7",
   "metadata": {},
   "source": [
    "Signature: s2.split(sep=None, maxsplit=-1)\n",
    "Docstring:\n",
    "Return a list of the substrings in the string, using sep as the separator string.\n",
    "\n",
    "  sep\n",
    "    The separator used to split the string.\n",
    "\n",
    "    When set to None (the default value), will split on any whitespace\n",
    "    character (including \\\\n \\\\r \\\\t \\\\f and spaces) and will discard\n",
    "    empty strings from the result.\n",
    "  maxsplit\n",
    "    Maximum number of splits (starting from the left).\n",
    "    -1 (the default value) means no limit.\n",
    "\n",
    "Note, str.split() is mainly useful for data that has been intentionally\n",
    "delimited.  With natural text that includes punctuation, consider using\n",
    "the regular expression module.\n",
    "Type:      builtin_function_or_method"
   ]
  },
  {
   "cell_type": "markdown",
   "id": "eecf05e7-b5ae-42c0-b3ae-47abf58e7da1",
   "metadata": {},
   "source": [
    "# break"
   ]
  },
  {
   "cell_type": "code",
   "execution_count": 36,
   "id": "08fcd2b5-791f-4d25-8a72-8482c8974c57",
   "metadata": {},
   "outputs": [
    {
     "name": "stdout",
     "output_type": "stream",
     "text": [
      "letter  P\n",
      "letter  w\n",
      "letter  s\n",
      "letter  k\n",
      "letter  i\n"
     ]
    }
   ],
   "source": [
    "for ch in \"Pwskills\":\n",
    "    if ch == 'l':\n",
    "        break\n",
    "    print(\"letter \",ch)\n",
    "    "
   ]
  },
  {
   "cell_type": "code",
   "execution_count": 37,
   "id": "7aa60818-94f1-4239-9d9d-ba8cb8ce1d7b",
   "metadata": {},
   "outputs": [
    {
     "name": "stdout",
     "output_type": "stream",
     "text": [
      "0\n",
      "1\n",
      "2\n"
     ]
    }
   ],
   "source": [
    "for i in range(5):\n",
    "    if i == 3:\n",
    "        break\n",
    "    print(i)"
   ]
  },
  {
   "cell_type": "code",
   "execution_count": 39,
   "id": "d4708b3c-26b3-4bef-86ba-dac18a947a8e",
   "metadata": {},
   "outputs": [
    {
     "data": {
      "text/plain": [
       "[0, 2, 4, 6, 8]"
      ]
     },
     "execution_count": 39,
     "metadata": {},
     "output_type": "execute_result"
    }
   ],
   "source": [
    "list(range(0, 10, 2))"
   ]
  },
  {
   "cell_type": "code",
   "execution_count": 42,
   "id": "fe1eec65-f5ed-4f81-b22d-8a46d7589552",
   "metadata": {},
   "outputs": [
    {
     "name": "stdout",
     "output_type": "stream",
     "text": [
      "1\n",
      "2\n",
      "3\n",
      "4\n",
      "5\n",
      "6\n"
     ]
    }
   ],
   "source": [
    "i = 1\n",
    "while i <= 10:\n",
    "    print(i)\n",
    "    if i > 5:\n",
    "        break\n",
    "    i +=1"
   ]
  },
  {
   "cell_type": "code",
   "execution_count": 43,
   "id": "748dcbed-1bd6-42e9-a64c-5561a499f0c2",
   "metadata": {},
   "outputs": [
    {
     "name": "stdout",
     "output_type": "stream",
     "text": [
      "The current number is  10\n",
      "The current number is  20\n",
      "The current number is  30\n",
      "The current number is  40\n",
      "The current number is  50\n",
      "The current number is  60\n",
      "The current number is  70\n",
      "The current number is  80\n",
      "The current number is  90\n",
      "The current number is  100\n"
     ]
    }
   ],
   "source": [
    "numbers = list(range(10, 200, 10))\n",
    "\n",
    "for i in numbers:\n",
    "    if i > 100:\n",
    "        break\n",
    "    print(\"The current number is \", i)"
   ]
  },
  {
   "cell_type": "code",
   "execution_count": 44,
   "id": "dd28c4d0-7586-4def-bfa7-4e6259ff816e",
   "metadata": {},
   "outputs": [
    {
     "name": "stdout",
     "output_type": "stream",
     "text": [
      "H\n",
      "e\n",
      "l\n",
      "l\n",
      "o\n"
     ]
    }
   ],
   "source": [
    "s = \"Hello, World\"\n",
    "for ch in s:\n",
    "    if ch == ',':\n",
    "        break\n",
    "    print(ch)"
   ]
  },
  {
   "cell_type": "code",
   "execution_count": 46,
   "id": "4d19f8eb-9623-4cfd-a4eb-2075f765f220",
   "metadata": {},
   "outputs": [
    {
     "name": "stdout",
     "output_type": "stream",
     "text": [
      "P\n",
      "w\n",
      "s\n",
      "k\n",
      "l\n",
      "l\n",
      "s\n"
     ]
    }
   ],
   "source": [
    "for ch in \"Pwskills\":\n",
    "    if ch == 'i':\n",
    "        continue\n",
    "    print(ch)"
   ]
  },
  {
   "cell_type": "code",
   "execution_count": 47,
   "id": "4272d2bf-bd8b-4b3b-8583-28ff8c141664",
   "metadata": {},
   "outputs": [
    {
     "name": "stdout",
     "output_type": "stream",
     "text": [
      "0\n",
      "1\n",
      "2\n",
      "4\n"
     ]
    }
   ],
   "source": [
    "for i in range(5):\n",
    "    if i == 3:\n",
    "        continue\n",
    "    print(i)"
   ]
  },
  {
   "cell_type": "code",
   "execution_count": 48,
   "id": "9fb93435-c72b-4fc5-a8f9-830b87bd5187",
   "metadata": {},
   "outputs": [
    {
     "name": "stdout",
     "output_type": "stream",
     "text": [
      "1\n",
      "3\n",
      "5\n",
      "7\n",
      "9\n"
     ]
    }
   ],
   "source": [
    "# WAP to print odd numbers from 1, to 10\n",
    "\n",
    "for i in range(1, 10+1):\n",
    "    if i % 2 == 0:\n",
    "        continue\n",
    "    print(i)"
   ]
  },
  {
   "cell_type": "code",
   "execution_count": 49,
   "id": "d4a23ba2-f928-4073-8713-019069787e7b",
   "metadata": {},
   "outputs": [
    {
     "name": "stdout",
     "output_type": "stream",
     "text": [
      "hello\n"
     ]
    }
   ],
   "source": [
    "n = 10\n",
    "if n  > 10:\n",
    "    pass\n",
    "print('hello')"
   ]
  },
  {
   "cell_type": "code",
   "execution_count": 50,
   "id": "b3df3397-89cb-4c0a-8e82-0913462dd547",
   "metadata": {},
   "outputs": [
    {
     "name": "stdout",
     "output_type": "stream",
     "text": [
      "Guru\n"
     ]
    }
   ],
   "source": [
    "for i in range(5):\n",
    "    pass\n",
    "print(\"Guru\")"
   ]
  },
  {
   "cell_type": "code",
   "execution_count": 52,
   "id": "d3f434d0-3eb7-41fe-a58b-0d96e40a8e44",
   "metadata": {},
   "outputs": [
    {
     "name": "stdout",
     "output_type": "stream",
     "text": [
      "P\n",
      "w\n",
      "s\n",
      "k\n",
      "i\n",
      "l\n",
      "l\n",
      "s\n"
     ]
    }
   ],
   "source": [
    "for ch in \"Pwskills\":\n",
    "    if ch == 'k':\n",
    "        pass\n",
    "    print(ch)"
   ]
  },
  {
   "cell_type": "markdown",
   "id": "d7803b39-94bf-4172-bffb-547a59f3a169",
   "metadata": {},
   "source": [
    "# Functions"
   ]
  },
  {
   "cell_type": "code",
   "execution_count": 5,
   "id": "dfb620b4-fc0f-49e7-bfb9-1a36d7e1579b",
   "metadata": {},
   "outputs": [],
   "source": [
    "def addition(a, b):\n",
    "    return a + b\n",
    "\n"
   ]
  },
  {
   "cell_type": "code",
   "execution_count": 6,
   "id": "f73a7a99-a5aa-41d6-909c-1324534aa62d",
   "metadata": {},
   "outputs": [
    {
     "name": "stdout",
     "output_type": "stream",
     "text": [
      "Hello World!\n"
     ]
    }
   ],
   "source": [
    "def greet():\n",
    "    print(\"Hello World!\")\n",
    "    \n",
    "greet()"
   ]
  },
  {
   "cell_type": "code",
   "execution_count": 7,
   "id": "d619cfd5-0044-4f4f-8e8b-0bc474d23a0c",
   "metadata": {},
   "outputs": [
    {
     "data": {
      "text/plain": [
       "30"
      ]
     },
     "execution_count": 7,
     "metadata": {},
     "output_type": "execute_result"
    }
   ],
   "source": [
    "addition(10, 20)"
   ]
  },
  {
   "cell_type": "code",
   "execution_count": 10,
   "id": "f0f3b93d-37c2-43ad-ac73-ad1d5180e7c2",
   "metadata": {},
   "outputs": [],
   "source": [
    "def add_nums():\n",
    "    a, b = input(\"Enter two numbers (separated by comma): \").split(',')\n",
    "    print(f\"{int(a) + int(b)}\")"
   ]
  },
  {
   "cell_type": "code",
   "execution_count": 12,
   "id": "f2c5216d-79c4-42c9-a7fd-ed22c1164494",
   "metadata": {},
   "outputs": [
    {
     "name": "stdin",
     "output_type": "stream",
     "text": [
      "Enter two numbers (separated by comma):  2, 9\n"
     ]
    },
    {
     "name": "stdout",
     "output_type": "stream",
     "text": [
      "11\n"
     ]
    }
   ],
   "source": [
    "add_nums()"
   ]
  },
  {
   "cell_type": "code",
   "execution_count": 16,
   "id": "60299ee8-69e0-4fd2-8eed-c0dfe4f21fd8",
   "metadata": {},
   "outputs": [
    {
     "name": "stdout",
     "output_type": "stream",
     "text": [
      "400\n"
     ]
    }
   ],
   "source": [
    "def multiply(x, y):\n",
    "    print(x*y)\n",
    "\n",
    "multiply(100, 4)"
   ]
  },
  {
   "cell_type": "code",
   "execution_count": 17,
   "id": "c95fcd0f-bc6b-44a3-aa81-8ec655143338",
   "metadata": {},
   "outputs": [
    {
     "name": "stdout",
     "output_type": "stream",
     "text": [
      "Hi Hansa\n"
     ]
    }
   ],
   "source": [
    "def introduction(name):\n",
    "    print(\"Hi\", name)\n",
    "    \n",
    "introduction(\"Hansa\")"
   ]
  },
  {
   "cell_type": "code",
   "execution_count": 18,
   "id": "e7e016dd-3538-4dad-a633-e4ec2f0f89bf",
   "metadata": {},
   "outputs": [
    {
     "name": "stdout",
     "output_type": "stream",
     "text": [
      "Full Name:  Hansa Guruprasad\n"
     ]
    }
   ],
   "source": [
    "def name(fname, lname):\n",
    "    print(\"Full Name: \", fname + ' ' + lname)\n",
    "    \n",
    "name('Hansa', 'Guruprasad')"
   ]
  },
  {
   "cell_type": "code",
   "execution_count": 29,
   "id": "e07acc54-a698-4b8c-aa65-0de8ac7515b2",
   "metadata": {},
   "outputs": [
    {
     "data": {
      "text/plain": [
       "21"
      ]
     },
     "execution_count": 29,
     "metadata": {},
     "output_type": "execute_result"
    }
   ],
   "source": [
    "def interchange(num):\n",
    "    return  -num if num > 0 else -num\n",
    "\n",
    "interchange(-21)"
   ]
  },
  {
   "cell_type": "code",
   "execution_count": 30,
   "id": "3127788b-7788-47eb-b096-d339ee6e8a1a",
   "metadata": {},
   "outputs": [],
   "source": [
    "def always_positive(num):\n",
    "    return num if num > 0 else -num"
   ]
  },
  {
   "cell_type": "code",
   "execution_count": 33,
   "id": "826d51bd-1787-443e-84d9-34837909a7fb",
   "metadata": {},
   "outputs": [
    {
     "data": {
      "text/plain": [
       "200"
      ]
     },
     "execution_count": 33,
     "metadata": {},
     "output_type": "execute_result"
    }
   ],
   "source": [
    "always_positive(200)"
   ]
  },
  {
   "cell_type": "code",
   "execution_count": 35,
   "id": "774c9017-7124-48b1-a8df-3b9c8f8c2086",
   "metadata": {},
   "outputs": [
    {
     "name": "stdout",
     "output_type": "stream",
     "text": [
      "Hansa\n",
      "X None\n",
      "Y Guru\n"
     ]
    }
   ],
   "source": [
    "def _print(name):\n",
    "    print(name)\n",
    "def _print_(name):\n",
    "    return name\n",
    "\n",
    "x = _print('Hansa')\n",
    "print(\"X\", x)\n",
    "y = _print_('Guru')\n",
    "print(\"Y\", y)"
   ]
  },
  {
   "cell_type": "code",
   "execution_count": 40,
   "id": "ee758591-2f78-449a-8ceb-355a4b625933",
   "metadata": {},
   "outputs": [
    {
     "data": {
      "text/plain": [
       "'Sum=30, Mul=200, Sub=-10, Div=0.5'"
      ]
     },
     "execution_count": 40,
     "metadata": {},
     "output_type": "execute_result"
    }
   ],
   "source": [
    "def calculator(a, b):\n",
    "    return (f\"Sum={a+b}, Mul={a*b}, Sub={a-b}, Div={a/b}\")\n",
    "\n",
    "calculator(10, 20)"
   ]
  },
  {
   "cell_type": "code",
   "execution_count": 41,
   "id": "e2edc2ef-9d32-4ae3-b5bd-6ce1bf010789",
   "metadata": {},
   "outputs": [
    {
     "data": {
      "text/plain": [
       "28.259999999999998"
      ]
     },
     "execution_count": 41,
     "metadata": {},
     "output_type": "execute_result"
    }
   ],
   "source": [
    "def area_of_circle(r):\n",
    "    return 3.14*r*r\n",
    "\n",
    "area_of_circle(3)"
   ]
  },
  {
   "cell_type": "markdown",
   "id": "98c12051-0e09-4615-8a52-5dc56fb4d53c",
   "metadata": {},
   "source": [
    "# Questions"
   ]
  },
  {
   "cell_type": "code",
   "execution_count": 45,
   "id": "cdb17181-c034-4bec-b209-ac98fb1e05b8",
   "metadata": {},
   "outputs": [
    {
     "name": "stdout",
     "output_type": "stream",
     "text": [
      "1\n",
      "2\n",
      "3\n",
      "4\n",
      "5\n"
     ]
    }
   ],
   "source": [
    "# 1. Print the first 5 positive integers in ascending order with one number in each line\n",
    "def integer(n):\n",
    "    for i in range(1, n+1):\n",
    "        print(i)\n",
    "    return\n",
    "\n",
    "integer(5)"
   ]
  },
  {
   "cell_type": "code",
   "execution_count": 46,
   "id": "9b27a163-f0c3-470a-8e7d-56b3de6744a0",
   "metadata": {},
   "outputs": [
    {
     "name": "stdout",
     "output_type": "stream",
     "text": [
      "*\n",
      "**\n",
      "***\n",
      "****\n",
      "*****\n",
      "******\n",
      "*******\n",
      "********\n",
      "*********\n",
      "**********\n"
     ]
    }
   ],
   "source": [
    "def pattern(n):\n",
    "    for i in range(n):\n",
    "        for j in range(i+1):\n",
    "            print(\"*\", end='')\n",
    "        print()\n",
    "    return\n",
    "\n",
    "pattern(10)"
   ]
  },
  {
   "cell_type": "code",
   "execution_count": 47,
   "id": "ce3ca4e1-a390-4320-b9b0-c0c03eca66bd",
   "metadata": {},
   "outputs": [
    {
     "data": {
      "text/plain": [
       "121"
      ]
     },
     "execution_count": 47,
     "metadata": {},
     "output_type": "execute_result"
    }
   ],
   "source": [
    "def square(n):\n",
    "    return n**2\n",
    "\n",
    "square(11)"
   ]
  },
  {
   "cell_type": "code",
   "execution_count": 48,
   "id": "fb681bab-d32c-4c6f-9122-781cf35b6aaf",
   "metadata": {},
   "outputs": [
    {
     "name": "stdin",
     "output_type": "stream",
     "text": [
      "Enter two numbers spearated by comma:  1, 2\n"
     ]
    },
    {
     "data": {
      "text/plain": [
       "3"
      ]
     },
     "execution_count": 48,
     "metadata": {},
     "output_type": "execute_result"
    }
   ],
   "source": [
    "def add(a, b):\n",
    "    return a + b\n",
    "\n",
    "a, b = input(\"Enter two numbers spearated by comma: \").split(',')\n",
    "add(int(a), int(b))"
   ]
  },
  {
   "cell_type": "code",
   "execution_count": 49,
   "id": "89f47024-43a4-4f30-9400-20e6be1355a4",
   "metadata": {},
   "outputs": [
    {
     "data": {
      "text/plain": [
       "'Hansa Guruprasad'"
      ]
     },
     "execution_count": 49,
     "metadata": {},
     "output_type": "execute_result"
    }
   ],
   "source": [
    "def space(w1, w2):\n",
    "    return w1 + ' ' + w2\n",
    "\n",
    "space('Hansa', 'Guruprasad')"
   ]
  },
  {
   "cell_type": "code",
   "execution_count": 1,
   "id": "4b03fb90-b134-419d-83ec-d3df2ad6a620",
   "metadata": {},
   "outputs": [
    {
     "name": "stdin",
     "output_type": "stream",
     "text": [
      "Enter the lower limit and upper limit (separated by comma):  2, 100\n"
     ]
    },
    {
     "name": "stdout",
     "output_type": "stream",
     "text": [
      "Even numbers are: [2, 4, 6, 8, 10, 12, 14, 16, 18, 20, 22, 24, 26, 28, 30, 32, 34, 36, 38, 40, 42, 44, 46, 48, 50, 52, 54, 56, 58, 60, 62, 64, 66, 68, 70, 72, 74, 76, 78, 80, 82, 84, 86, 88, 90, 92, 94, 96, 98, 100]\n"
     ]
    }
   ],
   "source": [
    "# WAP \n",
    "\n",
    "def print_even_number(ulimit, llimit):\n",
    "    return [x for x in range(llimit, ulimit+1) if x % 2 == 0]\n",
    "\n",
    "lower, upper = input(\"Enter the lower limit and upper limit (separated by comma): \").split(',')\n",
    "\n",
    "print(f\"Even numbers are: {print_even_number(int(upper), int(lower))}\")"
   ]
  },
  {
   "cell_type": "code",
   "execution_count": 62,
   "id": "bd5362f1-586e-437b-99ea-6026d3078319",
   "metadata": {},
   "outputs": [
    {
     "name": "stdin",
     "output_type": "stream",
     "text": [
      "Enter the sides of a triangle (separated by commas) 1, 2, 3\n"
     ]
    },
    {
     "name": "stdout",
     "output_type": "stream",
     "text": [
      "NO\n"
     ]
    }
   ],
   "source": [
    "def triangle(a, b, c):\n",
    "    a_sqr = b**2 + c**2\n",
    "    \n",
    "    b_sqr = a**2 + c**2\n",
    "    \n",
    "    c_sqr = a**2 + b**2\n",
    "    \n",
    "    \n",
    "    if c**2 == c_sqr or a**2 == a_sqr or b**2 == b_sqr:\n",
    "        return True\n",
    "    return False\n",
    "\n",
    "a, b, c = input(\"Enter the sides of a triangle (separated by commas)\").split(',')\n",
    "\n",
    "if triangle(int(a), int(b), int(c)):\n",
    "    print(\"YES\")\n",
    "else:\n",
    "    print(\"NO\")"
   ]
  },
  {
   "cell_type": "code",
   "execution_count": 16,
   "id": "b5099d1c-b6b6-4fc2-b38e-494f9ae09de5",
   "metadata": {},
   "outputs": [
    {
     "name": "stdout",
     "output_type": "stream",
     "text": [
      "True\n"
     ]
    }
   ],
   "source": [
    "string = \"abcdeqwggggggggggggggggggggggggF\"\n",
    "\n",
    "def check_password(s):\n",
    "    if len(s) >= 8 and len(s) <= 32:\n",
    "        if s[0].isalpha():\n",
    "            for ch in s:\n",
    "                if ch in ['\\\\', '/', '=', ' ', \"'\", '\"']:\n",
    "                    return False\n",
    "            return True\n",
    "        else:\n",
    "            return False\n",
    "    else:\n",
    "        return False\n",
    "    \n",
    "print(f\"{check_password(string)}\")"
   ]
  },
  {
   "cell_type": "code",
   "execution_count": 2,
   "id": "6349ac4c-6f82-48b0-8dd0-8cdb245adb4f",
   "metadata": {},
   "outputs": [
    {
     "data": {
      "text/plain": [
       "13"
      ]
     },
     "execution_count": 2,
     "metadata": {},
     "output_type": "execute_result"
    }
   ],
   "source": [
    "string = \"Haqwer123@qwe\"\n",
    "len(string)"
   ]
  },
  {
   "cell_type": "code",
   "execution_count": 18,
   "id": "1bef6692-66aa-4473-80a9-a686b1dfacab",
   "metadata": {},
   "outputs": [
    {
     "ename": "NameError",
     "evalue": "name 'message' is not defined",
     "output_type": "error",
     "traceback": [
      "\u001b[0;31m---------------------------------------------------------------------------\u001b[0m",
      "\u001b[0;31mNameError\u001b[0m                                 Traceback (most recent call last)",
      "Cell \u001b[0;32mIn[18], line 4\u001b[0m\n\u001b[1;32m      2\u001b[0m     message \u001b[38;5;241m=\u001b[39m \u001b[38;5;124m\"\u001b[39m\u001b[38;5;124mHello\u001b[39m\u001b[38;5;124m\"\u001b[39m\n\u001b[1;32m      3\u001b[0m     \u001b[38;5;28mprint\u001b[39m(\u001b[38;5;124m\"\u001b[39m\u001b[38;5;124mLocal .. \u001b[39m\u001b[38;5;124m\"\u001b[39m, message)\n\u001b[0;32m----> 4\u001b[0m \u001b[38;5;28mprint\u001b[39m(\u001b[43mmessage\u001b[49m)\n\u001b[1;32m      5\u001b[0m greet()\n",
      "\u001b[0;31mNameError\u001b[0m: name 'message' is not defined"
     ]
    }
   ],
   "source": [
    "def greet():\n",
    "    message = \"Hello\"\n",
    "    print(\"Local .. \", message)\n",
    "print(message)\n",
    "greet()"
   ]
  },
  {
   "cell_type": "code",
   "execution_count": 19,
   "id": "9e72c7dd-1aab-47f3-9be3-f20e5f99dcb0",
   "metadata": {},
   "outputs": [],
   "source": [
    "def add():\n",
    "    # local scopes\n",
    "    x = 20\n",
    "    y = 30\n",
    "    print(x+y)"
   ]
  },
  {
   "cell_type": "code",
   "execution_count": 21,
   "id": "463567c3-5ccf-497e-8906-f211a55ee671",
   "metadata": {},
   "outputs": [
    {
     "name": "stdout",
     "output_type": "stream",
     "text": [
      "Python is fantastic\n",
      "awesome\n"
     ]
    }
   ],
   "source": [
    "# global scope\n",
    "x = \"awesome\"\n",
    "def myfunc():\n",
    "    x = \"fantastic\"\n",
    "    # local scope\n",
    "    print(\"Python is \" + x)\n",
    "\n",
    "myfunc()\n",
    "print(x)"
   ]
  },
  {
   "cell_type": "code",
   "execution_count": 24,
   "id": "329f8177-fc80-44b6-b9a0-bc96db547c4c",
   "metadata": {},
   "outputs": [
    {
     "name": "stdout",
     "output_type": "stream",
     "text": [
      "It's a Local variable y =  10\n",
      "It's a Global variable x =  20\n",
      "30\n",
      "It's a Local variable m =  10\n",
      "It's a Global variable x =  20\n",
      "10\n"
     ]
    }
   ],
   "source": [
    "x = 20\n",
    "def add():\n",
    "    y = 10\n",
    "    print(\"It's a Local variable y = \", y)\n",
    "    print(\"It's a Global variable x = \", x)\n",
    "    z = x + y\n",
    "    print(z)\n",
    "    \n",
    "def sub():\n",
    "    m = 10\n",
    "    print(\"It's a Local variable m = \", m)\n",
    "    print(\"It's a Global variable x = \", x)\n",
    "    z1 = x - m\n",
    "    print(z1)\n",
    "    \n",
    "add()\n",
    "sub()"
   ]
  },
  {
   "cell_type": "code",
   "execution_count": 2,
   "id": "758ec0c5-f67a-4705-8209-85598ddfd6bd",
   "metadata": {},
   "outputs": [
    {
     "name": "stdout",
     "output_type": "stream",
     "text": [
      "20\n",
      "10\n"
     ]
    }
   ],
   "source": [
    "global x\n",
    "x = 10\n",
    "def add1():\n",
    "    x = 20\n",
    "    print(x)\n",
    "add1()   \n",
    "print(x)"
   ]
  },
  {
   "cell_type": "code",
   "execution_count": 3,
   "id": "55d119c2-c1dc-4b48-b081-e9534bc40d5f",
   "metadata": {},
   "outputs": [
    {
     "name": "stdout",
     "output_type": "stream",
     "text": [
      "20\n",
      "20\n"
     ]
    }
   ],
   "source": [
    "\n",
    "x = 10\n",
    "def add1():\n",
    "    global x\n",
    "    x = 20\n",
    "    print(x)\n",
    "add1()   \n",
    "print(x)"
   ]
  },
  {
   "cell_type": "code",
   "execution_count": null,
   "id": "1e693b7a-746f-43a2-9c82-a7e2fa92e246",
   "metadata": {},
   "outputs": [],
   "source": []
  },
  {
   "cell_type": "code",
   "execution_count": null,
   "id": "4ea3ca8b-e162-4c68-91d2-9c2baf6fd279",
   "metadata": {},
   "outputs": [],
   "source": []
  },
  {
   "cell_type": "code",
   "execution_count": null,
   "id": "9fa2143b-49cc-4513-9a3d-63da13513f54",
   "metadata": {},
   "outputs": [],
   "source": []
  },
  {
   "cell_type": "code",
   "execution_count": null,
   "id": "6e3e711e-3d66-47de-8144-4c6def62ea0a",
   "metadata": {},
   "outputs": [],
   "source": []
  },
  {
   "cell_type": "code",
   "execution_count": null,
   "id": "6907bc4c-e5c5-43f8-a30b-3efceaa3d311",
   "metadata": {},
   "outputs": [],
   "source": []
  },
  {
   "cell_type": "code",
   "execution_count": null,
   "id": "f8da5929-6199-445d-9275-e88592d68a2a",
   "metadata": {},
   "outputs": [],
   "source": []
  },
  {
   "cell_type": "code",
   "execution_count": null,
   "id": "50f7d6a2-98b7-41b5-b3fa-94ba337056d1",
   "metadata": {},
   "outputs": [],
   "source": []
  },
  {
   "cell_type": "code",
   "execution_count": null,
   "id": "bc817ad7-8545-41b4-af2e-b451267a2e70",
   "metadata": {},
   "outputs": [],
   "source": []
  }
 ],
 "metadata": {
  "kernelspec": {
   "display_name": "Python 3 (ipykernel)",
   "language": "python",
   "name": "python3"
  },
  "language_info": {
   "codemirror_mode": {
    "name": "ipython",
    "version": 3
   },
   "file_extension": ".py",
   "mimetype": "text/x-python",
   "name": "python",
   "nbconvert_exporter": "python",
   "pygments_lexer": "ipython3",
   "version": "3.10.8"
  }
 },
 "nbformat": 4,
 "nbformat_minor": 5
}
