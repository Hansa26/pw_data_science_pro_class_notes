{
 "cells": [
  {
   "cell_type": "markdown",
   "id": "c22ee553-b14b-49cd-99f0-71a046b13e74",
   "metadata": {},
   "source": [
    "# Recursion"
   ]
  },
  {
   "cell_type": "code",
   "execution_count": 1,
   "id": "d3ec6bf5-3e8d-407a-a89d-af789d4696cd",
   "metadata": {},
   "outputs": [],
   "source": [
    "# usually in recursion, we need to give base case, else.. it'll go on for infinite loop"
   ]
  },
  {
   "cell_type": "code",
   "execution_count": 2,
   "id": "652fa1c7-8b8a-478c-a749-03b17a04cd86",
   "metadata": {},
   "outputs": [],
   "source": [
    "# Factorial"
   ]
  },
  {
   "cell_type": "code",
   "execution_count": 3,
   "id": "5b9c4830-7ae3-49c2-96a7-d5d69155fc1c",
   "metadata": {},
   "outputs": [],
   "source": [
    "def fact(n):\n",
    "    if n <= 1:\n",
    "        return 1\n",
    "    else:\n",
    "        return n * fact(n-1)"
   ]
  },
  {
   "cell_type": "code",
   "execution_count": 4,
   "id": "f77b367f-0794-41fe-86a6-004b64458bc6",
   "metadata": {},
   "outputs": [],
   "source": [
    "# Fibonacci"
   ]
  },
  {
   "cell_type": "code",
   "execution_count": 5,
   "id": "08ba725e-4f6a-4803-9d47-81a086b92f14",
   "metadata": {},
   "outputs": [],
   "source": [
    "def fibo(n):\n",
    "    if n <= 1:\n",
    "        return n\n",
    "    else:\n",
    "        return fibo(n-1) + fibo(n-2)"
   ]
  },
  {
   "cell_type": "code",
   "execution_count": 6,
   "id": "eba5b173-0b1d-476f-8009-493f280d2d7a",
   "metadata": {},
   "outputs": [
    {
     "name": "stdout",
     "output_type": "stream",
     "text": [
      "0\n",
      "1\n",
      "1\n",
      "2\n",
      "3\n",
      "5\n",
      "8\n",
      "13\n",
      "21\n",
      "34\n"
     ]
    }
   ],
   "source": [
    "for i in range(10):\n",
    "    print(fibo(i))"
   ]
  },
  {
   "cell_type": "code",
   "execution_count": 7,
   "id": "1bff3eed-2ade-40d3-aa42-b2a3ae3d251a",
   "metadata": {},
   "outputs": [],
   "source": [
    "# Sum of digits"
   ]
  },
  {
   "cell_type": "code",
   "execution_count": 8,
   "id": "d5c94ec2-7f42-4526-a850-0e0480b682a2",
   "metadata": {},
   "outputs": [
    {
     "data": {
      "text/plain": [
       "6"
      ]
     },
     "execution_count": 8,
     "metadata": {},
     "output_type": "execute_result"
    }
   ],
   "source": [
    "def sum_digit(n):  # without recursion\n",
    "    if n <= 1:\n",
    "        return n\n",
    "    else:\n",
    "        sum = 0\n",
    "        while n != 0:\n",
    "            d = n % 10\n",
    "            sum += d\n",
    "            n = n // 10\n",
    "        return sum\n",
    "    \n",
    "sum_digit(123)\n",
    "            "
   ]
  },
  {
   "cell_type": "code",
   "execution_count": 9,
   "id": "bcaf36de-571c-470e-a9e3-6c8fca31862b",
   "metadata": {},
   "outputs": [],
   "source": [
    "# using recursion\n",
    "\n",
    "def sum_of_digit(n):\n",
    "    if n >= 0 and n <= 9:\n",
    "        return n\n",
    "    else:\n",
    "        return n % 10 + sum_of_digit(n//10)"
   ]
  },
  {
   "cell_type": "code",
   "execution_count": 10,
   "id": "7936f611-aa95-4ae1-9f06-01735f23059a",
   "metadata": {},
   "outputs": [],
   "source": [
    "# find maximum inside this list "
   ]
  },
  {
   "cell_type": "code",
   "execution_count": 11,
   "id": "1b92c490-f038-42b9-b857-a179388e9a8f",
   "metadata": {},
   "outputs": [],
   "source": [
    "import random\n",
    "l1 = []\n",
    "for i in range(10):\n",
    "    l1.append(random.randint(100, 500))\n",
    "    \n",
    "l2 = random.sample(range(100, 500), 10)"
   ]
  },
  {
   "cell_type": "code",
   "execution_count": 12,
   "id": "a113bcf8-33ef-4d8b-a001-7efcfcd2e1c7",
   "metadata": {},
   "outputs": [
    {
     "data": {
      "text/plain": [
       "[187, 304, 378, 112, 407, 464, 400, 391, 209, 463]"
      ]
     },
     "execution_count": 12,
     "metadata": {},
     "output_type": "execute_result"
    }
   ],
   "source": [
    "l1"
   ]
  },
  {
   "cell_type": "code",
   "execution_count": 13,
   "id": "78e107d2-1c8c-4821-8a53-af2fe9872e2e",
   "metadata": {},
   "outputs": [
    {
     "data": {
      "text/plain": [
       "[372, 243, 308, 224, 255, 462, 249, 433, 104, 151]"
      ]
     },
     "execution_count": 13,
     "metadata": {},
     "output_type": "execute_result"
    }
   ],
   "source": [
    "l2"
   ]
  },
  {
   "cell_type": "code",
   "execution_count": 14,
   "id": "e30e8ce9-7cb5-4031-9e4a-d07484037984",
   "metadata": {},
   "outputs": [],
   "source": [
    "def maximum_recursive(l):\n",
    "    if len(l) == 1:\n",
    "        return l[0]\n",
    "    else:\n",
    "        return max(l[0], maximum_recursive(l[1:]))"
   ]
  },
  {
   "cell_type": "code",
   "execution_count": 15,
   "id": "5e739d60-9364-4ddb-8550-168bb02f5ba7",
   "metadata": {},
   "outputs": [],
   "source": [
    "# power of a number"
   ]
  },
  {
   "cell_type": "code",
   "execution_count": 16,
   "id": "67ca96e2-c6a1-424a-aa41-60488fc0c569",
   "metadata": {},
   "outputs": [],
   "source": [
    "def power(n, p):\n",
    "    if p == 0:\n",
    "        return 1\n",
    "    elif p == 1:\n",
    "        return n\n",
    "    else:\n",
    "        return n * power(n, p-1)"
   ]
  },
  {
   "cell_type": "code",
   "execution_count": 17,
   "id": "d4f62803-9a66-4a34-aca6-0e13bbec7cb6",
   "metadata": {},
   "outputs": [
    {
     "data": {
      "text/plain": [
       "16"
      ]
     },
     "execution_count": 17,
     "metadata": {},
     "output_type": "execute_result"
    }
   ],
   "source": [
    "power(2, 4)"
   ]
  },
  {
   "cell_type": "code",
   "execution_count": 18,
   "id": "a5bd7c71-df99-4b5c-ad64-5c34a92e3d4d",
   "metadata": {},
   "outputs": [
    {
     "data": {
      "text/plain": [
       "16"
      ]
     },
     "execution_count": 18,
     "metadata": {},
     "output_type": "execute_result"
    }
   ],
   "source": [
    "pow(2, 4)"
   ]
  },
  {
   "cell_type": "code",
   "execution_count": 19,
   "id": "d89020f4-dc7c-4b8e-b57c-e4347e939145",
   "metadata": {},
   "outputs": [
    {
     "data": {
      "text/plain": [
       "243"
      ]
     },
     "execution_count": 19,
     "metadata": {},
     "output_type": "execute_result"
    }
   ],
   "source": [
    "pow(3, 5)"
   ]
  },
  {
   "cell_type": "code",
   "execution_count": 20,
   "id": "b87ab739-ae04-40db-9e82-30eccc08a81f",
   "metadata": {},
   "outputs": [
    {
     "data": {
      "text/plain": [
       "243"
      ]
     },
     "execution_count": 20,
     "metadata": {},
     "output_type": "execute_result"
    }
   ],
   "source": [
    "power(3, 5)"
   ]
  },
  {
   "cell_type": "code",
   "execution_count": 21,
   "id": "35bf456e-a0e5-4087-ac43-8a43ecf9ea3d",
   "metadata": {},
   "outputs": [],
   "source": [
    "# Length of the string"
   ]
  },
  {
   "cell_type": "code",
   "execution_count": 22,
   "id": "4359f140-a7e9-4836-a2eb-ac240c65fafb",
   "metadata": {},
   "outputs": [
    {
     "data": {
      "text/plain": [
       "12"
      ]
     },
     "execution_count": 22,
     "metadata": {},
     "output_type": "execute_result"
    }
   ],
   "source": [
    "s = \"hansasgoudar\"\n",
    "len(s)"
   ]
  },
  {
   "cell_type": "code",
   "execution_count": 23,
   "id": "37f50478-ff5a-46c6-a098-73c270419a67",
   "metadata": {},
   "outputs": [],
   "source": [
    "def length_of_string(s):\n",
    "    if s == \"\":\n",
    "        return 0\n",
    "    else:\n",
    "        return 1 + length_of_string(s[1:])"
   ]
  },
  {
   "cell_type": "code",
   "execution_count": 24,
   "id": "ec7e8279-28d9-486d-a1aa-c021565787c0",
   "metadata": {},
   "outputs": [
    {
     "data": {
      "text/plain": [
       "12"
      ]
     },
     "execution_count": 24,
     "metadata": {},
     "output_type": "execute_result"
    }
   ],
   "source": [
    "length_of_string(s)"
   ]
  },
  {
   "cell_type": "code",
   "execution_count": 25,
   "id": "05aec650-706d-44c2-a6c1-adb5a56d4cc1",
   "metadata": {},
   "outputs": [],
   "source": [
    "# reverse of the entire string"
   ]
  },
  {
   "cell_type": "code",
   "execution_count": 26,
   "id": "e5ad93ed-7641-4c98-a599-f51b3fbc1d59",
   "metadata": {},
   "outputs": [],
   "source": [
    "def reverse_string(s):\n",
    "    if s == \"\":\n",
    "        return \"\"\n",
    "    elif len(s) == 1:\n",
    "        return s\n",
    "    else:\n",
    "        return reverse_string(s[1:]) + s[0]\n",
    "        "
   ]
  },
  {
   "cell_type": "code",
   "execution_count": 27,
   "id": "47e60944-5d1d-4f68-b856-89ad23171aaf",
   "metadata": {},
   "outputs": [
    {
     "data": {
      "text/plain": [
       "'asnah'"
      ]
     },
     "execution_count": 27,
     "metadata": {},
     "output_type": "execute_result"
    }
   ],
   "source": [
    "reverse_string(\"hansa\")"
   ]
  },
  {
   "cell_type": "code",
   "execution_count": 28,
   "id": "40cb8407-0641-4085-b8d1-5be4739633d9",
   "metadata": {},
   "outputs": [],
   "source": [
    "# number of occurrence of a character in a string"
   ]
  },
  {
   "cell_type": "code",
   "execution_count": 29,
   "id": "64c992cd-d3fa-4859-b830-c64b7218e3d3",
   "metadata": {},
   "outputs": [],
   "source": [
    "def find_occurrence(s, ch):\n",
    "    if s == \"\":\n",
    "        return 0\n",
    "    elif s[0] == ch:\n",
    "        return 1 + find_occurrence(s[1:], ch)\n",
    "    else:\n",
    "        return find_occurrence(s[1:], ch)"
   ]
  },
  {
   "cell_type": "code",
   "execution_count": 30,
   "id": "dbe34fff-7889-4451-b020-cd46cd71c83b",
   "metadata": {},
   "outputs": [
    {
     "data": {
      "text/plain": [
       "2"
      ]
     },
     "execution_count": 30,
     "metadata": {},
     "output_type": "execute_result"
    }
   ],
   "source": [
    "find_occurrence(\"hansa\", 'a')"
   ]
  },
  {
   "cell_type": "code",
   "execution_count": 31,
   "id": "7b3c9959-abc5-48b0-be76-212fdb958ed9",
   "metadata": {},
   "outputs": [
    {
     "data": {
      "text/plain": [
       "0"
      ]
     },
     "execution_count": 31,
     "metadata": {},
     "output_type": "execute_result"
    }
   ],
   "source": [
    "find_occurrence(\"hansa\", 'g')"
   ]
  },
  {
   "cell_type": "code",
   "execution_count": 32,
   "id": "85bfe9e1-9c8d-418c-971d-d8e6a635ac92",
   "metadata": {},
   "outputs": [],
   "source": [
    "# sorted -> Yes  or No (list is sorted or not )"
   ]
  },
  {
   "cell_type": "code",
   "execution_count": 33,
   "id": "8908b94d-be93-4c8a-96f9-cbeec1cc57e3",
   "metadata": {},
   "outputs": [
    {
     "data": {
      "text/plain": [
       "[372, 243, 308, 224, 255, 462, 249, 433, 104, 151]"
      ]
     },
     "execution_count": 33,
     "metadata": {},
     "output_type": "execute_result"
    }
   ],
   "source": [
    "l2"
   ]
  },
  {
   "cell_type": "code",
   "execution_count": 34,
   "id": "d7f8da53-0d13-4f82-9b6a-fd75c9974c39",
   "metadata": {},
   "outputs": [
    {
     "data": {
      "text/plain": [
       "[187, 304, 378, 112, 407, 464, 400, 391, 209, 463]"
      ]
     },
     "execution_count": 34,
     "metadata": {},
     "output_type": "execute_result"
    }
   ],
   "source": [
    "l1"
   ]
  },
  {
   "cell_type": "code",
   "execution_count": 35,
   "id": "c9a4d4d8-754b-4fa8-96b6-01c30f533201",
   "metadata": {},
   "outputs": [],
   "source": [
    "def sorted_list(l):\n",
    "    if len(l) <= 1:\n",
    "        return True\n",
    "    elif l[0] > l[1]:\n",
    "        return False\n",
    "    else:\n",
    "        return sorted_list(l[1:])"
   ]
  },
  {
   "cell_type": "code",
   "execution_count": 36,
   "id": "9ad6d22e-7136-4ba6-af43-95bff0af9f18",
   "metadata": {},
   "outputs": [
    {
     "data": {
      "text/plain": [
       "True"
      ]
     },
     "execution_count": 36,
     "metadata": {},
     "output_type": "execute_result"
    }
   ],
   "source": [
    "sorted_list([1, 2, 3, 4])"
   ]
  },
  {
   "cell_type": "code",
   "execution_count": 37,
   "id": "3043236a-aaad-4e25-b70a-01598b687c12",
   "metadata": {},
   "outputs": [
    {
     "data": {
      "text/plain": [
       "False"
      ]
     },
     "execution_count": 37,
     "metadata": {},
     "output_type": "execute_result"
    }
   ],
   "source": [
    "sorted_list(l2)"
   ]
  },
  {
   "cell_type": "code",
   "execution_count": 38,
   "id": "5a56f00b-79f7-43cf-ae6f-870015b6e357",
   "metadata": {},
   "outputs": [
    {
     "data": {
      "text/plain": [
       "True"
      ]
     },
     "execution_count": 38,
     "metadata": {},
     "output_type": "execute_result"
    }
   ],
   "source": [
    "sorted_list([1, 1, 1])"
   ]
  },
  {
   "cell_type": "code",
   "execution_count": 39,
   "id": "91cc168d-3368-41ac-880a-76df450f5203",
   "metadata": {},
   "outputs": [],
   "source": [
    "# Perfect Square of some number"
   ]
  },
  {
   "cell_type": "code",
   "execution_count": 40,
   "id": "88474404-1ad0-425c-aa9f-bc0b292a5d7c",
   "metadata": {},
   "outputs": [],
   "source": [
    "def check_perfect_square(n, start=1):\n",
    "    if n == start ** 2:\n",
    "        return True\n",
    "    elif n < start ** 2:\n",
    "        return False\n",
    "    else:\n",
    "        return check_perfect_square(n, start+1)"
   ]
  },
  {
   "cell_type": "code",
   "execution_count": 41,
   "id": "79365fd4-ac7e-4648-a139-2fc10b0ed04b",
   "metadata": {},
   "outputs": [
    {
     "data": {
      "text/plain": [
       "True"
      ]
     },
     "execution_count": 41,
     "metadata": {},
     "output_type": "execute_result"
    }
   ],
   "source": [
    "check_perfect_square(25)"
   ]
  },
  {
   "cell_type": "code",
   "execution_count": 42,
   "id": "4804c015-60fc-4dcb-9e53-9ac1336541ea",
   "metadata": {},
   "outputs": [
    {
     "data": {
      "text/plain": [
       "False"
      ]
     },
     "execution_count": 42,
     "metadata": {},
     "output_type": "execute_result"
    }
   ],
   "source": [
    "check_perfect_square(8)"
   ]
  },
  {
   "cell_type": "markdown",
   "id": "79d07573-d646-4937-b6a5-bf9810840f48",
   "metadata": {},
   "source": [
    "# Iterators and Iterables"
   ]
  },
  {
   "cell_type": "code",
   "execution_count": 43,
   "id": "964fb88e-7711-4649-9335-4e2d36175ce8",
   "metadata": {},
   "outputs": [
    {
     "data": {
      "text/plain": [
       "[372, 243, 308, 224, 255, 462, 249, 433, 104, 151]"
      ]
     },
     "execution_count": 43,
     "metadata": {},
     "output_type": "execute_result"
    }
   ],
   "source": [
    "l2"
   ]
  },
  {
   "cell_type": "code",
   "execution_count": 44,
   "id": "6ea08ee2-a0db-4a5b-b740-7a0cd23bfd1f",
   "metadata": {},
   "outputs": [],
   "source": [
    "a = 10\n",
    "s = \"hansa\""
   ]
  },
  {
   "cell_type": "code",
   "execution_count": 45,
   "id": "400fbcf5-3342-43ed-8204-c11329b7105d",
   "metadata": {},
   "outputs": [
    {
     "name": "stdout",
     "output_type": "stream",
     "text": [
      "372 243 308 224 255 462 249 433 104 151 "
     ]
    }
   ],
   "source": [
    "for i in l2:\n",
    "    print(i, end=' ')"
   ]
  },
  {
   "cell_type": "code",
   "execution_count": 46,
   "id": "d184cda8-ed83-4191-b70a-5368fe0e2179",
   "metadata": {},
   "outputs": [
    {
     "name": "stdout",
     "output_type": "stream",
     "text": [
      "h a n s a "
     ]
    }
   ],
   "source": [
    "for i in s:\n",
    "    print(i, end=' ')"
   ]
  },
  {
   "cell_type": "code",
   "execution_count": 47,
   "id": "870b8549-c7ef-48dc-b4e9-2c8203d5d792",
   "metadata": {},
   "outputs": [
    {
     "ename": "TypeError",
     "evalue": "'int' object is not iterable",
     "output_type": "error",
     "traceback": [
      "\u001b[0;31m---------------------------------------------------------------------------\u001b[0m",
      "\u001b[0;31mTypeError\u001b[0m                                 Traceback (most recent call last)",
      "Cell \u001b[0;32mIn[47], line 1\u001b[0m\n\u001b[0;32m----> 1\u001b[0m \u001b[38;5;28;01mfor\u001b[39;00m i \u001b[38;5;129;01min\u001b[39;00m a:\n\u001b[1;32m      2\u001b[0m     \u001b[38;5;28mprint\u001b[39m(i, end\u001b[38;5;241m=\u001b[39m\u001b[38;5;124m'\u001b[39m\u001b[38;5;124m \u001b[39m\u001b[38;5;124m'\u001b[39m)\n",
      "\u001b[0;31mTypeError\u001b[0m: 'int' object is not iterable"
     ]
    }
   ],
   "source": [
    "for i in a:\n",
    "    print(i, end=' ')"
   ]
  },
  {
   "cell_type": "code",
   "execution_count": null,
   "id": "4bc93bfb-b417-454c-80cb-529cf4d3712b",
   "metadata": {},
   "outputs": [],
   "source": [
    "iter(s)"
   ]
  },
  {
   "cell_type": "code",
   "execution_count": null,
   "id": "0fa224da-31a6-46c0-a3e5-6e03c6480ed1",
   "metadata": {},
   "outputs": [],
   "source": [
    "s1 = iter(s)"
   ]
  },
  {
   "cell_type": "code",
   "execution_count": null,
   "id": "1d373167-817e-4597-b725-b23ebe55bec5",
   "metadata": {},
   "outputs": [],
   "source": [
    "s1.__next__()"
   ]
  },
  {
   "cell_type": "code",
   "execution_count": null,
   "id": "5f0a393b-a118-4905-a481-8e7449645e76",
   "metadata": {},
   "outputs": [],
   "source": [
    "s1.__next__()"
   ]
  },
  {
   "cell_type": "code",
   "execution_count": null,
   "id": "a5b5e6e8-8356-4bac-845f-49a63f3a37e6",
   "metadata": {},
   "outputs": [],
   "source": [
    "s1.__next__()"
   ]
  },
  {
   "cell_type": "code",
   "execution_count": null,
   "id": "c4a79fd6-4403-4ee5-86c0-b7edd3899a23",
   "metadata": {},
   "outputs": [],
   "source": [
    "next(s1)"
   ]
  },
  {
   "cell_type": "code",
   "execution_count": null,
   "id": "9f5d5f41-bed7-4d6f-bd02-4bbb360168ba",
   "metadata": {},
   "outputs": [],
   "source": [
    "next(s1)"
   ]
  },
  {
   "cell_type": "code",
   "execution_count": null,
   "id": "83686738-cfba-457a-8dc8-f22289240bc4",
   "metadata": {},
   "outputs": [],
   "source": [
    "next(s1)"
   ]
  },
  {
   "cell_type": "code",
   "execution_count": null,
   "id": "42adf525-a535-4960-bf7b-887099fe1a1c",
   "metadata": {},
   "outputs": [],
   "source": [
    "for i in s:\n",
    "    print(i)"
   ]
  },
  {
   "cell_type": "code",
   "execution_count": null,
   "id": "ab77f35d-88e3-4afd-a652-c479a028971e",
   "metadata": {},
   "outputs": [],
   "source": [
    "s2 = \"pwskills\""
   ]
  },
  {
   "cell_type": "code",
   "execution_count": null,
   "id": "811cbfbd-33a8-45f8-9b5d-0a43988aab6a",
   "metadata": {},
   "outputs": [],
   "source": [
    "next(s2)"
   ]
  },
  {
   "cell_type": "markdown",
   "id": "a4955f70-811a-49d0-b2f3-983b444540c9",
   "metadata": {},
   "source": [
    "# the object should be iterable, then only we'll be able to iterate through it."
   ]
  },
  {
   "cell_type": "code",
   "execution_count": null,
   "id": "a0446884-3775-4a1b-919e-9e348dc2103d",
   "metadata": {},
   "outputs": [],
   "source": [
    "for i in s2: # by default, for loop will convert s2 into iterable object! by passing s2 into iter()\n",
    "    print(i)"
   ]
  },
  {
   "cell_type": "markdown",
   "id": "ab441cc7-f168-41ec-9899-01a1700b92e0",
   "metadata": {},
   "source": [
    "# String is an iterable object, by default it is not an iterator"
   ]
  },
  {
   "cell_type": "code",
   "execution_count": null,
   "id": "75e21778-1618-4755-9cb8-9ed5eb5821c4",
   "metadata": {},
   "outputs": [],
   "source": [
    "iter(20)"
   ]
  },
  {
   "cell_type": "markdown",
   "id": "6e7ef667-95d9-4d0e-9302-0e3b390692bc",
   "metadata": {},
   "source": [
    "# if some object is not iterable, then it is not iterator"
   ]
  },
  {
   "cell_type": "code",
   "execution_count": null,
   "id": "12c71cb4-deb5-4a89-84b1-c1d0d1768744",
   "metadata": {},
   "outputs": [],
   "source": [
    "l = iter(l2) # list is an iterable object"
   ]
  },
  {
   "cell_type": "code",
   "execution_count": null,
   "id": "33a47ee7-6b36-458d-9ee7-840d118cd66c",
   "metadata": {},
   "outputs": [],
   "source": [
    "for i in l2:\n",
    "    print(i, end=' ')"
   ]
  },
  {
   "cell_type": "code",
   "execution_count": null,
   "id": "78702512-5c80-4445-bb69-dd3c39fb7c5b",
   "metadata": {},
   "outputs": [],
   "source": [
    "next(l)"
   ]
  },
  {
   "cell_type": "code",
   "execution_count": null,
   "id": "256436d6-af57-445c-9bbf-c460e107b3e6",
   "metadata": {},
   "outputs": [],
   "source": [
    "next(l)"
   ]
  },
  {
   "cell_type": "code",
   "execution_count": null,
   "id": "d4221afa-42cf-412e-9437-f1edd8441668",
   "metadata": {},
   "outputs": [],
   "source": [
    "next(l)"
   ]
  },
  {
   "cell_type": "code",
   "execution_count": null,
   "id": "70230435-e675-4b54-9024-524eb5a0328d",
   "metadata": {},
   "outputs": [],
   "source": [
    "next(l)\n",
    "next(l)"
   ]
  },
  {
   "cell_type": "code",
   "execution_count": null,
   "id": "68a57fd4-c318-46b8-9ca3-d89e1a4d495b",
   "metadata": {},
   "outputs": [],
   "source": [
    "next(l)"
   ]
  },
  {
   "cell_type": "code",
   "execution_count": null,
   "id": "00c82628-db68-4500-b027-825395d62e76",
   "metadata": {},
   "outputs": [],
   "source": [
    "# extraction using next() or __next__() --> behave like a pointer"
   ]
  },
  {
   "cell_type": "code",
   "execution_count": null,
   "id": "3d87e151-48d9-4ddb-b8cb-4f9c4cd5e72b",
   "metadata": {},
   "outputs": [],
   "source": [
    "for i in set([1, 2, 3]):\n",
    "    print(i)"
   ]
  },
  {
   "cell_type": "code",
   "execution_count": null,
   "id": "ccda8182-0c3d-4509-8cc5-365e939759a0",
   "metadata": {},
   "outputs": [],
   "source": [
    "for i in (1, 2, 3):\n",
    "    print(i)"
   ]
  },
  {
   "cell_type": "code",
   "execution_count": null,
   "id": "6bb75db6-20d9-4bc1-a457-642ff4b6ff28",
   "metadata": {},
   "outputs": [],
   "source": [
    "for i in True:\n",
    "    print(i)"
   ]
  },
  {
   "cell_type": "code",
   "execution_count": null,
   "id": "c94e70d5-9292-4c34-b98d-47819c672191",
   "metadata": {},
   "outputs": [],
   "source": [
    "iter(True)"
   ]
  },
  {
   "cell_type": "code",
   "execution_count": null,
   "id": "720a5575-369b-4ccb-bd1c-8b816d4f593f",
   "metadata": {},
   "outputs": [],
   "source": [
    "iter((1, 2, 3))"
   ]
  },
  {
   "cell_type": "code",
   "execution_count": null,
   "id": "debf6447-d0aa-4833-a352-78ee9354618a",
   "metadata": {},
   "outputs": [],
   "source": [
    "iter({1, 2, 3})"
   ]
  },
  {
   "cell_type": "code",
   "execution_count": null,
   "id": "2c02d840-46a5-4ea2-843f-49ec2dd5d031",
   "metadata": {},
   "outputs": [],
   "source": [
    "d = iter({1: 20, 2: 30})"
   ]
  },
  {
   "cell_type": "code",
   "execution_count": null,
   "id": "cf21bf93-027e-4505-bdce-54f987c224c0",
   "metadata": {},
   "outputs": [],
   "source": [
    "next(d)"
   ]
  },
  {
   "cell_type": "code",
   "execution_count": null,
   "id": "e2655567-28f7-48f8-97db-56f9a0ba8e02",
   "metadata": {},
   "outputs": [],
   "source": [
    "next(d)"
   ]
  },
  {
   "cell_type": "code",
   "execution_count": null,
   "id": "5f841e4f-01c6-4fa8-9ba4-bd804684041d",
   "metadata": {},
   "outputs": [],
   "source": [
    "next(d)"
   ]
  },
  {
   "cell_type": "markdown",
   "id": "e8c3e720-5ebb-4d70-b68b-476a609ae6a9",
   "metadata": {},
   "source": [
    "# Generators"
   ]
  },
  {
   "cell_type": "code",
   "execution_count": null,
   "id": "fcbc1542-a0e6-4b5a-aebb-3a83e8ee06db",
   "metadata": {},
   "outputs": [],
   "source": [
    "list(range(0, 5))"
   ]
  },
  {
   "cell_type": "code",
   "execution_count": null,
   "id": "30ae13b4-accb-4fca-9bce-1ca3f0341e57",
   "metadata": {},
   "outputs": [],
   "source": [
    "# Generator object generates the data one by one by remembering the previous data that it has generated"
   ]
  },
  {
   "cell_type": "code",
   "execution_count": null,
   "id": "882fd394-bab7-440f-8396-0c71b31e0578",
   "metadata": {},
   "outputs": [],
   "source": [
    "def gen():\n",
    "    for i in range(0, 5):\n",
    "        yield i"
   ]
  },
  {
   "cell_type": "code",
   "execution_count": null,
   "id": "06f5e7f7-2117-4934-b609-96073db8652b",
   "metadata": {},
   "outputs": [],
   "source": [
    "print(gen())"
   ]
  },
  {
   "cell_type": "code",
   "execution_count": null,
   "id": "d1b036cb-2f57-4266-89c1-f07594f3ff54",
   "metadata": {},
   "outputs": [],
   "source": [
    "i = iter(range(0, 5))"
   ]
  },
  {
   "cell_type": "code",
   "execution_count": null,
   "id": "05dd9904-3fd8-4f5d-9d4c-cf3035fc4ba4",
   "metadata": {},
   "outputs": [],
   "source": [
    "next(i)"
   ]
  },
  {
   "cell_type": "code",
   "execution_count": null,
   "id": "e68b81ec-9979-4b60-a661-ac3636da6f66",
   "metadata": {},
   "outputs": [],
   "source": [
    "next(i)"
   ]
  },
  {
   "cell_type": "code",
   "execution_count": null,
   "id": "d2e82043-6780-4450-bba7-a843abc65b93",
   "metadata": {},
   "outputs": [],
   "source": [
    "next(i)"
   ]
  },
  {
   "cell_type": "code",
   "execution_count": null,
   "id": "5c52a91c-6e40-46a2-bdc3-62a3f84edf00",
   "metadata": {},
   "outputs": [],
   "source": [
    "next(i)"
   ]
  },
  {
   "cell_type": "code",
   "execution_count": null,
   "id": "77134822-afb6-449f-84ea-7876cec717b8",
   "metadata": {},
   "outputs": [],
   "source": [
    "next(i)"
   ]
  },
  {
   "cell_type": "code",
   "execution_count": null,
   "id": "c5869758-3c54-433c-91ed-1c0c68b2b497",
   "metadata": {},
   "outputs": [],
   "source": [
    "next(i)"
   ]
  },
  {
   "cell_type": "code",
   "execution_count": null,
   "id": "0bac9a61-c041-4301-ac40-feb5fa2375d5",
   "metadata": {},
   "outputs": [],
   "source": [
    "def count_function(n):\n",
    "    i = 1\n",
    "    while i <= n:\n",
    "        yield i\n",
    "        i += 1"
   ]
  },
  {
   "cell_type": "code",
   "execution_count": null,
   "id": "ca97c0d0-1373-4f65-813e-09fa0d91861b",
   "metadata": {},
   "outputs": [],
   "source": [
    "count_function(5) # similar to range function!"
   ]
  },
  {
   "cell_type": "code",
   "execution_count": null,
   "id": "6a085c53-0378-469f-8ee1-7261c4dd0db1",
   "metadata": {},
   "outputs": [],
   "source": [
    "for i in count_function(5):\n",
    "    print(i)"
   ]
  },
  {
   "cell_type": "code",
   "execution_count": null,
   "id": "97021278-ed1e-40c2-a564-e6c82ec4e148",
   "metadata": {},
   "outputs": [],
   "source": [
    "j = iter(count_function(3))"
   ]
  },
  {
   "cell_type": "code",
   "execution_count": null,
   "id": "d7040f71-e705-40ac-be1b-568a7210cc9f",
   "metadata": {},
   "outputs": [],
   "source": [
    "j"
   ]
  },
  {
   "cell_type": "code",
   "execution_count": null,
   "id": "c2ead31e-0611-4af0-a8d6-ce78a32a4a50",
   "metadata": {},
   "outputs": [],
   "source": [
    "# difference between return and yield:\n",
    "\n",
    "# Return would return the data from a function only once and then it will be done while yield would keep on producing the data"
   ]
  },
  {
   "cell_type": "code",
   "execution_count": null,
   "id": "3f2119d9-75c1-4bc7-9aef-35e5aabad88f",
   "metadata": {},
   "outputs": [],
   "source": [
    "def count_function1(n):\n",
    "    i = 1\n",
    "    l = []\n",
    "    while i <= n:\n",
    "        l.append(i)\n",
    "        i += 1\n",
    "    return l"
   ]
  },
  {
   "cell_type": "code",
   "execution_count": null,
   "id": "3755cb83-2729-44e3-bf23-38dc9cf82b98",
   "metadata": {},
   "outputs": [],
   "source": [
    "count_function1(3)"
   ]
  },
  {
   "cell_type": "code",
   "execution_count": 48,
   "id": "a5d8105b-8dcc-433d-a9ad-478a0d8ee9a9",
   "metadata": {},
   "outputs": [],
   "source": [
    "def count_function(n):\n",
    "    i = 1\n",
    "    l = []\n",
    "    while i <= n:\n",
    "        yield i\n",
    "        i += 1"
   ]
  },
  {
   "cell_type": "code",
   "execution_count": 50,
   "id": "7905d4f1-c695-4f31-ba8a-a261ae0138e7",
   "metadata": {},
   "outputs": [
    {
     "name": "stdout",
     "output_type": "stream",
     "text": [
      "1\n",
      "2\n",
      "3\n",
      "4\n",
      "5\n"
     ]
    }
   ],
   "source": [
    "for i in count_function(5):\n",
    "    print(i)"
   ]
  },
  {
   "cell_type": "code",
   "execution_count": 51,
   "id": "ee5e997e-750c-4c9b-aba7-5576a838e932",
   "metadata": {},
   "outputs": [],
   "source": [
    "# generate a program for a fibonacci series"
   ]
  },
  {
   "cell_type": "code",
   "execution_count": 3,
   "id": "4d4fd5a4-b05b-4ad8-b592-ced09badcf70",
   "metadata": {},
   "outputs": [],
   "source": [
    "def fibo(n):\n",
    "    a, b = 0, 1\n",
    "    for _ in range(n):\n",
    "        yield a\n",
    "        a, b = b, a+b"
   ]
  },
  {
   "cell_type": "code",
   "execution_count": 4,
   "id": "5da2d28e-3155-48bb-960f-1a6f1fd7741a",
   "metadata": {},
   "outputs": [
    {
     "name": "stdout",
     "output_type": "stream",
     "text": [
      "0\n",
      "1\n",
      "1\n",
      "2\n",
      "3\n",
      "5\n",
      "8\n",
      "13\n",
      "21\n",
      "34\n"
     ]
    }
   ],
   "source": [
    "for i in fibo(10):\n",
    "    print(i)"
   ]
  },
  {
   "cell_type": "code",
   "execution_count": 11,
   "id": "c84ffede-21ee-4d1f-a627-1584e46e95aa",
   "metadata": {},
   "outputs": [],
   "source": [
    "def fibo_(n):\n",
    "    i = 0\n",
    "    fibo = []\n",
    "    a = 0\n",
    "    b = 1\n",
    "    while i < n:\n",
    "        fibo.append(a)\n",
    "        a, b = b, b+a\n",
    "        i += 1\n",
    "    return fibo"
   ]
  },
  {
   "cell_type": "code",
   "execution_count": 14,
   "id": "9a3a0b06-1fec-4cb7-ab1d-67e7084dddb9",
   "metadata": {},
   "outputs": [
    {
     "data": {
      "text/plain": [
       "[0, 1, 1, 2, 3, 5, 8, 13, 21, 34]"
      ]
     },
     "execution_count": 14,
     "metadata": {},
     "output_type": "execute_result"
    }
   ],
   "source": [
    "fibo_(10)"
   ]
  },
  {
   "cell_type": "code",
   "execution_count": null,
   "id": "6c4de11f-dcd9-4d2d-a25a-512b7cb772c2",
   "metadata": {},
   "outputs": [],
   "source": []
  },
  {
   "cell_type": "code",
   "execution_count": 15,
   "id": "a563d238-b2be-4d44-96bd-0fb9dee56265",
   "metadata": {},
   "outputs": [],
   "source": [
    "# read the file"
   ]
  },
  {
   "cell_type": "code",
   "execution_count": 16,
   "id": "31ab32cc-1136-46d2-8b76-546ed32d75fc",
   "metadata": {},
   "outputs": [
    {
     "name": "stdout",
     "output_type": "stream",
     "text": [
      "'For Loop Functions and Recursions.ipynb'\n",
      "'Function Arguments.ipynb'\n",
      " Functions.ipynb\n",
      "'Map, Reduce, Filter - Functional Programming.ipynb'\n",
      " Operators.ipynb\n",
      "'Pattern Programmings.ipynb'\n",
      " python_basics_variables_cont.ipynb\n",
      " python_basics_variables.ipynb\n",
      " python_data_types.ipynb\n",
      " Recap.ipynb\n",
      " sample.txt\n",
      " Untitled.ipynb\n",
      "'While Loop & Break.ipynb'\n"
     ]
    }
   ],
   "source": [
    "ls"
   ]
  },
  {
   "cell_type": "code",
   "execution_count": 17,
   "id": "785e7633-0d63-4c4e-8f22-de46f38a0733",
   "metadata": {},
   "outputs": [
    {
     "data": {
      "text/plain": [
       "'/home/jovyan/work/Python Basics - 19th Aug & 20th Aug'"
      ]
     },
     "execution_count": 17,
     "metadata": {},
     "output_type": "execute_result"
    }
   ],
   "source": [
    "pwd"
   ]
  },
  {
   "cell_type": "code",
   "execution_count": 20,
   "id": "40250ad2-dd79-4fb4-a2b6-9c54ec3c3bba",
   "metadata": {},
   "outputs": [
    {
     "name": "stdout",
     "output_type": "stream",
     "text": [
      "Google LLC (/ˈɡuːɡəl/ ⓘ) is an American multinational technology company focusing on artificial intelligence,[9] online advertising, search engine technology, cloud computing, computer software, quantum computing, e-commerce, and consumer electronics. It has been referred to as \"the most powerful company in the world\"[10] and as one of the world's most valuable brands due to its market dominance, data collection, and technological advantages in the field of artificial intelligence.[11][12][13] Alongside Amazon, Apple Inc., Meta Platforms, and Microsoft, Google's parent company Alphabet Inc. is one of the five Big Tech companies.\n",
      "\n",
      "\n",
      "\n",
      "Google was founded on September 4, 1998, by American computer scientists Larry Page and Sergey Brin while they were PhD students at Stanford University in California. Together they own about 14% of its publicly listed shares and control 56% of its stockholder voting power through super-voting stock. The company went public via an initial public offering (IPO) in 2004. In 2015, Google was reorganized as a wholly owned subsidiary of Alphabet Inc. Google is Alphabet's largest subsidiary and is a holding company for Alphabet's internet properties and interests. Sundar Pichai was appointed CEO of Google on October 24, 2015, replacing Larry Page, who became the CEO of Alphabet. On December 3, 2019, Pichai also became the CEO of Alphabet.[14]\n",
      "\n",
      "\n",
      "\n",
      "The company has since rapidly grown to offer a multitude of products and services beyond Google Search, many of which hold dominant market positions. These products address a wide range of use cases, including email (Gmail), navigation (Waze & Maps), cloud computing (Cloud), web browsing (Chrome), video sharing (YouTube), productivity (Workspace), operating systems (Android), cloud storage (Drive), language translation (Translate), photo storage (Photos), video calling (Meet), smart home (Nest), smartphones (Pixel), wearable technology (Pixel Watch & Fitbit), music streaming (YouTube Music), video on demand (YouTube TV), artificial intelligence (Google Assistant), machine learning APIs (TensorFlow), AI chips (TPU), and more. Discontinued Google products include gaming (Stadia), Glass, Google+, Reader, Play Music, Nexus, Hangouts, and Inbox by Gmail.[15][16]\n",
      "\n",
      "\n",
      "\n",
      "Google's other ventures outside of Internet services and consumer electronics include quantum computing (Sycamore), self-driving cars (Waymo, formerly the Google Self-Driving Car Project), smart cities (Sidewalk Labs), and transformer models (Google Brain).[17]\n",
      "\n",
      "\n",
      "\n",
      "Google and YouTube are the two most visited websites worldwide followed by Facebook and X. Google is also the largest search engine, mapping and navigation application, email provider, office suite, video sharing platform, photo and cloud storage provider, mobile operating system, web browser, ML framework, and AI virtual assistant provider in the world as measured by market share. On the list of most valuable brands, Google is ranked second by Forbes[18] and fourth by Interbrand.[19] It has received significant criticism involving issues such as privacy concerns, tax avoidance, censorship, search neutrality, antitrust and abuse of its monopoly position.\n",
      "\n",
      "\n",
      "\n",
      "History\n",
      "\n",
      "Main articles: History of Google and List of mergers and acquisitions by Alphabet\n",
      "\n",
      "See also: Alphabet Inc.\n",
      "\n",
      "Early years\n",
      "\n",
      "\n",
      "\n",
      "Larry Page and Sergey Brin in 2003\n",
      "\n",
      "Google began in January 1996 as a research project by Larry Page and Sergey Brin when they were both PhD students at Stanford University in California.[20][21][22] The project initially involved an unofficial \"third founder\", Scott Hassan, the original lead programmer who wrote much of the code for the original Google Search engine, but he left before Google was officially founded as a company;[23][24] Hassan went on to pursue a career in robotics and founded the company Willow Garage in 2006.[25][26]\n",
      "\n",
      "\n",
      "\n",
      "While conventional search engines ranked results by counting how many times the search terms appeared on the page, they theorized about a better system that analyzed the relationships among websites.[27] They called this algorithm PageRank; it determined a website's relevance by the number of pages, and the importance of those pages that linked back to the original site.[28][29] Page told his ideas to Hassan, who began writing the code to implement Page's ideas.[23]\n",
      "\n",
      "\n",
      "\n",
      "Page and Brin originally nicknamed the new search engine \"BackRub\", because the system checked backlinks to estimate the importance of a site.[20][30][31] Hassan as well as Alan Steremberg were cited by Page and Brin as being critical to the development of Google. Rajeev Motwani and Terry Winograd later co-authored with Page and Brin the first paper about the project, describing PageRank and the initial prototype of the Google search engine, published in 1998. Héctor García-Molina and Jeff Ullman were also cited as contributors to the project.[32] PageRank was influenced by a similar page-ranking and site-scoring algorithm earlier used for RankDex, developed by Robin Li in 1996, with Larry Page's PageRank patent including a citation to Li's earlier RankDex patent; Li later went on to create the Chinese search engine Baidu.[33][34]\n",
      "\n",
      "\n",
      "\n",
      "Eventually, they changed the name to Google; the name of the search engine was a misspelling of the word googol,[20][35][36] a very large number written 10100 (1 followed by 100 zeros), picked to signify that the search engine was intended to provide large quantities of information.[37]\n",
      "\n",
      "\n",
      "\n",
      "Google's homepage in 1998\n",
      "\n",
      "Google's original homepage had a simple design because the company founders had little experience in HTML, the markup language used for designing web pages.[38]\n",
      "\n",
      "Google was initially funded by an August 1998 investment of $100,000 from Andy Bechtolsheim,[20] co-founder of Sun Microsystems. This initial investment served as a motivation to incorporate the company to be able to use the funds.[39][40] Page and Brin initially approached David Cheriton for advice because he had a nearby office in Stanford, and they knew he had startup experience, having recently sold the company he co-founded, Granite Systems, to Cisco for $220 million. David arranged a meeting with Page and Brin and his Granite co-founder Andy Bechtolsheim. The meeting was set for 8 a.m. at the front porch of David's home in Palo Alto and it had to be brief because Andy had another meeting at Cisco, where he now worked after the acquisition, at 9 a.m. Andy briefly tested a demo of the website, liked what he saw, and then went back to his car to grab the check. David Cheriton later also joined in with a $250,000 investment.[41][42]\n",
      "\n",
      "\n",
      "\n",
      "Google received money from two other angel investors in 1998: Amazon.com founder Jeff Bezos, and entrepreneur Ram Shriram.[43] Page and Brin had first approached Shriram, who was a venture capitalist, for funding and counsel, and Shriram invested $250,000 in Google in February 1998. Shriram knew Bezos because Amazon had acquired Junglee, at which Shriram was the president. It was Shriram who told Bezos about Google. Bezos asked Shriram to meet Google's founders and they met six months after Shriram had made his investment when Bezos and his wife were on a vacation trip to the Bay Area. Google's initial funding round had already formally closed but Bezos' status as CEO of Amazon was enough to persuade Page and Brin to extend the round and accept his investment.[44][45]\n",
      "\n",
      "\n",
      "\n",
      "Between these initial investors, friends, and family Google raised around $1,000,000, which is what allowed them to open up their original shop in Menlo Park, California.[46] Craig Silverstein, a fellow PhD student at Stanford, was hired as the first employee.[22][47][48]\n",
      "\n",
      "\n",
      "\n",
      "After some additional, small investments through the end of 1998 to early 1999,[43] a new $25 million round of funding was announced on June 7, 1999,[49] with major investors including the venture capital firms Kleiner Perkins and Sequoia Capital.[40] Both firms were initially reticent about investing jointly in Google, as each wanted to retain a larger percentage of control over the company to themselves. Larry and Sergey however insisted in taking investments from both. Both venture companies finally agreed to investing jointly $12.5 million each due to their belief in Google's great potential and through the mediation of earlier angel investors Ron Conway and Ram Shriram who had contacts in the venture companies.[50]\n"
     ]
    },
    {
     "ename": "NameError",
     "evalue": "name 'close' is not defined",
     "output_type": "error",
     "traceback": [
      "\u001b[0;31m---------------------------------------------------------------------------\u001b[0m",
      "\u001b[0;31mNameError\u001b[0m                                 Traceback (most recent call last)",
      "Cell \u001b[0;32mIn[20], line 3\u001b[0m\n\u001b[1;32m      1\u001b[0m \u001b[38;5;28;01mfor\u001b[39;00m i \u001b[38;5;129;01min\u001b[39;00m \u001b[38;5;28mopen\u001b[39m(\u001b[38;5;124m'\u001b[39m\u001b[38;5;124msample.txt\u001b[39m\u001b[38;5;124m'\u001b[39m):\n\u001b[1;32m      2\u001b[0m     \u001b[38;5;28mprint\u001b[39m(i)\n\u001b[0;32m----> 3\u001b[0m \u001b[43mclose\u001b[49m(\u001b[38;5;124m'\u001b[39m\u001b[38;5;124msample.txt\u001b[39m\u001b[38;5;124m'\u001b[39m)\n",
      "\u001b[0;31mNameError\u001b[0m: name 'close' is not defined"
     ]
    }
   ],
   "source": [
    "for i in open('sample.txt'):\n",
    "    print(i)\n",
    "# close('sample.txt')"
   ]
  },
  {
   "cell_type": "code",
   "execution_count": 24,
   "id": "9601a0d4-1bf1-4635-a94e-c44540426a1c",
   "metadata": {},
   "outputs": [],
   "source": [
    "def read_file(file_name):\n",
    "    with open(file_name, 'r') as file:\n",
    "        for i in file:\n",
    "            yield i"
   ]
  },
  {
   "cell_type": "code",
   "execution_count": 25,
   "id": "3fd9ddf8-ed2c-43bf-a847-045ce1e2233b",
   "metadata": {},
   "outputs": [
    {
     "data": {
      "text/plain": [
       "<generator object read_file at 0x7f3229451000>"
      ]
     },
     "execution_count": 25,
     "metadata": {},
     "output_type": "execute_result"
    }
   ],
   "source": [
    "read_file('sample.txt')"
   ]
  },
  {
   "cell_type": "code",
   "execution_count": null,
   "id": "593b299e-1153-4076-b5c8-dfae320e8537",
   "metadata": {},
   "outputs": [],
   "source": [
    "for i in read_file('sample.txt'):\n",
    "    print(i)"
   ]
  },
  {
   "cell_type": "code",
   "execution_count": null,
   "id": "685359de-2e19-46e0-af4a-d8e295fa2ba5",
   "metadata": {},
   "outputs": [],
   "source": []
  }
 ],
 "metadata": {
  "kernelspec": {
   "display_name": "Python 3 (ipykernel)",
   "language": "python",
   "name": "python3"
  },
  "language_info": {
   "codemirror_mode": {
    "name": "ipython",
    "version": 3
   },
   "file_extension": ".py",
   "mimetype": "text/x-python",
   "name": "python",
   "nbconvert_exporter": "python",
   "pygments_lexer": "ipython3",
   "version": "3.10.8"
  }
 },
 "nbformat": 4,
 "nbformat_minor": 5
}
