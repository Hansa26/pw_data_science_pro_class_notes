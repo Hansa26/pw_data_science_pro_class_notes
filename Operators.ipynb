{
 "cells": [
  {
   "cell_type": "code",
   "execution_count": 1,
   "id": "0d8070d8-280f-45d4-92d4-d964b4f71119",
   "metadata": {},
   "outputs": [
    {
     "name": "stdout",
     "output_type": "stream",
     "text": [
      "30\n"
     ]
    }
   ],
   "source": [
    "x = 10\n",
    "y = 20\n",
    "print(x+y)"
   ]
  },
  {
   "cell_type": "code",
   "execution_count": 2,
   "id": "1ffa473f-363d-4fb7-b508-f9c173f32fb6",
   "metadata": {},
   "outputs": [
    {
     "name": "stdout",
     "output_type": "stream",
     "text": [
      "Hansa, Guru, and US\n"
     ]
    }
   ],
   "source": [
    "print(\"{0}, {1}, and {2}\".format(\"Hansa\", \"Guru\", \"US\"))"
   ]
  },
  {
   "cell_type": "code",
   "execution_count": 3,
   "id": "bd14a8ee-df81-470f-8d97-f90debebd0a1",
   "metadata": {},
   "outputs": [
    {
     "name": "stdout",
     "output_type": "stream",
     "text": [
      "89074562\n",
      "Hii!!\n",
      "$$Howareyou??\n",
      "10*10 = 100\n",
      "(12 > 10) and True\n",
      "I am here to learn \"python\n"
     ]
    }
   ],
   "source": [
    "print(89074562)\n",
    "print('Hii!!')\n",
    "print('$$Howareyou??')\n",
    "print('10*10 = 100')\n",
    "print('(12 > 10) and True')\n",
    "print('I am here to learn \"python')"
   ]
  },
  {
   "cell_type": "code",
   "execution_count": 4,
   "id": "e399f3e2-343d-46e3-8967-e7139ed5e6ea",
   "metadata": {},
   "outputs": [
    {
     "name": "stdout",
     "output_type": "stream",
     "text": [
      "$\n",
      "$ $\n",
      "$ $ $\n",
      "$ $ $ $\n",
      "$ $ $ $ $\n"
     ]
    }
   ],
   "source": [
    "print('$')\n",
    "print('$ $')\n",
    "print('$ $ $')\n",
    "print('$ $ $ $')\n",
    "print('$ $ $ $ $')"
   ]
  },
  {
   "cell_type": "code",
   "execution_count": 8,
   "id": "e4c78f05-8e2b-42fb-826d-62dde6a53c2f",
   "metadata": {},
   "outputs": [
    {
     "name": "stdin",
     "output_type": "stream",
     "text": [
      " cool\n"
     ]
    },
    {
     "name": "stdout",
     "output_type": "stream",
     "text": [
      "!cool!\n"
     ]
    }
   ],
   "source": [
    "string1 = input()\n",
    "string2 = string1\n",
    "string2 = f\"!{string2}!\"\n",
    "print(string2)"
   ]
  },
  {
   "cell_type": "markdown",
   "id": "debc1aad-3101-4e05-b93a-3ad4ccde7fb6",
   "metadata": {},
   "source": [
    "== -> equality operator (compares only the value)\n",
    "is -> identity operator (compaes value and also the memory of the variables)\n"
   ]
  },
  {
   "cell_type": "code",
   "execution_count": 9,
   "id": "01872059-e5cd-4311-94e4-f0614cdb8e64",
   "metadata": {},
   "outputs": [
    {
     "name": "stdout",
     "output_type": "stream",
     "text": [
      "True\n"
     ]
    }
   ],
   "source": [
    "a = 10\n",
    "b = 10\n",
    "print(a==b)"
   ]
  },
  {
   "cell_type": "code",
   "execution_count": 10,
   "id": "11428784-d089-40b0-88d9-48cecd86ecb0",
   "metadata": {},
   "outputs": [
    {
     "name": "stdout",
     "output_type": "stream",
     "text": [
      "True\n"
     ]
    }
   ],
   "source": [
    "print(a is b)"
   ]
  },
  {
   "cell_type": "code",
   "execution_count": 11,
   "id": "308df725-af2c-4153-b8b0-d9a7eff56421",
   "metadata": {},
   "outputs": [
    {
     "data": {
      "text/plain": [
       "140053142815248"
      ]
     },
     "execution_count": 11,
     "metadata": {},
     "output_type": "execute_result"
    }
   ],
   "source": [
    "id(a) # to get the allocated memory of the variable in the memory stack\n"
   ]
  },
  {
   "cell_type": "code",
   "execution_count": 12,
   "id": "93cbd656-9385-44ff-a3cf-f3d85fca4e16",
   "metadata": {},
   "outputs": [
    {
     "data": {
      "text/plain": [
       "140053142815248"
      ]
     },
     "execution_count": 12,
     "metadata": {},
     "output_type": "execute_result"
    }
   ],
   "source": [
    "id(b)"
   ]
  },
  {
   "cell_type": "code",
   "execution_count": 13,
   "id": "f532ae53-38dd-4f51-b70c-217fffd4075c",
   "metadata": {},
   "outputs": [],
   "source": [
    "a = [1, 2, 3]\n",
    "b = [1, 2, 3]"
   ]
  },
  {
   "cell_type": "code",
   "execution_count": 14,
   "id": "43258b27-38fc-4423-a07a-c1089e6717ee",
   "metadata": {},
   "outputs": [
    {
     "data": {
      "text/plain": [
       "True"
      ]
     },
     "execution_count": 14,
     "metadata": {},
     "output_type": "execute_result"
    }
   ],
   "source": [
    "a == b"
   ]
  },
  {
   "cell_type": "code",
   "execution_count": 15,
   "id": "bf64f29c-34a6-45ae-b240-5442c5558ee0",
   "metadata": {},
   "outputs": [
    {
     "data": {
      "text/plain": [
       "False"
      ]
     },
     "execution_count": 15,
     "metadata": {},
     "output_type": "execute_result"
    }
   ],
   "source": [
    "a is b"
   ]
  },
  {
   "cell_type": "code",
   "execution_count": 16,
   "id": "ea156a90-7443-4b5a-9a5b-4c41c9824a12",
   "metadata": {},
   "outputs": [
    {
     "data": {
      "text/plain": [
       "140053050202176"
      ]
     },
     "execution_count": 16,
     "metadata": {},
     "output_type": "execute_result"
    }
   ],
   "source": [
    "id(a)"
   ]
  },
  {
   "cell_type": "code",
   "execution_count": 17,
   "id": "6306f6e7-86b6-45d7-acb3-7be3c5051db1",
   "metadata": {},
   "outputs": [
    {
     "data": {
      "text/plain": [
       "140053050484160"
      ]
     },
     "execution_count": 17,
     "metadata": {},
     "output_type": "execute_result"
    }
   ],
   "source": [
    "id(b)"
   ]
  },
  {
   "cell_type": "code",
   "execution_count": 18,
   "id": "c9b7dd5b-252a-44ac-a5cd-ce5ff9333bb2",
   "metadata": {},
   "outputs": [],
   "source": [
    "c = [1, 2, 3]"
   ]
  },
  {
   "cell_type": "code",
   "execution_count": 19,
   "id": "60711e8d-b9b3-41c3-9254-23827183527d",
   "metadata": {},
   "outputs": [],
   "source": [
    "d = c"
   ]
  },
  {
   "cell_type": "code",
   "execution_count": 20,
   "id": "50e69b62-18d1-4073-8451-7126b622a93a",
   "metadata": {},
   "outputs": [
    {
     "data": {
      "text/plain": [
       "True"
      ]
     },
     "execution_count": 20,
     "metadata": {},
     "output_type": "execute_result"
    }
   ],
   "source": [
    "c == d"
   ]
  },
  {
   "cell_type": "code",
   "execution_count": 21,
   "id": "9d2c96f3-317a-40ba-b6b4-bf1a7173e63d",
   "metadata": {},
   "outputs": [
    {
     "data": {
      "text/plain": [
       "True"
      ]
     },
     "execution_count": 21,
     "metadata": {},
     "output_type": "execute_result"
    }
   ],
   "source": [
    "c is d"
   ]
  },
  {
   "cell_type": "code",
   "execution_count": 24,
   "id": "b14d4eaf-de10-4b21-9612-fbb2a6bce473",
   "metadata": {},
   "outputs": [
    {
     "name": "stdin",
     "output_type": "stream",
     "text": [
      " 10\n"
     ]
    },
    {
     "name": "stdout",
     "output_type": "stream",
     "text": [
      "5003154509899970\n"
     ]
    }
   ],
   "source": [
    "# Q4\n",
    "int_ = int(input())\n",
    "val = int(3**35//int_) # use floor division\n",
    "print(val)"
   ]
  },
  {
   "cell_type": "code",
   "execution_count": 32,
   "id": "09b302b8-3da4-46f8-bdde-f8d6e2c4c5c6",
   "metadata": {},
   "outputs": [
    {
     "name": "stdin",
     "output_type": "stream",
     "text": [
      " 100\n"
     ]
    },
    {
     "name": "stdout",
     "output_type": "stream",
     "text": [
      "500315450989997\n"
     ]
    }
   ],
   "source": [
    "# Q4\n",
    "int_ = int(input())\n",
    "val = int(3**35//int_) # use floor division\n",
    "print(val)"
   ]
  },
  {
   "cell_type": "code",
   "execution_count": 25,
   "id": "25ec6143-e6ad-4d9d-a6e2-7e7f5439790f",
   "metadata": {},
   "outputs": [
    {
     "name": "stdout",
     "output_type": "stream",
     "text": [
      "Binary = 0b10100\n"
     ]
    }
   ],
   "source": [
    "# binary value\n",
    "a = 20\n",
    "print(f\"Binary = {bin(a)}\")"
   ]
  },
  {
   "cell_type": "code",
   "execution_count": 26,
   "id": "628fee35-9b14-4321-af3f-bf660d473f2d",
   "metadata": {},
   "outputs": [],
   "source": [
    "a = 10\n",
    "b = 4"
   ]
  },
  {
   "cell_type": "code",
   "execution_count": 27,
   "id": "9c836e0a-106a-4a0a-b67b-f286316c5016",
   "metadata": {},
   "outputs": [
    {
     "data": {
      "text/plain": [
       "0"
      ]
     },
     "execution_count": 27,
     "metadata": {},
     "output_type": "execute_result"
    }
   ],
   "source": [
    "a & b # bitwise and operator"
   ]
  },
  {
   "cell_type": "code",
   "execution_count": 28,
   "id": "4bf26b8d-0147-4505-9de2-6c62dabf5c58",
   "metadata": {},
   "outputs": [
    {
     "data": {
      "text/plain": [
       "0"
      ]
     },
     "execution_count": 28,
     "metadata": {},
     "output_type": "execute_result"
    }
   ],
   "source": [
    "b & a"
   ]
  },
  {
   "cell_type": "code",
   "execution_count": 29,
   "id": "7d627f4c-85e4-4fec-8c4b-5ccae380898b",
   "metadata": {},
   "outputs": [
    {
     "data": {
      "text/plain": [
       "14"
      ]
     },
     "execution_count": 29,
     "metadata": {},
     "output_type": "execute_result"
    }
   ],
   "source": [
    "a | b # bitwise or operator"
   ]
  },
  {
   "cell_type": "markdown",
   "id": "d3f4cbd7-995e-46a1-94c2-6207a499fd72",
   "metadata": {},
   "source": [
    "OR(|):\n",
    "1 1 - 1\n",
    "1 0 - 1\n",
    "0 1 - 1\n",
    "0 0 - 0\n",
    "\n",
    "AND(&)\n",
    "1 1 - 1\n",
    "1 0 - 0\n",
    "0 1 - 0\n",
    "0 0 - 0\n",
    "\n",
    "XOR(^):\n",
    "1 1 - 0\n",
    "1 0 - 1\n",
    "0 1 - 1\n",
    "0 0 - 0"
   ]
  },
  {
   "cell_type": "code",
   "execution_count": 30,
   "id": "640c796e-5282-4359-a314-03ba0bf0a584",
   "metadata": {},
   "outputs": [],
   "source": [
    "a = 10\n",
    "b = 10"
   ]
  },
  {
   "cell_type": "code",
   "execution_count": 31,
   "id": "75793cfe-9204-4b6f-a175-061ed38c111a",
   "metadata": {},
   "outputs": [
    {
     "data": {
      "text/plain": [
       "0"
      ]
     },
     "execution_count": 31,
     "metadata": {},
     "output_type": "execute_result"
    }
   ],
   "source": [
    "a^b"
   ]
  },
  {
   "cell_type": "code",
   "execution_count": 32,
   "id": "455687b3-092b-42bc-8692-27b6dfcfebbc",
   "metadata": {},
   "outputs": [
    {
     "data": {
      "text/plain": [
       "10"
      ]
     },
     "execution_count": 32,
     "metadata": {},
     "output_type": "execute_result"
    }
   ],
   "source": [
    "a|b"
   ]
  },
  {
   "cell_type": "code",
   "execution_count": 33,
   "id": "35d8b37e-3f82-458a-859d-ddcddb86f462",
   "metadata": {},
   "outputs": [],
   "source": [
    "a = 10"
   ]
  },
  {
   "cell_type": "code",
   "execution_count": 34,
   "id": "afeced5c-8b96-47ec-9e8f-6f1737173a69",
   "metadata": {},
   "outputs": [
    {
     "data": {
      "text/plain": [
       "5"
      ]
     },
     "execution_count": 34,
     "metadata": {},
     "output_type": "execute_result"
    }
   ],
   "source": [
    "a >> 1"
   ]
  },
  {
   "cell_type": "code",
   "execution_count": 35,
   "id": "d672d9f6-cf1a-49c4-8fbd-24818530096a",
   "metadata": {},
   "outputs": [],
   "source": [
    "a = 10"
   ]
  },
  {
   "cell_type": "code",
   "execution_count": 36,
   "id": "51386f29-6cb3-46e8-bffc-27b7978d0d44",
   "metadata": {},
   "outputs": [
    {
     "data": {
      "text/plain": [
       "20"
      ]
     },
     "execution_count": 36,
     "metadata": {},
     "output_type": "execute_result"
    }
   ],
   "source": [
    "a << 1"
   ]
  },
  {
   "cell_type": "code",
   "execution_count": 37,
   "id": "bac445d8-f3f1-4386-bf74-a3025d677f23",
   "metadata": {},
   "outputs": [
    {
     "data": {
      "text/plain": [
       "'0b1010'"
      ]
     },
     "execution_count": 37,
     "metadata": {},
     "output_type": "execute_result"
    }
   ],
   "source": [
    "bin(a)"
   ]
  },
  {
   "cell_type": "code",
   "execution_count": 38,
   "id": "50ba7379-181a-4bb7-b6ef-91dcae9823cc",
   "metadata": {},
   "outputs": [],
   "source": [
    "a = 10"
   ]
  },
  {
   "cell_type": "code",
   "execution_count": 39,
   "id": "d7ddf155-0a81-421e-a0b8-9dc03d8cf6d1",
   "metadata": {},
   "outputs": [
    {
     "data": {
      "text/plain": [
       "-11"
      ]
     },
     "execution_count": 39,
     "metadata": {},
     "output_type": "execute_result"
    }
   ],
   "source": [
    "~a"
   ]
  },
  {
   "cell_type": "code",
   "execution_count": 40,
   "id": "8c6cbb4e-b594-46ec-832a-007f89df51da",
   "metadata": {},
   "outputs": [],
   "source": [
    "b = 11"
   ]
  },
  {
   "cell_type": "code",
   "execution_count": 41,
   "id": "cb772b09-8ca4-433c-81f8-53eed7f8e593",
   "metadata": {},
   "outputs": [
    {
     "data": {
      "text/plain": [
       "-12"
      ]
     },
     "execution_count": 41,
     "metadata": {},
     "output_type": "execute_result"
    }
   ],
   "source": [
    "~b"
   ]
  },
  {
   "cell_type": "code",
   "execution_count": 42,
   "id": "73af21fe-19cd-46fd-96d8-8404022268d2",
   "metadata": {},
   "outputs": [],
   "source": [
    " b = 20"
   ]
  },
  {
   "cell_type": "code",
   "execution_count": 44,
   "id": "99905551-6e7a-4b28-8f54-7fa7921d252d",
   "metadata": {},
   "outputs": [
    {
     "data": {
      "text/plain": [
       "-21"
      ]
     },
     "execution_count": 44,
     "metadata": {},
     "output_type": "execute_result"
    }
   ],
   "source": [
    "~b # (binary representation + 1 and then negate it)"
   ]
  },
  {
   "cell_type": "code",
   "execution_count": 47,
   "id": "603842a5-c826-424e-9c6a-914c4611c82f",
   "metadata": {},
   "outputs": [
    {
     "name": "stdin",
     "output_type": "stream",
     "text": [
      "Enter the time:  0\n"
     ]
    },
    {
     "name": "stdout",
     "output_type": "stream",
     "text": [
      "NIGHT\n"
     ]
    }
   ],
   "source": [
    "val = int(input(\"Enter the time: \"))\n",
    "\n",
    "if val < 0:\n",
    "    print(\"Invalid\")\n",
    "elif 0 <= val <= 5:\n",
    "    print(\"NIGHT\")\n",
    "elif val >= 6 and val <= 11:\n",
    "    print(\"MORNING\")\n",
    "elif val >= 12 and val <= 17:\n",
    "    print(\"AFTERNOON\")\n",
    "elif val >= 18 and val <= 23:\n",
    "    print(\"EVENING\")\n",
    "elif val >= 24:\n",
    "    print(\"INVALID\")"
   ]
  },
  {
   "cell_type": "code",
   "execution_count": 50,
   "id": "6a33eb1b-f8f1-47fd-9504-718e578d5c3a",
   "metadata": {},
   "outputs": [
    {
     "name": "stdin",
     "output_type": "stream",
     "text": [
      "Enter the operation: \n",
      "1. ADDITION\n",
      "2. SUBTRACTION\n",
      "3. MULTIPLICATION\n",
      "4. DIVISION\n",
      ") 1\n",
      "Enter the first operand:  26\n",
      "Enter the second operand:  28\n"
     ]
    },
    {
     "name": "stdout",
     "output_type": "stream",
     "text": [
      "The addition of 26.0 and 28.0 are: 54.0\n"
     ]
    }
   ],
   "source": [
    "op = input(\"Enter the operation: \\n1. ADDITION\\n2. SUBTRACTION\\n3. MULTIPLICATION\\n4. DIVISION\\n\")\n",
    "a = float(input(\"Enter the first operand: \"))\n",
    "b = float(input(\"Enter the second operand: \"))\n",
    "if op.lower() in ['1', 'addition', 'add']:\n",
    "    print(f\"The addition of {a} and {b} are: {a+b}\")\n",
    "elif op.lower() in ['2', 'subtraction', 'sub']:\n",
    "    print(f\"The subtraction of {a} and {b} are: {a-b}\")\n",
    "elif op.lower() in ['3', 'multiplication', 'mul']:\n",
    "    print(f\"The multiplication of {a} and {b} are: {a*b}\")\n",
    "elif op.lower() in ['4', 'division', 'div']:\n",
    "    print(f\"The division of {a} and {b} are: {a/b}\")\n",
    "else:\n",
    "    print(\"Invalid operation!\")"
   ]
  },
  {
   "cell_type": "code",
   "execution_count": 48,
   "id": "73e63b8c-dc5f-4044-85e7-ca1a6ed366f5",
   "metadata": {},
   "outputs": [
    {
     "data": {
      "text/plain": [
       "'abc'"
      ]
     },
     "execution_count": 48,
     "metadata": {},
     "output_type": "execute_result"
    }
   ],
   "source": [
    "'ABC'.lower()"
   ]
  },
  {
   "cell_type": "code",
   "execution_count": 49,
   "id": "d86aac56-2f91-4f1b-bc59-a519358d46fb",
   "metadata": {},
   "outputs": [
    {
     "data": {
      "text/plain": [
       "'1'"
      ]
     },
     "execution_count": 49,
     "metadata": {},
     "output_type": "execute_result"
    }
   ],
   "source": [
    "'1'.lower()"
   ]
  },
  {
   "cell_type": "code",
   "execution_count": 51,
   "id": "90d18b9b-da72-46c9-902f-8790dd549265",
   "metadata": {},
   "outputs": [
    {
     "name": "stdout",
     "output_type": "stream",
     "text": [
      "0\n",
      "1\n",
      "2\n",
      "3\n",
      "4\n",
      "GOOD\n"
     ]
    }
   ],
   "source": [
    "for i in range(5):\n",
    "    print(i)\n",
    "else:\n",
    "    print(\"GOOD\")"
   ]
  },
  {
   "cell_type": "code",
   "execution_count": 52,
   "id": "faad0688-0308-4d9e-80ca-bd444f146801",
   "metadata": {},
   "outputs": [],
   "source": [
    "dict1 = {'Name': 'Hansa', 'Marital Status': 'Unmarried', 'Love': 'Guru'}"
   ]
  },
  {
   "cell_type": "code",
   "execution_count": 53,
   "id": "87fe4137-bf6c-4df9-8388-66d2fef0aeaf",
   "metadata": {},
   "outputs": [
    {
     "name": "stdout",
     "output_type": "stream",
     "text": [
      "Name Hansa\n",
      "Marital Status Unmarried\n",
      "Love Guru\n"
     ]
    }
   ],
   "source": [
    "for key in dict1:\n",
    "    print(key, dict1[key])"
   ]
  },
  {
   "cell_type": "code",
   "execution_count": 55,
   "id": "4232ca4b-4ae2-4dc6-8cc0-f1eac757abc3",
   "metadata": {},
   "outputs": [
    {
     "name": "stdout",
     "output_type": "stream",
     "text": [
      "* \n",
      "* * \n",
      "* * * \n",
      "* * * * \n",
      "* * * * * \n"
     ]
    }
   ],
   "source": [
    "for i in range(5):\n",
    "    for j in range(i+1):\n",
    "        print(\"*\", end=' ')\n",
    "    print()"
   ]
  },
  {
   "cell_type": "code",
   "execution_count": 57,
   "id": "5e5de91d-edec-4b70-b69e-e95a295f884e",
   "metadata": {},
   "outputs": [
    {
     "ename": "SyntaxError",
     "evalue": "invalid syntax. Perhaps you forgot a comma? (1556970272.py, line 1)",
     "output_type": "error",
     "traceback": [
      "\u001b[0;36m  Cell \u001b[0;32mIn[57], line 1\u001b[0;36m\u001b[0m\n\u001b[0;31m    [print(\"*\", end = ' ') print() for i in range(5) for j in range(i+1)]\u001b[0m\n\u001b[0m     ^\u001b[0m\n\u001b[0;31mSyntaxError\u001b[0m\u001b[0;31m:\u001b[0m invalid syntax. Perhaps you forgot a comma?\n"
     ]
    }
   ],
   "source": [
    "[print(\"*\", end = ' ') print() for i in range(5) for j in range(i+1)]"
   ]
  },
  {
   "cell_type": "code",
   "execution_count": 61,
   "id": "deb6e7dc-9686-4112-9261-030f8dd01f4c",
   "metadata": {},
   "outputs": [
    {
     "ename": "SyntaxError",
     "evalue": "unexpected character after line continuation character (1054306022.py, line 2)",
     "output_type": "error",
     "traceback": [
      "\u001b[0;36m  Cell \u001b[0;32mIn[61], line 2\u001b[0;36m\u001b[0m\n\u001b[0;31m    \\n.join(pattern)\u001b[0m\n\u001b[0m     ^\u001b[0m\n\u001b[0;31mSyntaxError\u001b[0m\u001b[0;31m:\u001b[0m unexpected character after line continuation character\n"
     ]
    }
   ],
   "source": [
    "pattern = [' '.join(['*' for j in range(i+1)]) for i in range(5)]\n",
    "\\n.join(pattern)"
   ]
  },
  {
   "cell_type": "code",
   "execution_count": 67,
   "id": "d76ef7bf-2696-42e9-837a-c906a5d87cd4",
   "metadata": {},
   "outputs": [
    {
     "name": "stdout",
     "output_type": "stream",
     "text": [
      "* * * * * \n",
      "* * * * \n",
      "* * * \n",
      "* * \n",
      "* \n"
     ]
    }
   ],
   "source": [
    "for i in range(5, 0, -1):\n",
    "    for j in range(i, 0, -1):\n",
    "        print(\"*\", end=\" \")\n",
    "    print()"
   ]
  },
  {
   "cell_type": "code",
   "execution_count": 74,
   "id": "bd7b6d58-ea77-466c-b9ca-1d5295d1b16e",
   "metadata": {},
   "outputs": [
    {
     "name": "stdout",
     "output_type": "stream",
     "text": [
      "1    2    3    4    5    \n",
      "2    4    6    8    10    \n",
      "3    6    9    12    15    \n",
      "4    8    12    16    20    \n",
      "5    10    15    20    25    \n"
     ]
    }
   ],
   "source": [
    "for i in range(1, 6):\n",
    "    for j in range(1, 6):\n",
    "        print(i*j, end = '    ')\n",
    "    print()"
   ]
  },
  {
   "cell_type": "code",
   "execution_count": null,
   "id": "677a5b81-9bee-4166-9b92-56ddbb2c5049",
   "metadata": {},
   "outputs": [],
   "source": []
  }
 ],
 "metadata": {
  "kernelspec": {
   "display_name": "Python 3 (ipykernel)",
   "language": "python",
   "name": "python3"
  },
  "language_info": {
   "codemirror_mode": {
    "name": "ipython",
    "version": 3
   },
   "file_extension": ".py",
   "mimetype": "text/x-python",
   "name": "python",
   "nbconvert_exporter": "python",
   "pygments_lexer": "ipython3",
   "version": "3.10.8"
  }
 },
 "nbformat": 4,
 "nbformat_minor": 5
}
