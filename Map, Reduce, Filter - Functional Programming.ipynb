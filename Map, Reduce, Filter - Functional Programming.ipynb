{
 "cells": [
  {
   "cell_type": "markdown",
   "id": "ae8d7270-11ce-4346-aa86-408a62ec3ad5",
   "metadata": {},
   "source": [
    "# Map"
   ]
  },
  {
   "cell_type": "code",
   "execution_count": 4,
   "id": "63b4e3eb-d0f9-4f14-b579-fc24702016fe",
   "metadata": {},
   "outputs": [],
   "source": [
    "l = [1, 2, 3, 4, 5]\n",
    "def add_list(l):\n",
    "    l1 = []\n",
    "    for i in l:\n",
    "        l1.append(i+2)\n",
    "    return l1"
   ]
  },
  {
   "cell_type": "code",
   "execution_count": 5,
   "id": "7cef7e0f-183a-4a49-905a-df28b5ae0ff2",
   "metadata": {},
   "outputs": [
    {
     "data": {
      "text/plain": [
       "[3, 4, 5, 6, 7]"
      ]
     },
     "execution_count": 5,
     "metadata": {},
     "output_type": "execute_result"
    }
   ],
   "source": [
    "add_list(l)"
   ]
  },
  {
   "cell_type": "code",
   "execution_count": 10,
   "id": "ce2ac98d-0b7c-4073-b6e4-e46494011da1",
   "metadata": {},
   "outputs": [],
   "source": [
    "v = list(map(lambda x: x+2, l))"
   ]
  },
  {
   "cell_type": "code",
   "execution_count": 12,
   "id": "601b8415-ac19-4c5a-ab96-5b3dc55c6376",
   "metadata": {},
   "outputs": [
    {
     "data": {
      "text/plain": [
       "[3, 4, 5, 6, 7]"
      ]
     },
     "execution_count": 12,
     "metadata": {},
     "output_type": "execute_result"
    }
   ],
   "source": [
    "v"
   ]
  },
  {
   "cell_type": "markdown",
   "id": "145f8025-c709-42cd-873b-39857f6eb1ad",
   "metadata": {},
   "source": [
    "def t(n):"
   ]
  },
  {
   "cell_type": "code",
   "execution_count": 13,
   "id": "7bd4a78b-4f24-480d-86e7-50b616dfab6b",
   "metadata": {},
   "outputs": [],
   "source": [
    "def t(n):\n",
    "    return n+2"
   ]
  },
  {
   "cell_type": "code",
   "execution_count": 15,
   "id": "33b71e17-e98d-46ec-8912-d0d8a79139a2",
   "metadata": {},
   "outputs": [
    {
     "data": {
      "text/plain": [
       "[3, 4, 5, 6, 7]"
      ]
     },
     "execution_count": 15,
     "metadata": {},
     "output_type": "execute_result"
    }
   ],
   "source": [
    "list(map(t, [1, 2, 3, 4, 5]))"
   ]
  },
  {
   "cell_type": "code",
   "execution_count": 16,
   "id": "c94fc032-64fa-4d7b-858f-85861e140c07",
   "metadata": {},
   "outputs": [
    {
     "data": {
      "text/plain": [
       "[5, 5, 10]"
      ]
     },
     "execution_count": 16,
     "metadata": {},
     "output_type": "execute_result"
    }
   ],
   "source": [
    "l = [\"Hansa\", \"Loves\", \"Guruprasad\"]\n",
    "\n",
    "list(map(lambda a: len(a), l))"
   ]
  },
  {
   "cell_type": "code",
   "execution_count": 19,
   "id": "7b7c7162-ecb6-4c29-a888-55c37e31869d",
   "metadata": {},
   "outputs": [
    {
     "data": {
      "text/plain": [
       "[5, 5, 10]"
      ]
     },
     "execution_count": 19,
     "metadata": {},
     "output_type": "execute_result"
    }
   ],
   "source": [
    "list(map(len, l))"
   ]
  },
  {
   "cell_type": "code",
   "execution_count": 20,
   "id": "a6ef0dea-2af0-4b54-9f41-f8ba17a32079",
   "metadata": {},
   "outputs": [],
   "source": [
    "def rev(s):\n",
    "    return s[::-1]"
   ]
  },
  {
   "cell_type": "code",
   "execution_count": 24,
   "id": "bf946fa7-b868-46fc-b6d2-d8a433db26d6",
   "metadata": {},
   "outputs": [
    {
     "data": {
      "text/plain": [
       "['asnaH', 'sevoL', 'dasarpuruG']"
      ]
     },
     "execution_count": 24,
     "metadata": {},
     "output_type": "execute_result"
    }
   ],
   "source": [
    "list(map(lambda s: s[::-1], l))"
   ]
  },
  {
   "cell_type": "code",
   "execution_count": null,
   "id": "b5c09078-246b-4234-99fb-497b8977562b",
   "metadata": {},
   "outputs": [],
   "source": []
  },
  {
   "cell_type": "markdown",
   "id": "91a08db9-40a8-42d1-ba84-900d7f31b992",
   "metadata": {},
   "source": [
    "# Reduce"
   ]
  },
  {
   "cell_type": "code",
   "execution_count": 26,
   "id": "d22ecbd4-8d19-4b2d-bfb5-2adf9cde0e42",
   "metadata": {},
   "outputs": [
    {
     "data": {
      "text/plain": [
       "14400"
      ]
     },
     "execution_count": 26,
     "metadata": {},
     "output_type": "execute_result"
    }
   ],
   "source": [
    "l = [1, 2, 3, 4, 5, 5, 4, 3, 2, 1]\n",
    "\n",
    "# give the multiplied value of these elements\n",
    "from functools import reduce\n",
    "\n",
    "reduce(lambda a,b: a*b, l)"
   ]
  },
  {
   "cell_type": "code",
   "execution_count": 28,
   "id": "f9ffd34f-f371-4b01-98d5-7dbe2037cd37",
   "metadata": {},
   "outputs": [
    {
     "data": {
      "text/plain": [
       "5"
      ]
     },
     "execution_count": 28,
     "metadata": {},
     "output_type": "execute_result"
    }
   ],
   "source": [
    "l2 = [1, 2, 3, 4, 5, 5, 4, 3, 2, 1]\n",
    "\n",
    "reduce(max, l2)"
   ]
  },
  {
   "cell_type": "code",
   "execution_count": 34,
   "id": "a9293050-01eb-4504-b7e6-589fc88d5175",
   "metadata": {},
   "outputs": [
    {
     "data": {
      "text/plain": [
       "5"
      ]
     },
     "execution_count": 34,
     "metadata": {},
     "output_type": "execute_result"
    }
   ],
   "source": [
    "reduce(lambda a, b: a if a>b else b, l2)"
   ]
  },
  {
   "cell_type": "code",
   "execution_count": 35,
   "id": "5e827007-2221-40fd-9feb-c8b7587be101",
   "metadata": {},
   "outputs": [],
   "source": [
    "fact_lamb = lambda n: 1 if n == 0 or n == 1 else n * fact_lamb(n-1)"
   ]
  },
  {
   "cell_type": "code",
   "execution_count": 44,
   "id": "fad58b62-c48f-4ca2-8e94-984a7661bd8d",
   "metadata": {},
   "outputs": [
    {
     "data": {
      "text/plain": [
       "120"
      ]
     },
     "execution_count": 44,
     "metadata": {},
     "output_type": "execute_result"
    }
   ],
   "source": [
    "n = 5\n",
    "reduce(lambda a, b: a*b, range(1, n+1))"
   ]
  },
  {
   "cell_type": "code",
   "execution_count": 7,
   "id": "abb8b603-940d-47f4-8982-d9a2ad932524",
   "metadata": {},
   "outputs": [
    {
     "data": {
      "text/plain": [
       "7680"
      ]
     },
     "execution_count": 7,
     "metadata": {},
     "output_type": "execute_result"
    }
   ],
   "source": [
    "l2 = [1, 2, 3, 4, 5, 5, 4, 3, 2, 1, 10, 12]\n",
    "from functools import reduce\n",
    "reduce(lambda a, b: a*b, [x for x in l2 if x%2 == 0])"
   ]
  },
  {
   "cell_type": "code",
   "execution_count": null,
   "id": "f0390f02-fd97-455a-b572-5941287f36bd",
   "metadata": {},
   "outputs": [],
   "source": []
  },
  {
   "cell_type": "markdown",
   "id": "e4b2ad66-8cf9-4423-b02c-bad14526d30a",
   "metadata": {},
   "source": [
    "# Filter"
   ]
  },
  {
   "cell_type": "code",
   "execution_count": 8,
   "id": "6e9779d2-0865-4d32-b7c3-b9313523ab2e",
   "metadata": {},
   "outputs": [],
   "source": [
    "l3 = [1, 2, 3, 4, 5, 5, 4, 3, 2, 1, 10, 12]"
   ]
  },
  {
   "cell_type": "code",
   "execution_count": 11,
   "id": "44e1136b-7fb9-4b44-99e1-cc123bd34cb2",
   "metadata": {},
   "outputs": [
    {
     "data": {
      "text/plain": [
       "[2, 4, 4, 2, 10, 12]"
      ]
     },
     "execution_count": 11,
     "metadata": {},
     "output_type": "execute_result"
    }
   ],
   "source": [
    "list(filter(lambda a: a%2 == 0, l3))"
   ]
  },
  {
   "cell_type": "code",
   "execution_count": 13,
   "id": "4f794f7b-2fbb-47f4-a6e1-85a408a5ec2e",
   "metadata": {},
   "outputs": [],
   "source": [
    "s = \"Pwskills\""
   ]
  },
  {
   "cell_type": "code",
   "execution_count": 16,
   "id": "b734d465-9366-49f2-be95-87307cec1d70",
   "metadata": {},
   "outputs": [
    {
     "data": {
      "text/plain": [
       "['w', 's', 'k', 'i', 'l', 'l', 's']"
      ]
     },
     "execution_count": 16,
     "metadata": {},
     "output_type": "execute_result"
    }
   ],
   "source": [
    "list(filter(lambda a: a.islower(), s))"
   ]
  },
  {
   "cell_type": "code",
   "execution_count": 17,
   "id": "834c8878-6709-4b1f-be3f-c3d27a52906d",
   "metadata": {},
   "outputs": [],
   "source": [
    "l4 = [\"pw\", \"pwskills\", \"hansa\", \"guru\", \"love\"]"
   ]
  },
  {
   "cell_type": "code",
   "execution_count": 21,
   "id": "b0906c89-f0a0-4015-abf7-1022f3c252cf",
   "metadata": {},
   "outputs": [
    {
     "data": {
      "text/plain": [
       "['pw', 'guru', 'love']"
      ]
     },
     "execution_count": 21,
     "metadata": {},
     "output_type": "execute_result"
    }
   ],
   "source": [
    "list(filter(lambda s: len(s) <= 4, l4))"
   ]
  },
  {
   "cell_type": "code",
   "execution_count": 22,
   "id": "f36bdb58-efc0-4ed0-83bb-d18ecd716304",
   "metadata": {},
   "outputs": [
    {
     "data": {
      "text/plain": [
       "['pw', 'pwskills']"
      ]
     },
     "execution_count": 22,
     "metadata": {},
     "output_type": "execute_result"
    }
   ],
   "source": [
    "list(filter(lambda s: s.startswith('p'), l4))"
   ]
  },
  {
   "cell_type": "code",
   "execution_count": null,
   "id": "ab4ab4c5-fbd3-4755-bf21-f70435ac8671",
   "metadata": {},
   "outputs": [],
   "source": []
  },
  {
   "cell_type": "markdown",
   "id": "99fc4b76-1b97-4f49-87b7-ef71e45e61c3",
   "metadata": {},
   "source": [
    "# Recursion"
   ]
  },
  {
   "cell_type": "code",
   "execution_count": 24,
   "id": "475e6281-8cc1-40dd-8b9b-fe38e2dd0c54",
   "metadata": {},
   "outputs": [],
   "source": [
    "# fibonacci series"
   ]
  },
  {
   "cell_type": "code",
   "execution_count": 2,
   "id": "2a4a50e1-4cd4-4aec-a536-43b8912d80b8",
   "metadata": {},
   "outputs": [
    {
     "name": "stdout",
     "output_type": "stream",
     "text": [
      "0\n",
      "1\n",
      "1\n",
      "2\n",
      "3\n",
      "5\n",
      "8\n",
      "13\n",
      "21\n",
      "34\n"
     ]
    }
   ],
   "source": [
    "def fibo(n):\n",
    "    if n <= 1:\n",
    "        return n\n",
    "    else:\n",
    "        return fibo(n-1) + fibo(n-2)\n",
    "\n",
    "for i in range(10):\n",
    "    print(fibo(i))"
   ]
  },
  {
   "cell_type": "code",
   "execution_count": 7,
   "id": "1df30c67-8c17-4127-8ae8-c82fc96928bd",
   "metadata": {},
   "outputs": [
    {
     "data": {
      "text/plain": [
       "1"
      ]
     },
     "execution_count": 7,
     "metadata": {},
     "output_type": "execute_result"
    }
   ],
   "source": [
    "def summation(n):\n",
    "    if n <= 1:\n",
    "        return 1\n",
    "    else:\n",
    "        return n + summation(n-1)\n",
    "    \n",
    "summation(0)"
   ]
  },
  {
   "cell_type": "code",
   "execution_count": null,
   "id": "63684dd7-f21e-43da-bc79-0e66c4a6a208",
   "metadata": {},
   "outputs": [],
   "source": []
  }
 ],
 "metadata": {
  "kernelspec": {
   "display_name": "Python 3 (ipykernel)",
   "language": "python",
   "name": "python3"
  },
  "language_info": {
   "codemirror_mode": {
    "name": "ipython",
    "version": 3
   },
   "file_extension": ".py",
   "mimetype": "text/x-python",
   "name": "python",
   "nbconvert_exporter": "python",
   "pygments_lexer": "ipython3",
   "version": "3.10.8"
  }
 },
 "nbformat": 4,
 "nbformat_minor": 5
}
