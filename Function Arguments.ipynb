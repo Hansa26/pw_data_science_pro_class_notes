{
 "cells": [
  {
   "cell_type": "markdown",
   "id": "7c880a7b-4996-4021-9f01-39ed4ba60838",
   "metadata": {},
   "source": [
    "# Function - Arguments"
   ]
  },
  {
   "cell_type": "raw",
   "id": "0b96c453-e2b3-4de3-8573-68bf9e60c64d",
   "metadata": {},
   "source": [
    "Different type of arguments:\n",
    "\n",
    "1. Positional Arguments\n",
    "2. Default Arguments\n",
    "3. Keyword Arguments\n",
    "4. Variable Length Arguments"
   ]
  },
  {
   "cell_type": "markdown",
   "id": "285bd3aa-e229-4d63-84e8-dcf61f726c58",
   "metadata": {},
   "source": [
    "# Positional Arguments"
   ]
  },
  {
   "cell_type": "code",
   "execution_count": 1,
   "id": "e1e79bc4-fb1d-44ae-88b2-89f1450b8a08",
   "metadata": {},
   "outputs": [
    {
     "data": {
      "text/plain": [
       "'Sum = 5'"
      ]
     },
     "execution_count": 1,
     "metadata": {},
     "output_type": "execute_result"
    }
   ],
   "source": [
    "def add_nums(a, b):\n",
    "    return f\"Sum = {a+b}\"\n",
    "\n",
    "add_nums(2, 3) # positional argument"
   ]
  },
  {
   "cell_type": "code",
   "execution_count": 2,
   "id": "c0f025be-a3a9-4333-ba20-298ecf29f82d",
   "metadata": {},
   "outputs": [
    {
     "name": "stdout",
     "output_type": "stream",
     "text": [
      "My name is  Hansa Guru\n"
     ]
    }
   ],
   "source": [
    "def name(emp_name):\n",
    "    print(\"My name is \", emp_name)\n",
    "    \n",
    "name('Hansa Guru') # positional argument"
   ]
  },
  {
   "cell_type": "markdown",
   "id": "53a05b65-01e5-4562-aa84-13d78bf3cc7a",
   "metadata": {},
   "source": [
    "# defualt arguments"
   ]
  },
  {
   "cell_type": "code",
   "execution_count": 5,
   "id": "d414077b-c402-4e89-902b-dd0efa04492a",
   "metadata": {},
   "outputs": [
    {
     "data": {
      "text/plain": [
       "'Sum = 12'"
      ]
     },
     "execution_count": 5,
     "metadata": {},
     "output_type": "execute_result"
    }
   ],
   "source": [
    "def add_nums_def(a=4, b=8): # defualt arguments\n",
    "    return f\"Sum = {a+b}\"\n",
    "\n",
    "add_nums_def() "
   ]
  },
  {
   "cell_type": "code",
   "execution_count": 6,
   "id": "dcb97443-4904-44b9-8648-faac8b9221ab",
   "metadata": {},
   "outputs": [
    {
     "data": {
      "text/plain": [
       "'Sum = 6'"
      ]
     },
     "execution_count": 6,
     "metadata": {},
     "output_type": "execute_result"
    }
   ],
   "source": [
    "add_nums_def(2, 4)"
   ]
  },
  {
   "cell_type": "code",
   "execution_count": 7,
   "id": "0ad40b69-f63a-4733-8ebc-27783493ed20",
   "metadata": {},
   "outputs": [
    {
     "name": "stdout",
     "output_type": "stream",
     "text": [
      "My name is  Hansa\n"
     ]
    }
   ],
   "source": [
    "def name_def(emp_name=\"Hansa\"):\n",
    "    print(\"My name is \", emp_name)\n",
    "    \n",
    "name_def()"
   ]
  },
  {
   "cell_type": "code",
   "execution_count": 8,
   "id": "15ccf9af-ef88-4e81-8f66-76ce92591125",
   "metadata": {},
   "outputs": [
    {
     "name": "stdout",
     "output_type": "stream",
     "text": [
      "My name is  Hansa Guruprasad\n"
     ]
    }
   ],
   "source": [
    "name_def(\"Hansa Guruprasad\")"
   ]
  },
  {
   "cell_type": "markdown",
   "id": "338a9693-7812-4723-8ae2-db96aa237e4a",
   "metadata": {},
   "source": [
    "# keyword arguments"
   ]
  },
  {
   "cell_type": "code",
   "execution_count": 14,
   "id": "73778182-0f5f-452b-bb1c-7b4fe52da64f",
   "metadata": {},
   "outputs": [],
   "source": [
    "def display_info(fname, lname):\n",
    "    print(\"First Name: \", fname)\n",
    "    print(\"Last Name: \", lname)"
   ]
  },
  {
   "cell_type": "code",
   "execution_count": 15,
   "id": "1e071ee7-7b1e-4644-bcb9-a0be41f11fa4",
   "metadata": {},
   "outputs": [
    {
     "name": "stdout",
     "output_type": "stream",
     "text": [
      "First Name:  Hansa\n",
      "Last Name:  Guruprasad\n"
     ]
    }
   ],
   "source": [
    "display_info(lname='Guruprasad', fname='Hansa')"
   ]
  },
  {
   "cell_type": "code",
   "execution_count": 16,
   "id": "213a523b-0e34-4363-b3ad-05c657e52696",
   "metadata": {},
   "outputs": [],
   "source": [
    "def add_two_num(a, b):\n",
    "    print(\"a = \", a)\n",
    "    print(\"b = \", b)\n",
    "    return a+b"
   ]
  },
  {
   "cell_type": "code",
   "execution_count": 17,
   "id": "e7e00ff3-9370-45cc-b588-ae426e78083d",
   "metadata": {},
   "outputs": [
    {
     "name": "stdout",
     "output_type": "stream",
     "text": [
      "a =  10\n",
      "b =  20\n"
     ]
    },
    {
     "data": {
      "text/plain": [
       "30"
      ]
     },
     "execution_count": 17,
     "metadata": {},
     "output_type": "execute_result"
    }
   ],
   "source": [
    "add_two_num(b=20, a=10)"
   ]
  },
  {
   "cell_type": "code",
   "execution_count": null,
   "id": "2dec9641-c9b0-42ad-bbcb-1346e493aa61",
   "metadata": {},
   "outputs": [],
   "source": []
  },
  {
   "cell_type": "markdown",
   "id": "d4264f62-b249-4c19-9bc5-ae1dfd615bec",
   "metadata": {},
   "source": [
    "# variable length arguments"
   ]
  },
  {
   "cell_type": "code",
   "execution_count": null,
   "id": "c2be3818-297d-406a-9544-467701aa991d",
   "metadata": {},
   "outputs": [],
   "source": [
    "# *args, **kwargs"
   ]
  },
  {
   "cell_type": "code",
   "execution_count": 16,
   "id": "fffa2314-5b7d-48e6-9a36-041ecc2b161a",
   "metadata": {},
   "outputs": [],
   "source": [
    "def find_sum(*num): # *args --> accepts n number of arguments!\n",
    "    result = 0\n",
    "    for n in num:\n",
    "        result += n\n",
    "    print(\"Sum = \", result)\n",
    "    \n",
    "# find_sum()"
   ]
  },
  {
   "cell_type": "code",
   "execution_count": 17,
   "id": "3791a503-65ba-406c-9db0-8e2fb40af84d",
   "metadata": {},
   "outputs": [
    {
     "name": "stdout",
     "output_type": "stream",
     "text": [
      "Sum =  3\n"
     ]
    }
   ],
   "source": [
    "find_sum(1, 2)"
   ]
  },
  {
   "cell_type": "code",
   "execution_count": 18,
   "id": "fcd49f1f-64e9-44c2-8461-e612516fc576",
   "metadata": {},
   "outputs": [
    {
     "name": "stdout",
     "output_type": "stream",
     "text": [
      "Sum =  10\n"
     ]
    }
   ],
   "source": [
    "find_sum(1, 2, 3, 4)"
   ]
  },
  {
   "cell_type": "code",
   "execution_count": 21,
   "id": "10c43546-f7bd-409c-917d-d41f035bcf95",
   "metadata": {},
   "outputs": [
    {
     "name": "stdout",
     "output_type": "stream",
     "text": [
      "Sum =  35\n"
     ]
    }
   ],
   "source": [
    "find_sum(1, 2, 3, 4, 5, 6, 7, 7)"
   ]
  },
  {
   "cell_type": "code",
   "execution_count": 23,
   "id": "8fcbd80b-648f-4a26-b321-e6820548f769",
   "metadata": {},
   "outputs": [],
   "source": [
    "def sum_numbers(a, *b):\n",
    "    s = a\n",
    "    for i in b:\n",
    "        s = s + i\n",
    "    return s"
   ]
  },
  {
   "cell_type": "code",
   "execution_count": 26,
   "id": "6ac5a1df-4a57-4534-ae0e-e0071520d652",
   "metadata": {},
   "outputs": [
    {
     "data": {
      "text/plain": [
       "121"
      ]
     },
     "execution_count": 26,
     "metadata": {},
     "output_type": "execute_result"
    }
   ],
   "source": [
    "sum_numbers(1, 100, 20)"
   ]
  },
  {
   "cell_type": "code",
   "execution_count": null,
   "id": "c5ef442a-f5a8-4044-b0c4-3fd021c46137",
   "metadata": {},
   "outputs": [],
   "source": []
  },
  {
   "cell_type": "code",
   "execution_count": 34,
   "id": "549cad32-acd3-4a58-b98e-bc0a02032e92",
   "metadata": {},
   "outputs": [],
   "source": [
    "def intro(**data):\n",
    "    print(\"data type of kwargs is \", type(data))\n",
    "    print(data)\n",
    "    for k, v in data.items():\n",
    "            print(k +\": \"+ v)"
   ]
  },
  {
   "cell_type": "code",
   "execution_count": 35,
   "id": "c1fc6478-7cb8-4ff1-a0a4-c5452cc8e1fb",
   "metadata": {},
   "outputs": [
    {
     "name": "stdout",
     "output_type": "stream",
     "text": [
      "data type of kwargs is  <class 'dict'>\n",
      "{'fname': 'Hansa', 'lname': 'Guruprasad', 'qualification': 'B.E.'}\n",
      "fname: Hansa\n",
      "lname: Guruprasad\n",
      "qualification: B.E.\n"
     ]
    }
   ],
   "source": [
    "intro(fname='Hansa', lname='Guruprasad', qualification='B.E.')"
   ]
  },
  {
   "cell_type": "code",
   "execution_count": 37,
   "id": "e863fe57-d69b-4056-9b20-413ce6fb0b00",
   "metadata": {},
   "outputs": [],
   "source": [
    "def simple(**x):\n",
    "    print(x)"
   ]
  },
  {
   "cell_type": "code",
   "execution_count": 38,
   "id": "886604b0-3175-430f-9d79-9750d67bba75",
   "metadata": {},
   "outputs": [
    {
     "name": "stdout",
     "output_type": "stream",
     "text": [
      "{'name': 'Hansa', 'age': 26, 'id': '320494'}\n"
     ]
    }
   ],
   "source": [
    "simple(name='Hansa', age=26, id='320494')"
   ]
  },
  {
   "cell_type": "code",
   "execution_count": null,
   "id": "48ab916a-d58b-478c-97f3-c00424717a60",
   "metadata": {},
   "outputs": [],
   "source": []
  },
  {
   "cell_type": "code",
   "execution_count": null,
   "id": "21d96ca5-ee1a-4e13-9f65-856dc657376d",
   "metadata": {},
   "outputs": [],
   "source": []
  },
  {
   "cell_type": "markdown",
   "id": "8340fe0e-1cdb-44da-9f09-a22a4784bebc",
   "metadata": {},
   "source": [
    "# lambda functions"
   ]
  },
  {
   "cell_type": "code",
   "execution_count": 39,
   "id": "3dfc49bc-1f6d-4bb9-b309-7d69797203f9",
   "metadata": {},
   "outputs": [],
   "source": [
    "# anonymus function -> shorlived functions -> \n",
    "\n",
    "# Syntax --> lambda args: expression"
   ]
  },
  {
   "cell_type": "code",
   "execution_count": 40,
   "id": "94b52936-cb26-4019-9800-ad41501774dd",
   "metadata": {},
   "outputs": [],
   "source": [
    "greet = lambda : print('Hello World')"
   ]
  },
  {
   "cell_type": "code",
   "execution_count": 42,
   "id": "ff86daca-8674-4f59-9ee8-2a1124e5896c",
   "metadata": {},
   "outputs": [
    {
     "name": "stdout",
     "output_type": "stream",
     "text": [
      "Hello World\n"
     ]
    }
   ],
   "source": [
    "greet()"
   ]
  },
  {
   "cell_type": "code",
   "execution_count": 43,
   "id": "f406a177-3fed-44b1-8f69-4142ed62f834",
   "metadata": {},
   "outputs": [],
   "source": [
    "pw = lambda : print(\"PW SKills\")"
   ]
  },
  {
   "cell_type": "code",
   "execution_count": 44,
   "id": "7440c63f-4603-4f96-981f-6cf54f1d2d7c",
   "metadata": {},
   "outputs": [
    {
     "name": "stdout",
     "output_type": "stream",
     "text": [
      "PW SKills\n"
     ]
    }
   ],
   "source": [
    "pw()"
   ]
  },
  {
   "cell_type": "code",
   "execution_count": 45,
   "id": "aec33b06-69ca-4d41-b7ef-bed376b95d62",
   "metadata": {},
   "outputs": [],
   "source": [
    "add_num = lambda a, b: a+b"
   ]
  },
  {
   "cell_type": "code",
   "execution_count": 46,
   "id": "9a84da7e-c85b-4489-bdcd-5b733d12d55c",
   "metadata": {},
   "outputs": [
    {
     "data": {
      "text/plain": [
       "5"
      ]
     },
     "execution_count": 46,
     "metadata": {},
     "output_type": "execute_result"
    }
   ],
   "source": [
    "add_num(2, 3)"
   ]
  },
  {
   "cell_type": "code",
   "execution_count": 47,
   "id": "ecd91456-ad10-4f94-aea1-00e4ef4c5deb",
   "metadata": {},
   "outputs": [],
   "source": [
    "mul_num = lambda a, b: a*b"
   ]
  },
  {
   "cell_type": "code",
   "execution_count": 48,
   "id": "7a0a121e-eb70-478c-954c-5ca2aa58aea9",
   "metadata": {},
   "outputs": [
    {
     "data": {
      "text/plain": [
       "8"
      ]
     },
     "execution_count": 48,
     "metadata": {},
     "output_type": "execute_result"
    }
   ],
   "source": [
    "mul_num(2, 4)"
   ]
  },
  {
   "cell_type": "code",
   "execution_count": 49,
   "id": "c93e2bf6-e36f-46d8-83ad-4dc8102b4a2d",
   "metadata": {},
   "outputs": [
    {
     "name": "stdin",
     "output_type": "stream",
     "text": [
      "Enter first number:  4\n",
      "Enter second number:  6\n"
     ]
    },
    {
     "name": "stdout",
     "output_type": "stream",
     "text": [
      "(16, 36)\n"
     ]
    }
   ],
   "source": [
    "a = int(input(\"Enter first number: \"))\n",
    "b = int(input(\"Enter second number: \"))\n",
    "\n",
    "sq_num = lambda a, b: (a**2, b**2)\n",
    "\n",
    "print(sq_num(a, b))"
   ]
  },
  {
   "cell_type": "code",
   "execution_count": 58,
   "id": "0ecdcdde-8d62-47a7-b748-f7835ec976f1",
   "metadata": {},
   "outputs": [],
   "source": [
    "even_num = lambda : [a for a in range(1, 10) if a % 2 == 0]"
   ]
  },
  {
   "cell_type": "code",
   "execution_count": 56,
   "id": "4e0f8536-36b7-4476-8665-ba9104a32f18",
   "metadata": {},
   "outputs": [
    {
     "data": {
      "text/plain": [
       "[2, 4, 6, 8]"
      ]
     },
     "execution_count": 56,
     "metadata": {},
     "output_type": "execute_result"
    }
   ],
   "source": [
    "even_num()"
   ]
  },
  {
   "cell_type": "code",
   "execution_count": 61,
   "id": "2b234c87-9bee-4283-bfd3-e87334753de5",
   "metadata": {},
   "outputs": [
    {
     "name": "stdout",
     "output_type": "stream",
     "text": [
      "The greatest number is:  1.0\n"
     ]
    }
   ],
   "source": [
    "# WAP using lambda, that accepts two arguments and returns the greatest amongst\n",
    "\n",
    "great = lambda a, b: a if a > b else b\n",
    "\n",
    "print(\"The greatest number is: \", great(1, 1.0))"
   ]
  },
  {
   "cell_type": "code",
   "execution_count": 65,
   "id": "eccd1cb7-780c-423f-97b1-542427763b0a",
   "metadata": {},
   "outputs": [
    {
     "name": "stdout",
     "output_type": "stream",
     "text": [
      "The greatest number is:  101\n"
     ]
    }
   ],
   "source": [
    "# WAP using lambda, that accepts three arguments and returns the greatest amongst\n",
    "\n",
    "great_three = lambda a, b, c: a if (a > b and a > c) else b if b > a and b > c else c\n",
    "\n",
    "print(\"The greatest number is: \", great_three(100, 101, 99))"
   ]
  },
  {
   "cell_type": "code",
   "execution_count": 69,
   "id": "e078eb18-2d00-46ff-8d51-7f58fe150731",
   "metadata": {},
   "outputs": [
    {
     "data": {
      "text/plain": [
       "12"
      ]
     },
     "execution_count": 69,
     "metadata": {},
     "output_type": "execute_result"
    }
   ],
   "source": [
    "sum_three = lambda a, b, c: a + b + c\n",
    "sum_three(3, 4, 5)"
   ]
  },
  {
   "cell_type": "raw",
   "id": "b02ad3d8-8564-42e4-885a-74cae0c87b23",
   "metadata": {},
   "source": [
    "Signature: sorted(iterable, /, *, key=None, reverse=False)\n",
    "Docstring:\n",
    "Return a new list containing all items from the iterable in ascending order.\n",
    "\n",
    "A custom key function can be supplied to customize the sort order, and the\n",
    "reverse flag can be set to request the result in descending order.\n",
    "Type:      builtin_function_or_method"
   ]
  },
  {
   "cell_type": "code",
   "execution_count": 84,
   "id": "a3ea8d50-a930-49ab-a741-6138f9c9755b",
   "metadata": {},
   "outputs": [],
   "source": [
    "products = [\n",
    "    {'name': 'Milk', 'price': 32},\n",
    "    {'name': 'Biscuits', 'price': 50},\n",
    "    {'name': 'Bottles', 'price': 21},\n",
    "    {'name': 'Clips', 'price': 25}\n",
    "]\n",
    "# sort based on prices\n",
    "sorted_product = sorted(products, key=lambda x: x['price'])"
   ]
  },
  {
   "cell_type": "code",
   "execution_count": 85,
   "id": "55382e35-64b6-49b8-ba29-3cc1c6e0be58",
   "metadata": {},
   "outputs": [
    {
     "data": {
      "text/plain": [
       "[{'name': 'Bottles', 'price': 21},\n",
       " {'name': 'Clips', 'price': 25},\n",
       " {'name': 'Milk', 'price': 32},\n",
       " {'name': 'Biscuits', 'price': 50}]"
      ]
     },
     "execution_count": 85,
     "metadata": {},
     "output_type": "execute_result"
    }
   ],
   "source": [
    "sorted_product"
   ]
  },
  {
   "cell_type": "code",
   "execution_count": 94,
   "id": "e61ef877-4efb-4fe9-b038-0e391ae72bc2",
   "metadata": {},
   "outputs": [],
   "source": [
    "product2 = [\n",
    "    {'name': 'Milk', 'price': 32, 'DOE': {'year': 2023}},\n",
    "    {'name': 'Biscuits', 'price': 31, 'DOE': {'year': 2023}},\n",
    "    {'name': 'Bottles', 'price': 21, 'DOE': {'year': 2022}},\n",
    "    {'name': 'Clips', 'price': 25, 'DOE': {'year': 2024}}\n",
    "]\n",
    "\n",
    "sorted_doe = sorted(product2, key=lambda k: k.get('DOE', {}).get('year'))\n"
   ]
  },
  {
   "cell_type": "code",
   "execution_count": 95,
   "id": "7eae67a2-37c2-4ad9-b92a-33828502759a",
   "metadata": {},
   "outputs": [
    {
     "data": {
      "text/plain": [
       "[{'name': 'Bottles', 'price': 21, 'DOE': {'year': 2022}},\n",
       " {'name': 'Milk', 'price': 32, 'DOE': {'year': 2023}},\n",
       " {'name': 'Biscuits', 'price': 31, 'DOE': {'year': 2023}},\n",
       " {'name': 'Clips', 'price': 25, 'DOE': {'year': 2024}}]"
      ]
     },
     "execution_count": 95,
     "metadata": {},
     "output_type": "execute_result"
    }
   ],
   "source": [
    "sorted_doe"
   ]
  },
  {
   "cell_type": "code",
   "execution_count": 96,
   "id": "e0c2eef4-61f4-49d3-9810-ee6902229dd1",
   "metadata": {},
   "outputs": [],
   "source": [
    "# WAP using lambda that accepts a character as argument that returns true, if it is a vowel else False"
   ]
  },
  {
   "cell_type": "code",
   "execution_count": 97,
   "id": "454080ef-499f-45db-b494-454726f7eaa7",
   "metadata": {},
   "outputs": [],
   "source": [
    "char = lambda ch: True if ch in 'AEIOUaeiou' else False"
   ]
  },
  {
   "cell_type": "code",
   "execution_count": 98,
   "id": "7091c469-1a88-473b-91c6-bb91d643fea8",
   "metadata": {},
   "outputs": [
    {
     "data": {
      "text/plain": [
       "True"
      ]
     },
     "execution_count": 98,
     "metadata": {},
     "output_type": "execute_result"
    }
   ],
   "source": [
    "char('a')"
   ]
  },
  {
   "cell_type": "code",
   "execution_count": 99,
   "id": "cf3343e5-1060-4c60-8b1e-2afdc1094cd7",
   "metadata": {},
   "outputs": [],
   "source": [
    "# WAP using lambda that accepts a string as argument that returns vowels inside it"
   ]
  },
  {
   "cell_type": "code",
   "execution_count": 100,
   "id": "41b75881-a924-4567-885e-663471e35668",
   "metadata": {},
   "outputs": [],
   "source": [
    "string = 'Hansa'\n",
    "\n",
    "vowels = lambda x: [x for x in string if x in 'AEIOUaeiou']"
   ]
  },
  {
   "cell_type": "code",
   "execution_count": 103,
   "id": "ebe7eecd-055e-4d69-8163-d20279df9102",
   "metadata": {},
   "outputs": [
    {
     "data": {
      "text/plain": [
       "['a', 'a']"
      ]
     },
     "execution_count": 103,
     "metadata": {},
     "output_type": "execute_result"
    }
   ],
   "source": [
    "vowels(string)"
   ]
  },
  {
   "cell_type": "code",
   "execution_count": 104,
   "id": "17487f17-d12e-409b-b9a2-2d296802b94d",
   "metadata": {},
   "outputs": [
    {
     "data": {
      "text/plain": [
       "4"
      ]
     },
     "execution_count": 104,
     "metadata": {},
     "output_type": "execute_result"
    }
   ],
   "source": [
    "# some built-in functions\n",
    "\n",
    "max(1, 2, 3, 4)"
   ]
  },
  {
   "cell_type": "code",
   "execution_count": 105,
   "id": "cd364e00-4dbb-45d8-8e1a-51dfb7f9fdac",
   "metadata": {},
   "outputs": [
    {
     "data": {
      "text/plain": [
       "2.01"
      ]
     },
     "execution_count": 105,
     "metadata": {},
     "output_type": "execute_result"
    }
   ],
   "source": [
    "max([1, 0, 2, 2.0, 2.01])"
   ]
  },
  {
   "cell_type": "code",
   "execution_count": 114,
   "id": "a653a4f9-9080-4a7b-a2e9-38821762e48a",
   "metadata": {},
   "outputs": [
    {
     "name": "stdout",
     "output_type": "stream",
     "text": [
      "65 1\n",
      "66 2\n",
      "67 3\n",
      "68 4\n",
      "69 5\n",
      "70 6\n",
      "71 7\n",
      "72 8\n",
      "73 9\n"
     ]
    }
   ],
   "source": [
    "rang = enumerate(range(1, 10), ord('A'))\n",
    "for index, num in rang:\n",
    "    print(index, num)"
   ]
  },
  {
   "cell_type": "markdown",
   "id": "7007d6be-105e-4da6-944a-855227ca0588",
   "metadata": {},
   "source": [
    "# List Comprehensions"
   ]
  },
  {
   "cell_type": "code",
   "execution_count": 118,
   "id": "19940c34-ac9f-4f20-bba6-25967c89acbb",
   "metadata": {},
   "outputs": [
    {
     "name": "stdout",
     "output_type": "stream",
     "text": [
      "1\n",
      "2\n",
      "3\n",
      "4\n",
      "5\n"
     ]
    }
   ],
   "source": [
    "y = [print(x) for x in range(1, 6)]"
   ]
  },
  {
   "cell_type": "code",
   "execution_count": 119,
   "id": "42e8ffa9-415f-4936-ac83-7ace3b481180",
   "metadata": {},
   "outputs": [
    {
     "data": {
      "text/plain": [
       "[None, None, None, None, None]"
      ]
     },
     "execution_count": 119,
     "metadata": {},
     "output_type": "execute_result"
    }
   ],
   "source": [
    "y"
   ]
  },
  {
   "cell_type": "code",
   "execution_count": 120,
   "id": "3ff413be-66ce-43cd-85c5-5a787f836c7e",
   "metadata": {},
   "outputs": [],
   "source": [
    "f = ['two' if x % 2 == 0 else 'three' if x % 3 == 0 else 'not divisible by 2 & 3' for x in range(1, 11)]"
   ]
  },
  {
   "cell_type": "code",
   "execution_count": 121,
   "id": "e8d114a8-9a57-4695-9054-554cc9df3e83",
   "metadata": {},
   "outputs": [
    {
     "data": {
      "text/plain": [
       "['not divisible by 2 & 3',\n",
       " 'two',\n",
       " 'three',\n",
       " 'two',\n",
       " 'not divisible by 2 & 3',\n",
       " 'two',\n",
       " 'not divisible by 2 & 3',\n",
       " 'two',\n",
       " 'three',\n",
       " 'two']"
      ]
     },
     "execution_count": 121,
     "metadata": {},
     "output_type": "execute_result"
    }
   ],
   "source": [
    "f"
   ]
  },
  {
   "cell_type": "code",
   "execution_count": null,
   "id": "e16a639a-fe73-4ab2-b6c1-96b9c99a480b",
   "metadata": {},
   "outputs": [],
   "source": []
  }
 ],
 "metadata": {
  "kernelspec": {
   "display_name": "Python 3 (ipykernel)",
   "language": "python",
   "name": "python3"
  },
  "language_info": {
   "codemirror_mode": {
    "name": "ipython",
    "version": 3
   },
   "file_extension": ".py",
   "mimetype": "text/x-python",
   "name": "python",
   "nbconvert_exporter": "python",
   "pygments_lexer": "ipython3",
   "version": "3.10.8"
  }
 },
 "nbformat": 4,
 "nbformat_minor": 5
}
