{
 "cells": [
  {
   "cell_type": "code",
   "execution_count": 3,
   "id": "234d9127-0155-484a-949e-3792c1a17323",
   "metadata": {},
   "outputs": [],
   "source": [
    "s = 'Hansa'"
   ]
  },
  {
   "cell_type": "code",
   "execution_count": 4,
   "id": "d83cb3b8-7e86-4c5e-a082-0178eb583efc",
   "metadata": {},
   "outputs": [
    {
     "ename": "ValueError",
     "evalue": "invalid literal for int() with base 10: 'Hansa'",
     "output_type": "error",
     "traceback": [
      "\u001b[0;31m---------------------------------------------------------------------------\u001b[0m",
      "\u001b[0;31mValueError\u001b[0m                                Traceback (most recent call last)",
      "Cell \u001b[0;32mIn[4], line 1\u001b[0m\n\u001b[0;32m----> 1\u001b[0m \u001b[38;5;28;43mint\u001b[39;49m\u001b[43m(\u001b[49m\u001b[43ms\u001b[49m\u001b[43m)\u001b[49m\n",
      "\u001b[0;31mValueError\u001b[0m: invalid literal for int() with base 10: 'Hansa'"
     ]
    }
   ],
   "source": [
    "int(s)"
   ]
  },
  {
   "cell_type": "markdown",
   "id": "938803d9-c3f1-4de3-ad36-82335f58b626",
   "metadata": {},
   "source": [
    "-------------------------------------------------------------------------------\n",
    "User input"
   ]
  },
  {
   "cell_type": "code",
   "execution_count": 5,
   "id": "4ea1e512-32ac-4ac8-bfdc-8f4e176022a7",
   "metadata": {},
   "outputs": [],
   "source": [
    "a = 123345"
   ]
  },
  {
   "cell_type": "code",
   "execution_count": 6,
   "id": "d6329a3a-90dd-4afb-9c5f-e5083fcaf383",
   "metadata": {},
   "outputs": [
    {
     "name": "stdin",
     "output_type": "stream",
     "text": [
      " Hansa loves Guru\n"
     ]
    }
   ],
   "source": [
    "b = input()"
   ]
  },
  {
   "cell_type": "code",
   "execution_count": 7,
   "id": "6626a742-29d4-4641-9491-cd9d0d9ae369",
   "metadata": {},
   "outputs": [
    {
     "data": {
      "text/plain": [
       "'Hansa loves Guru'"
      ]
     },
     "execution_count": 7,
     "metadata": {},
     "output_type": "execute_result"
    }
   ],
   "source": [
    "b"
   ]
  },
  {
   "cell_type": "markdown",
   "id": "fe7c044e-d9ac-4c8c-b5fe-4c44ae77cf9d",
   "metadata": {},
   "source": [
    "c = input()"
   ]
  },
  {
   "cell_type": "code",
   "execution_count": 8,
   "id": "553309d0-8d22-4295-b31d-a0c9d2889bba",
   "metadata": {},
   "outputs": [
    {
     "data": {
      "text/plain": [
       "'123'"
      ]
     },
     "execution_count": 8,
     "metadata": {},
     "output_type": "execute_result"
    }
   ],
   "source": [
    "c"
   ]
  },
  {
   "cell_type": "markdown",
   "id": "8f30fdd5-a627-4593-94a7-4d8bdc604cc6",
   "metadata": {},
   "source": [
    "--------------------\n",
    "input() -> default functionlity is string\n",
    "any value entered through input function will be considered as string!--> The output of input() fn is always a string!"
   ]
  },
  {
   "cell_type": "code",
   "execution_count": 8,
   "id": "cef6d30c-b90f-4ec1-bbda-7186a01d27df",
   "metadata": {},
   "outputs": [
    {
     "data": {
      "text/plain": [
       "'Hansa'"
      ]
     },
     "execution_count": 8,
     "metadata": {},
     "output_type": "execute_result"
    }
   ],
   "source": [
    "s"
   ]
  },
  {
   "cell_type": "code",
   "execution_count": 9,
   "id": "dd450108-a342-41c5-9412-9c28e3e2b5f0",
   "metadata": {},
   "outputs": [
    {
     "data": {
      "text/plain": [
       "'a'"
      ]
     },
     "execution_count": 9,
     "metadata": {},
     "output_type": "execute_result"
    }
   ],
   "source": [
    "s[1]"
   ]
  },
  {
   "cell_type": "code",
   "execution_count": 10,
   "id": "b9d223a5-57bd-49fa-9de3-a73686c0dc1d",
   "metadata": {},
   "outputs": [
    {
     "ename": "IndexError",
     "evalue": "string index out of range",
     "output_type": "error",
     "traceback": [
      "\u001b[0;31m---------------------------------------------------------------------------\u001b[0m",
      "\u001b[0;31mIndexError\u001b[0m                                Traceback (most recent call last)",
      "Cell \u001b[0;32mIn[10], line 1\u001b[0m\n\u001b[0;32m----> 1\u001b[0m \u001b[43ms\u001b[49m\u001b[43m[\u001b[49m\u001b[38;5;241;43m23\u001b[39;49m\u001b[43m]\u001b[49m\n",
      "\u001b[0;31mIndexError\u001b[0m: string index out of range"
     ]
    }
   ],
   "source": [
    "s[23]"
   ]
  },
  {
   "cell_type": "code",
   "execution_count": 11,
   "id": "025f3c3e-e937-4cd8-b377-806a5bb8ed6b",
   "metadata": {},
   "outputs": [
    {
     "data": {
      "text/plain": [
       "'a'"
      ]
     },
     "execution_count": 11,
     "metadata": {},
     "output_type": "execute_result"
    }
   ],
   "source": [
    "s[-1]"
   ]
  },
  {
   "cell_type": "code",
   "execution_count": 12,
   "id": "7b4b751a-0e4f-404d-9efd-4d3e8ce49ecd",
   "metadata": {},
   "outputs": [
    {
     "data": {
      "text/plain": [
       "'Ha'"
      ]
     },
     "execution_count": 12,
     "metadata": {},
     "output_type": "execute_result"
    }
   ],
   "source": [
    "s[0:2]"
   ]
  },
  {
   "cell_type": "markdown",
   "id": "e76a97b4-e052-46a6-8f98-3ad40f5d5ce3",
   "metadata": {},
   "source": [
    "Incase of slicing operation if we give the index value that is out of range, it'll work.\n",
    "In case of indexing operation, if we give the ndex value that is out of range, then it'll throw an IndexError\n",
    "\n",
    "Reason: Indexing looks for specified index only"
   ]
  },
  {
   "cell_type": "code",
   "execution_count": 13,
   "id": "6a488ea5-dcc8-44fd-ba84-8ee6d08daed0",
   "metadata": {},
   "outputs": [
    {
     "data": {
      "text/plain": [
       "'Hansa'"
      ]
     },
     "execution_count": 13,
     "metadata": {},
     "output_type": "execute_result"
    }
   ],
   "source": [
    "s[0:]"
   ]
  },
  {
   "cell_type": "code",
   "execution_count": 14,
   "id": "37924027-a9af-41f1-ac18-a7a15f985efc",
   "metadata": {},
   "outputs": [
    {
     "data": {
      "text/plain": [
       "'Hansa'"
      ]
     },
     "execution_count": 14,
     "metadata": {},
     "output_type": "execute_result"
    }
   ],
   "source": [
    "s[0:30]"
   ]
  },
  {
   "cell_type": "markdown",
   "id": "97f2e4e6-25e8-4e84-bbd8-e2d5eff34137",
   "metadata": {},
   "source": [
    "Slicing -> [start:stop:step/stride/jump]"
   ]
  },
  {
   "cell_type": "code",
   "execution_count": 15,
   "id": "9987d366-e3d0-45d4-a0b3-8d1c190df304",
   "metadata": {},
   "outputs": [
    {
     "data": {
      "text/plain": [
       "'Hna'"
      ]
     },
     "execution_count": 15,
     "metadata": {},
     "output_type": "execute_result"
    }
   ],
   "source": [
    "s[0::2]"
   ]
  },
  {
   "cell_type": "code",
   "execution_count": 16,
   "id": "cfde8194-e604-4f4c-920c-b227d07c6580",
   "metadata": {},
   "outputs": [
    {
     "data": {
      "text/plain": [
       "'a'"
      ]
     },
     "execution_count": 16,
     "metadata": {},
     "output_type": "execute_result"
    }
   ],
   "source": [
    "s[-1:]"
   ]
  },
  {
   "cell_type": "code",
   "execution_count": 22,
   "id": "c2d7d851-7f80-43bb-ac1b-1e66f278254d",
   "metadata": {},
   "outputs": [
    {
     "data": {
      "text/plain": [
       "'asna'"
      ]
     },
     "execution_count": 22,
     "metadata": {},
     "output_type": "execute_result"
    }
   ],
   "source": [
    "s[4:0:-1]"
   ]
  },
  {
   "cell_type": "code",
   "execution_count": 23,
   "id": "485b5e2b-fdac-4d3b-bd72-20509784fe9b",
   "metadata": {},
   "outputs": [
    {
     "data": {
      "text/plain": [
       "'Hansa'"
      ]
     },
     "execution_count": 23,
     "metadata": {},
     "output_type": "execute_result"
    }
   ],
   "source": [
    "s"
   ]
  },
  {
   "cell_type": "code",
   "execution_count": 24,
   "id": "5214aebd-f911-41f4-b1ca-1ef03d8c9623",
   "metadata": {},
   "outputs": [
    {
     "data": {
      "text/plain": [
       "'asna'"
      ]
     },
     "execution_count": 24,
     "metadata": {},
     "output_type": "execute_result"
    }
   ],
   "source": [
    "s[:0:-1]"
   ]
  },
  {
   "cell_type": "code",
   "execution_count": 25,
   "id": "0acde767-4740-43c4-840c-4bab016afb80",
   "metadata": {},
   "outputs": [
    {
     "data": {
      "text/plain": [
       "'asnaH'"
      ]
     },
     "execution_count": 25,
     "metadata": {},
     "output_type": "execute_result"
    }
   ],
   "source": [
    "s[-1::-1]"
   ]
  },
  {
   "cell_type": "code",
   "execution_count": 26,
   "id": "6f480806-a945-4c08-a033-703e35e6cf2f",
   "metadata": {},
   "outputs": [
    {
     "data": {
      "text/plain": [
       "'asnaH'"
      ]
     },
     "execution_count": 26,
     "metadata": {},
     "output_type": "execute_result"
    }
   ],
   "source": [
    "s[::-1]"
   ]
  },
  {
   "cell_type": "markdown",
   "id": "86ae4f37-416f-4a42-b651-8036929031a2",
   "metadata": {},
   "source": [
    "String assignment - \n",
    "\n",
    "String is immutable"
   ]
  },
  {
   "cell_type": "raw",
   "id": "32bab4c9-1b96-416a-b994-0155c07b0d60",
   "metadata": {},
   "source": [
    "s1 = 'pwskills'"
   ]
  },
  {
   "cell_type": "code",
   "execution_count": 28,
   "id": "5a2c6841-61d2-4b69-8dc7-1fbda49f4924",
   "metadata": {},
   "outputs": [
    {
     "data": {
      "text/plain": [
       "'p'"
      ]
     },
     "execution_count": 28,
     "metadata": {},
     "output_type": "execute_result"
    }
   ],
   "source": [
    "s1[0]"
   ]
  },
  {
   "cell_type": "code",
   "execution_count": 29,
   "id": "54e7d607-7b28-45e0-adcd-72a7d27da83f",
   "metadata": {},
   "outputs": [
    {
     "ename": "TypeError",
     "evalue": "'str' object does not support item assignment",
     "output_type": "error",
     "traceback": [
      "\u001b[0;31m---------------------------------------------------------------------------\u001b[0m",
      "\u001b[0;31mTypeError\u001b[0m                                 Traceback (most recent call last)",
      "Cell \u001b[0;32mIn[29], line 1\u001b[0m\n\u001b[0;32m----> 1\u001b[0m \u001b[43ms1\u001b[49m\u001b[43m[\u001b[49m\u001b[38;5;241;43m0\u001b[39;49m\u001b[43m]\u001b[49m \u001b[38;5;241m=\u001b[39m \u001b[38;5;124m'\u001b[39m\u001b[38;5;124mH\u001b[39m\u001b[38;5;124m'\u001b[39m\n",
      "\u001b[0;31mTypeError\u001b[0m: 'str' object does not support item assignment"
     ]
    }
   ],
   "source": [
    "s1[0] = 'H'"
   ]
  },
  {
   "cell_type": "code",
   "execution_count": null,
   "id": "11f70b13-d6e8-4a0c-9f0a-ad4c77bb34ac",
   "metadata": {},
   "outputs": [],
   "source": []
  }
 ],
 "metadata": {
  "kernelspec": {
   "display_name": "Python 3 (ipykernel)",
   "language": "python",
   "name": "python3"
  },
  "language_info": {
   "codemirror_mode": {
    "name": "ipython",
    "version": 3
   },
   "file_extension": ".py",
   "mimetype": "text/x-python",
   "name": "python",
   "nbconvert_exporter": "python",
   "pygments_lexer": "ipython3",
   "version": "3.10.8"
  }
 },
 "nbformat": 4,
 "nbformat_minor": 5
}
