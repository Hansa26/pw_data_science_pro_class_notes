{
 "cells": [
  {
   "cell_type": "markdown",
   "id": "85c46216-a4a8-4939-9b71-0226f0e46687",
   "metadata": {},
   "source": [
    "# OOPS"
   ]
  },
  {
   "cell_type": "code",
   "execution_count": 2,
   "id": "5ca51cf4-5e28-460c-bcb6-6bea659d4173",
   "metadata": {},
   "outputs": [],
   "source": [
    "# maintainability, adoptability, reusability"
   ]
  },
  {
   "cell_type": "raw",
   "id": "23e877f1-1683-4070-b1c1-5f472aefa1c4",
   "metadata": {},
   "source": [
    "# Class and Objects\n",
    "\n",
    "Class --> Classification of real world entity (int, float, string, list, bool, set, tuple, TypeError, ValueError, Exception etc)\n",
    "          Eevery module needs to be communicated with each other.\n",
    "          Try to break the problems based on the issues\n",
    "          reusability and maintenance is very easy and would be a habitual\n",
    "          \n",
    "Object --> Variable of the class, different instances of the class\n",
    "\n",
    "OOPS --> Seggregation of the codes"
   ]
  },
  {
   "cell_type": "code",
   "execution_count": 3,
   "id": "6c48b1e5-d651-40d8-84c0-917cf00ff2e7",
   "metadata": {},
   "outputs": [],
   "source": [
    "a = 10 # a is an object of Integer Class"
   ]
  },
  {
   "cell_type": "code",
   "execution_count": 4,
   "id": "2ba3b5ca-b88d-48c7-9769-77eb3706e84b",
   "metadata": {},
   "outputs": [],
   "source": [
    "s = \"hansa\" # s is an object or instance of a string class"
   ]
  },
  {
   "cell_type": "code",
   "execution_count": 5,
   "id": "b7957d15-0f7e-4e6f-be3d-0134d5ed4616",
   "metadata": {},
   "outputs": [
    {
     "data": {
      "text/plain": [
       "'Hansa'"
      ]
     },
     "execution_count": 5,
     "metadata": {},
     "output_type": "execute_result"
    }
   ],
   "source": [
    "s.capitalize() # trying to access the function of a string using an object (. dot operator)"
   ]
  },
  {
   "cell_type": "code",
   "execution_count": 6,
   "id": "e0654f0b-5ec8-4965-840d-7fc99604afaa",
   "metadata": {},
   "outputs": [],
   "source": [
    "# OOPS is just another way of writing a code"
   ]
  },
  {
   "cell_type": "code",
   "execution_count": 7,
   "id": "ce6b6e63-7eea-41c9-a1e8-6530e3efbb12",
   "metadata": {},
   "outputs": [],
   "source": [
    "# Example 1"
   ]
  },
  {
   "cell_type": "code",
   "execution_count": 8,
   "id": "13d79177-6308-4593-a59b-31b37da1193c",
   "metadata": {},
   "outputs": [],
   "source": [
    "class BankAccount:\n",
    "    def open_account(self, name, email_id):\n",
    "        print(\"Open an account by taking name and email id \")\n",
    "        return name + email_id\n",
    "    \n",
    "    def deposit(self, amount):\n",
    "        print(\"I am trying to deposit an amount in my account\", amount)\n",
    "    \n",
    "    def withdraw(self, amt_with):\n",
    "        print(\"Withdraw the amount\", amt_with)\n",
    "    \n",
    "    def update_details(self, name_upd, email_upd):\n",
    "        print(\"This function will update my name and email id for my bank account\")"
   ]
  },
  {
   "cell_type": "code",
   "execution_count": 9,
   "id": "2f26a7f7-2f75-4360-ab56-62dd6112dfe4",
   "metadata": {},
   "outputs": [],
   "source": [
    "ba = BankAccount()"
   ]
  },
  {
   "cell_type": "code",
   "execution_count": 10,
   "id": "5bb28aec-6bf1-45a5-945c-05cd779d12d4",
   "metadata": {},
   "outputs": [
    {
     "name": "stdout",
     "output_type": "stream",
     "text": [
      "Open an account by taking name and email id \n"
     ]
    },
    {
     "data": {
      "text/plain": [
       "'Hansahansagouds26@gmail.com'"
      ]
     },
     "execution_count": 10,
     "metadata": {},
     "output_type": "execute_result"
    }
   ],
   "source": [
    "ba.open_account(\"Hansa\", \"hansagouds26@gmail.com\")"
   ]
  },
  {
   "cell_type": "code",
   "execution_count": 11,
   "id": "f7003a55-adbd-4547-bac9-64674ab888cd",
   "metadata": {},
   "outputs": [
    {
     "name": "stdout",
     "output_type": "stream",
     "text": [
      "I am trying to deposit an amount in my account 100\n"
     ]
    }
   ],
   "source": [
    "ba.deposit(100)"
   ]
  },
  {
   "cell_type": "code",
   "execution_count": 12,
   "id": "c548c7bc-e67e-4a75-a5ea-12eb363ea83e",
   "metadata": {},
   "outputs": [
    {
     "name": "stdout",
     "output_type": "stream",
     "text": [
      "Withdraw the amount 10\n"
     ]
    }
   ],
   "source": [
    "ba.withdraw(10)"
   ]
  },
  {
   "cell_type": "code",
   "execution_count": 15,
   "id": "30dda632-f464-44c1-a750-fea93ea0314e",
   "metadata": {},
   "outputs": [
    {
     "name": "stdout",
     "output_type": "stream",
     "text": [
      "This function will update my name and email id for my bank account\n"
     ]
    }
   ],
   "source": [
    "ba.update_details(\"Hansa\", \"hansagouds26@gmail.com\")"
   ]
  },
  {
   "cell_type": "code",
   "execution_count": null,
   "id": "9961de1f-ced3-4bce-b1f7-7560e2011486",
   "metadata": {},
   "outputs": [],
   "source": []
  },
  {
   "cell_type": "code",
   "execution_count": null,
   "id": "12c838b4-dd99-48b9-a15a-13da1700a863",
   "metadata": {},
   "outputs": [],
   "source": []
  },
  {
   "cell_type": "code",
   "execution_count": 16,
   "id": "649e56f6-1584-4562-a570-62ad95630f83",
   "metadata": {},
   "outputs": [],
   "source": [
    "# Example 2"
   ]
  },
  {
   "cell_type": "code",
   "execution_count": 19,
   "id": "07946f75-3b3f-4769-b9e2-048883b8a286",
   "metadata": {},
   "outputs": [],
   "source": [
    "class ListOperations:\n",
    "    \n",
    "    def extract_elements(self, l, index):\n",
    "        return f\"The extracted element from the list is: {l[index]}\"\n",
    "    \n",
    "    def extract_range_data(self, l, start, end):\n",
    "        return l[start:end]\n",
    "    \n",
    "    def extract_even(self, l):\n",
    "        l1 = []\n",
    "        for i in l:\n",
    "            if i % 2 == 0:\n",
    "                l1.append(i)\n",
    "        return l1\n",
    "    "
   ]
  },
  {
   "cell_type": "code",
   "execution_count": 22,
   "id": "8147bcfd-9485-4663-afc2-73090ce7fa18",
   "metadata": {},
   "outputs": [],
   "source": [
    "li = ListOperations() # instance or variable of the class"
   ]
  },
  {
   "cell_type": "code",
   "execution_count": 23,
   "id": "3d26f412-0425-4bee-8b25-097a558ce91b",
   "metadata": {},
   "outputs": [
    {
     "data": {
      "text/plain": [
       "'The extracted element from the list is: 6'"
      ]
     },
     "execution_count": 23,
     "metadata": {},
     "output_type": "execute_result"
    }
   ],
   "source": [
    "li.extract_elements([2, 3, 4, 5, 6], 4)"
   ]
  },
  {
   "cell_type": "code",
   "execution_count": 24,
   "id": "8cd079b5-cb27-4ec7-9375-7207d3871373",
   "metadata": {},
   "outputs": [
    {
     "data": {
      "text/plain": [
       "[1, 2, 3, 4]"
      ]
     },
     "execution_count": 24,
     "metadata": {},
     "output_type": "execute_result"
    }
   ],
   "source": [
    "li.extract_range_data([1, 2, 3, 4, 5, 6, 7, 8], 0, 4)"
   ]
  },
  {
   "cell_type": "code",
   "execution_count": 25,
   "id": "1ceb83c0-920d-4963-8503-8cc8d90bf504",
   "metadata": {},
   "outputs": [
    {
     "data": {
      "text/plain": [
       "[2, 4, 6, 8]"
      ]
     },
     "execution_count": 25,
     "metadata": {},
     "output_type": "execute_result"
    }
   ],
   "source": [
    "li.extract_even([1, 2, 3, 4, 5, 6, 7, 8])"
   ]
  },
  {
   "cell_type": "code",
   "execution_count": null,
   "id": "aeeeb459-9388-4441-b121-d26e08235946",
   "metadata": {},
   "outputs": [],
   "source": []
  },
  {
   "cell_type": "code",
   "execution_count": 26,
   "id": "956692c5-b122-4ba4-bc9e-fd97ce330a44",
   "metadata": {},
   "outputs": [],
   "source": [
    "# Example 3"
   ]
  },
  {
   "cell_type": "code",
   "execution_count": 32,
   "id": "4f43437c-db8d-40d0-bcf1-b5ac58f6109d",
   "metadata": {},
   "outputs": [],
   "source": [
    "class ListOperations:\n",
    "    \n",
    "    a = 10\n",
    "    li = [100, 230, 400, 500, 3, 5, 6, 7, 8]\n",
    "    def extract_elements(self, l, index):\n",
    "        return f\"The extracted element from the list is: {l[index]}\"\n",
    "    \n",
    "    def extract_range_data(self, l, start, end):\n",
    "        return l[start:end]\n",
    "    \n",
    "    def extract_even(self, l):\n",
    "        l1 = []\n",
    "        for i in l:\n",
    "            if i % 2 == 0:\n",
    "                l1.append(i)\n",
    "        return l1\n",
    "    "
   ]
  },
  {
   "cell_type": "code",
   "execution_count": 33,
   "id": "15ba41b4-435e-43f3-8534-c2d70404aae9",
   "metadata": {},
   "outputs": [],
   "source": [
    "lo = ListOperations()"
   ]
  },
  {
   "cell_type": "code",
   "execution_count": 34,
   "id": "56109281-5569-458e-9a62-7119db767111",
   "metadata": {},
   "outputs": [
    {
     "data": {
      "text/plain": [
       "10"
      ]
     },
     "execution_count": 34,
     "metadata": {},
     "output_type": "execute_result"
    }
   ],
   "source": [
    "lo.a"
   ]
  },
  {
   "cell_type": "code",
   "execution_count": 35,
   "id": "b8b0d0b1-a2f2-4911-b63f-090d9b9ba097",
   "metadata": {},
   "outputs": [
    {
     "data": {
      "text/plain": [
       "[100, 230, 400, 500, 3, 5, 6, 7, 8]"
      ]
     },
     "execution_count": 35,
     "metadata": {},
     "output_type": "execute_result"
    }
   ],
   "source": [
    "lo.li"
   ]
  },
  {
   "cell_type": "code",
   "execution_count": 36,
   "id": "a89a40e0-2091-4809-acda-3a993559b57f",
   "metadata": {},
   "outputs": [
    {
     "data": {
      "text/plain": [
       "'The extracted element from the list is: 400'"
      ]
     },
     "execution_count": 36,
     "metadata": {},
     "output_type": "execute_result"
    }
   ],
   "source": [
    "lo.extract_elements(lo.li, 2)"
   ]
  },
  {
   "cell_type": "code",
   "execution_count": 37,
   "id": "13e16671-89d5-499e-957c-53bc5e60f622",
   "metadata": {},
   "outputs": [
    {
     "data": {
      "text/plain": [
       "[230, 400]"
      ]
     },
     "execution_count": 37,
     "metadata": {},
     "output_type": "execute_result"
    }
   ],
   "source": [
    "lo.extract_range_data(lo.li, 1, 3)"
   ]
  },
  {
   "cell_type": "code",
   "execution_count": 38,
   "id": "d363196a-5dac-4128-b1ae-a49d9797a0ab",
   "metadata": {},
   "outputs": [
    {
     "data": {
      "text/plain": [
       "[100, 230, 400, 500, 6, 8]"
      ]
     },
     "execution_count": 38,
     "metadata": {},
     "output_type": "execute_result"
    }
   ],
   "source": [
    "lo.extract_even(lo.li)"
   ]
  },
  {
   "cell_type": "code",
   "execution_count": null,
   "id": "610baf4a-bddb-44f8-b185-e9daddc31d15",
   "metadata": {},
   "outputs": [],
   "source": []
  },
  {
   "cell_type": "code",
   "execution_count": 39,
   "id": "99433547-b14c-4850-9fc3-30e31b3e7261",
   "metadata": {},
   "outputs": [],
   "source": [
    "# Example 4"
   ]
  },
  {
   "cell_type": "code",
   "execution_count": 51,
   "id": "a413717e-1a62-4b92-ac71-d4cab41ea9dc",
   "metadata": {},
   "outputs": [],
   "source": [
    "class ListOperations:\n",
    "    \n",
    "    # a = 10\n",
    "    # li = [100, 230, 400, 500, 3, 5, 6, 7, 8]\n",
    "    \n",
    "    \n",
    "    def __init__(self, l): # initialize my class variable with some data - one of the roles and responsibilities of an __init__() # constructor - provide data to the class for different ojbects created\n",
    "        self.l1 = l # \n",
    "        self.l2 = 40\n",
    "        self.l3 = \"Hansa\"\n",
    "        self.l4 = (1, 2, 3, 4, 5, 6)\n",
    "        self.l5 = {1: 'One', 2: 'Two'}\n",
    "    \n",
    "    def extract_elements(self, l, index):\n",
    "        return f\"The extracted element from the list is: {self.l[index]}\"\n",
    "    \n",
    "    def extract_range_data(self, l, start, end):\n",
    "        return self.l[start:end]\n",
    "    \n",
    "    def extract_even(self, l):\n",
    "        l1 = []\n",
    "        for i in self.l:\n",
    "            if i % 2 == 0:\n",
    "                l1.append(i)\n",
    "        return l1\n",
    "    "
   ]
  },
  {
   "cell_type": "code",
   "execution_count": 52,
   "id": "b95bd090-78e3-48bc-8d4f-f975f20cb590",
   "metadata": {},
   "outputs": [],
   "source": [
    "lo1 = ListOperations([1, 2, 3, 4, 5])"
   ]
  },
  {
   "cell_type": "code",
   "execution_count": 53,
   "id": "b803eda4-fc3f-4dd0-8e51-951b599d3a29",
   "metadata": {},
   "outputs": [],
   "source": [
    "lo2 = ListOperations([4, 5, 6, 7, 8])"
   ]
  },
  {
   "cell_type": "code",
   "execution_count": 62,
   "id": "83a4d25f-c5bc-4ff8-95fb-365870a99c84",
   "metadata": {},
   "outputs": [
    {
     "data": {
      "text/plain": [
       "[4, 5, 6, 7, 8]"
      ]
     },
     "execution_count": 62,
     "metadata": {},
     "output_type": "execute_result"
    }
   ],
   "source": [
    "lo2.l1"
   ]
  },
  {
   "cell_type": "code",
   "execution_count": 63,
   "id": "eac207b0-c832-40a7-86a7-c41515d034d4",
   "metadata": {},
   "outputs": [
    {
     "data": {
      "text/plain": [
       "40"
      ]
     },
     "execution_count": 63,
     "metadata": {},
     "output_type": "execute_result"
    }
   ],
   "source": [
    "lo2.l2"
   ]
  },
  {
   "cell_type": "code",
   "execution_count": 64,
   "id": "9e3f98a6-417c-4dc4-ae38-0e3a82e36bad",
   "metadata": {},
   "outputs": [
    {
     "data": {
      "text/plain": [
       "'Hansa'"
      ]
     },
     "execution_count": 64,
     "metadata": {},
     "output_type": "execute_result"
    }
   ],
   "source": [
    "lo2.l3"
   ]
  },
  {
   "cell_type": "code",
   "execution_count": 65,
   "id": "c489198a-2b1f-4364-afa2-cae9e683c793",
   "metadata": {},
   "outputs": [
    {
     "data": {
      "text/plain": [
       "(1, 2, 3, 4, 5, 6)"
      ]
     },
     "execution_count": 65,
     "metadata": {},
     "output_type": "execute_result"
    }
   ],
   "source": [
    "lo2.l4"
   ]
  },
  {
   "cell_type": "code",
   "execution_count": 66,
   "id": "381910fc-d044-4cf3-8226-eb733b118904",
   "metadata": {},
   "outputs": [
    {
     "data": {
      "text/plain": [
       "{1: 'One', 2: 'Two'}"
      ]
     },
     "execution_count": 66,
     "metadata": {},
     "output_type": "execute_result"
    }
   ],
   "source": [
    "lo2.l5"
   ]
  },
  {
   "cell_type": "code",
   "execution_count": null,
   "id": "a8186360-b60d-4535-9cbc-d58d1cfa38c8",
   "metadata": {},
   "outputs": [],
   "source": []
  },
  {
   "cell_type": "code",
   "execution_count": null,
   "id": "5714cc75-3cb3-4a33-b4ee-0698479e1075",
   "metadata": {},
   "outputs": [],
   "source": []
  },
  {
   "cell_type": "code",
   "execution_count": 67,
   "id": "d085fe57-3a42-4574-a9ad-c2783c3e95df",
   "metadata": {},
   "outputs": [],
   "source": [
    "# Example 5"
   ]
  },
  {
   "cell_type": "code",
   "execution_count": 84,
   "id": "d03c3b07-4b7d-42b0-8333-9c001a6d5b40",
   "metadata": {},
   "outputs": [],
   "source": [
    "class Book:\n",
    "    \n",
    "    def __init__(self, name, title, pageno):\n",
    "        self.name_of_book = name\n",
    "        self.title_of_book = title\n",
    "        self.page_no = pageno\n",
    "        \n",
    "    def extract_details(self):\n",
    "        print(\"Name of the book: \", self.name_of_book, \"\\nAuthor of the book: \", self.title_of_book)\n",
    "    \n",
    "    def extract_pages(self):\n",
    "        print(\"No of pages = \", self.page_no)\n",
    "        "
   ]
  },
  {
   "cell_type": "code",
   "execution_count": 85,
   "id": "717ae374-b426-4f99-a152-9228be919a7f",
   "metadata": {},
   "outputs": [],
   "source": [
    "b1 = Book(\"The Power of your subconscious mind!\", \"Dr. Murphy\", 250)"
   ]
  },
  {
   "cell_type": "code",
   "execution_count": 86,
   "id": "56e90eff-c2de-4c39-a2b1-c8a4e16ca12a",
   "metadata": {},
   "outputs": [
    {
     "name": "stdout",
     "output_type": "stream",
     "text": [
      "Name of the book:  The Power of your subconscious mind! \n",
      "Author of the book:  Dr. Murphy\n"
     ]
    }
   ],
   "source": [
    "b1.extract_details()"
   ]
  },
  {
   "cell_type": "code",
   "execution_count": 87,
   "id": "e3dcc7ae-423a-4c96-98e2-814791acea02",
   "metadata": {},
   "outputs": [
    {
     "name": "stdout",
     "output_type": "stream",
     "text": [
      "No of pages =  250\n"
     ]
    }
   ],
   "source": [
    "b1.extract_pages()"
   ]
  },
  {
   "cell_type": "code",
   "execution_count": 88,
   "id": "8f55ecee-bf84-4bc2-a645-c5b380d4fdc4",
   "metadata": {},
   "outputs": [],
   "source": [
    "hansa = Book(\"Data Science in Python\", \"PWSkills\", 400)\n",
    "guru = Book(\"UPSC Mains\", \"GuruPrasad Goudar\", 500)"
   ]
  },
  {
   "cell_type": "code",
   "execution_count": 89,
   "id": "42a8ecd2-b162-4580-9acb-4614719387bf",
   "metadata": {},
   "outputs": [
    {
     "name": "stdout",
     "output_type": "stream",
     "text": [
      "Name of the book:  Data Science in Python \n",
      "Author of the book:  PWSkills\n"
     ]
    }
   ],
   "source": [
    "hansa.extract_details()"
   ]
  },
  {
   "cell_type": "code",
   "execution_count": 90,
   "id": "4ed8dc24-9255-42c1-8e4f-2b4223582b67",
   "metadata": {},
   "outputs": [
    {
     "name": "stdout",
     "output_type": "stream",
     "text": [
      "Name of the book:  UPSC Mains \n",
      "Author of the book:  GuruPrasad Goudar\n"
     ]
    }
   ],
   "source": [
    "guru.extract_details()"
   ]
  },
  {
   "cell_type": "code",
   "execution_count": 91,
   "id": "5a610ee6-8a1d-4891-8797-fd2db17ab5f5",
   "metadata": {},
   "outputs": [
    {
     "name": "stdout",
     "output_type": "stream",
     "text": [
      "No of pages =  500\n"
     ]
    }
   ],
   "source": [
    "guru.extract_pages()"
   ]
  },
  {
   "cell_type": "code",
   "execution_count": 92,
   "id": "a8827c5b-96f4-4c00-887d-136f0e10c776",
   "metadata": {},
   "outputs": [
    {
     "name": "stdout",
     "output_type": "stream",
     "text": [
      "No of pages =  400\n"
     ]
    }
   ],
   "source": [
    "hansa.extract_pages()"
   ]
  },
  {
   "cell_type": "code",
   "execution_count": 93,
   "id": "d702b1a7-97ac-4c60-ab90-726dd61b7e24",
   "metadata": {},
   "outputs": [
    {
     "data": {
      "text/plain": [
       "'Data Science in Python'"
      ]
     },
     "execution_count": 93,
     "metadata": {},
     "output_type": "execute_result"
    }
   ],
   "source": [
    "hansa.name_of_book"
   ]
  },
  {
   "cell_type": "code",
   "execution_count": null,
   "id": "6e6ba373-dc27-44e3-8db5-6eb02b6bea76",
   "metadata": {},
   "outputs": [],
   "source": []
  },
  {
   "cell_type": "code",
   "execution_count": 94,
   "id": "797afe0f-0b0b-437f-9b72-8cee89106218",
   "metadata": {},
   "outputs": [],
   "source": [
    "# Example 6"
   ]
  },
  {
   "cell_type": "code",
   "execution_count": 95,
   "id": "55237f01-0aff-420c-a8cb-bffc65dc62d4",
   "metadata": {},
   "outputs": [],
   "source": [
    "class Book:\n",
    "    \n",
    "    def __init__(self):\n",
    "        self.name_of_book = 'DSA'\n",
    "        self.title_of_book = 'DSA in Python'\n",
    "        self.page_no = 256\n",
    "        \n",
    "    def extract_details(self):\n",
    "        print(\"Name of the book: \", self.name_of_book, \"\\nAuthor of the book: \", self.title_of_book)\n",
    "    \n",
    "    def extract_pages(self):\n",
    "        print(\"No of pages = \", self.page_no)"
   ]
  },
  {
   "cell_type": "code",
   "execution_count": 96,
   "id": "b464bee8-eee7-4f3e-bf17-cb99c75f1826",
   "metadata": {},
   "outputs": [],
   "source": [
    "stud1 = Book()"
   ]
  },
  {
   "cell_type": "code",
   "execution_count": 97,
   "id": "2623d242-0224-4530-b48d-246d044cde82",
   "metadata": {},
   "outputs": [],
   "source": [
    "stud2 = Book()"
   ]
  },
  {
   "cell_type": "code",
   "execution_count": 98,
   "id": "bbf6aca0-4569-42e7-b41c-bce2503ecff1",
   "metadata": {},
   "outputs": [
    {
     "data": {
      "text/plain": [
       "'DSA'"
      ]
     },
     "execution_count": 98,
     "metadata": {},
     "output_type": "execute_result"
    }
   ],
   "source": [
    "stud1.name_of_book"
   ]
  },
  {
   "cell_type": "code",
   "execution_count": 99,
   "id": "8a678ea1-3f00-40a5-a640-be29284d0c1b",
   "metadata": {},
   "outputs": [
    {
     "data": {
      "text/plain": [
       "'DSA'"
      ]
     },
     "execution_count": 99,
     "metadata": {},
     "output_type": "execute_result"
    }
   ],
   "source": [
    "stud2.name_of_book"
   ]
  },
  {
   "cell_type": "code",
   "execution_count": 100,
   "id": "cf3a6a3f-64cc-416e-be3d-cdcf990a4cdc",
   "metadata": {},
   "outputs": [],
   "source": [
    "# It's remaining the same"
   ]
  },
  {
   "cell_type": "code",
   "execution_count": null,
   "id": "34f0c9b0-a472-4933-b073-84965f7a06a5",
   "metadata": {},
   "outputs": [],
   "source": []
  },
  {
   "cell_type": "code",
   "execution_count": null,
   "id": "d9c70453-d1bf-4ba2-8604-12b5bfc0e65e",
   "metadata": {},
   "outputs": [],
   "source": []
  },
  {
   "cell_type": "code",
   "execution_count": null,
   "id": "97e75ddb-ced3-4767-80ee-442975f8e66f",
   "metadata": {},
   "outputs": [],
   "source": []
  },
  {
   "cell_type": "code",
   "execution_count": 101,
   "id": "e83dcd3c-5437-402b-aee1-39bba92d8308",
   "metadata": {},
   "outputs": [],
   "source": [
    "# Example 7"
   ]
  },
  {
   "cell_type": "code",
   "execution_count": 105,
   "id": "11f7609c-ef61-41ac-b4fd-b49b5fd467c6",
   "metadata": {},
   "outputs": [],
   "source": [
    "class GmailOperations:\n",
    "    \n",
    "    def __init__(self, userid, password):\n",
    "        self.user_id = userid\n",
    "        self.password = password\n",
    "        self.url = \"https://mail.google.com/login\"\n",
    "        \n",
    "    def login(self):\n",
    "        print(\"Take userid \" + self.user_id + \" take password \" + self.password + \" hit url \" + self.url)\n",
    "        print(\"Login!\")\n",
    "        \n",
    "    def read_email(self):\n",
    "        print(\"Read email for: \", self.user_id, \" \" + self.password)\n",
    "    \n",
    "    def reply_email(self):\n",
    "        print(\"Reply email for: \", self.user_id, \" \" + self.password)"
   ]
  },
  {
   "cell_type": "code",
   "execution_count": 113,
   "id": "75a7ef95-7bfc-4d6d-b837-a005f4fe39f7",
   "metadata": {},
   "outputs": [],
   "source": [
    "user1 = GmailOperations(\"hansagouds26\", \"HansaGuru@2826\")"
   ]
  },
  {
   "cell_type": "code",
   "execution_count": 114,
   "id": "a958ec5b-bfd4-4bca-a949-e3984cee3ad8",
   "metadata": {},
   "outputs": [],
   "source": [
    "user2 = GmailOperations(\"guru.goudar1996\", \"HansaGuru@2628\")"
   ]
  },
  {
   "cell_type": "code",
   "execution_count": 115,
   "id": "ccc54061-b90b-4799-a2ea-b78965b5a8bb",
   "metadata": {},
   "outputs": [
    {
     "name": "stdout",
     "output_type": "stream",
     "text": [
      "Take userid hansagouds26 take password HansaGuru@2826 hit url https://mail.google.com/login\n",
      "Login!\n"
     ]
    }
   ],
   "source": [
    "user1.login()"
   ]
  },
  {
   "cell_type": "code",
   "execution_count": 116,
   "id": "1f6a737b-2306-428b-b24b-f01293e5956c",
   "metadata": {},
   "outputs": [
    {
     "name": "stdout",
     "output_type": "stream",
     "text": [
      "Read email for:  hansagouds26  HansaGuru@2826\n"
     ]
    }
   ],
   "source": [
    "user1.read_email()"
   ]
  },
  {
   "cell_type": "code",
   "execution_count": 117,
   "id": "fad6512f-2683-46b7-978b-8253ca91d0b5",
   "metadata": {},
   "outputs": [
    {
     "name": "stdout",
     "output_type": "stream",
     "text": [
      "Reply email for:  hansagouds26  HansaGuru@2826\n"
     ]
    }
   ],
   "source": [
    "user1.reply_email()"
   ]
  },
  {
   "cell_type": "code",
   "execution_count": 118,
   "id": "079a0d55-e328-4d3a-a1ba-20af4b0568f9",
   "metadata": {},
   "outputs": [
    {
     "name": "stdout",
     "output_type": "stream",
     "text": [
      "Take userid guru.goudar1996 take password HansaGuru@2628 hit url https://mail.google.com/login\n",
      "Login!\n"
     ]
    }
   ],
   "source": [
    "user2.login()"
   ]
  },
  {
   "cell_type": "code",
   "execution_count": 119,
   "id": "cc9dc91f-118f-4d86-8313-92d1bd8b4095",
   "metadata": {},
   "outputs": [
    {
     "name": "stdout",
     "output_type": "stream",
     "text": [
      "Reply email for:  guru.goudar1996  HansaGuru@2628\n"
     ]
    }
   ],
   "source": [
    "user2.reply_email()"
   ]
  },
  {
   "cell_type": "code",
   "execution_count": 120,
   "id": "4e42f470-0286-4991-af33-4188d73afe3c",
   "metadata": {},
   "outputs": [
    {
     "name": "stdout",
     "output_type": "stream",
     "text": [
      "Read email for:  guru.goudar1996  HansaGuru@2628\n"
     ]
    }
   ],
   "source": [
    "user2.read_email()"
   ]
  },
  {
   "cell_type": "code",
   "execution_count": null,
   "id": "09d3041a-e6e0-49f9-a539-f3f8797220fc",
   "metadata": {},
   "outputs": [],
   "source": []
  },
  {
   "cell_type": "code",
   "execution_count": null,
   "id": "66d57241-4caa-47a1-a9d3-2af166922d91",
   "metadata": {},
   "outputs": [],
   "source": []
  },
  {
   "cell_type": "code",
   "execution_count": 121,
   "id": "bc5335cc-0afb-48c9-b624-9a79d3b023d4",
   "metadata": {},
   "outputs": [],
   "source": [
    "# Example 8"
   ]
  },
  {
   "cell_type": "code",
   "execution_count": 128,
   "id": "c5cf4ecd-a7af-4e2f-8d19-b2112dad34fd",
   "metadata": {},
   "outputs": [],
   "source": [
    "from functools import reduce\n",
    "\n",
    "class Calculator:\n",
    "    \n",
    "    def __init__(self, username):\n",
    "        self.user_name = username\n",
    "    \n",
    "    def addition(self, *args):\n",
    "        return self.user_name, sum(args)\n",
    "    \n",
    "    def subtraction(self, *args):\n",
    "        return self.user_name, reduce(lambda a, b: a-b, args)\n",
    "    \n",
    "    def multiplication(self, *args):\n",
    "        return self.user_name, reduce(lambda a, b: a*b, args)\n",
    "    \n",
    "    def division(self, *args):\n",
    "        return self.user_name, reduce(lambda a, b: a/b, args)"
   ]
  },
  {
   "cell_type": "code",
   "execution_count": 129,
   "id": "5ae2bd02-f5a0-4cff-aa37-4795de837bc3",
   "metadata": {},
   "outputs": [],
   "source": [
    "cal1 = Calculator(\"hansa\")"
   ]
  },
  {
   "cell_type": "code",
   "execution_count": 130,
   "id": "420e9a80-6a70-4dbe-b29a-fd063f87234d",
   "metadata": {},
   "outputs": [
    {
     "data": {
      "text/plain": [
       "('hansa', 36)"
      ]
     },
     "execution_count": 130,
     "metadata": {},
     "output_type": "execute_result"
    }
   ],
   "source": [
    "cal1.addition(1, 2, 3, 4, 5, 6, 7, 8)"
   ]
  },
  {
   "cell_type": "code",
   "execution_count": 131,
   "id": "4f5ab60d-51c6-440d-9a53-9eaa8de469d0",
   "metadata": {},
   "outputs": [
    {
     "data": {
      "text/plain": [
       "('hansa', 120)"
      ]
     },
     "execution_count": 131,
     "metadata": {},
     "output_type": "execute_result"
    }
   ],
   "source": [
    "cal1.multiplication(4, 5, 6)"
   ]
  },
  {
   "cell_type": "code",
   "execution_count": 132,
   "id": "3318db42-4094-4aab-896b-9ffbea2a00ef",
   "metadata": {},
   "outputs": [
    {
     "data": {
      "text/plain": [
       "('hansa', 0.024999999999999998)"
      ]
     },
     "execution_count": 132,
     "metadata": {},
     "output_type": "execute_result"
    }
   ],
   "source": [
    "cal1.division(3, 4, 5, 6)"
   ]
  },
  {
   "cell_type": "code",
   "execution_count": 133,
   "id": "13f2e1e1-da3a-41d9-8598-8f9769938435",
   "metadata": {},
   "outputs": [
    {
     "data": {
      "text/plain": [
       "('hansa', -8)"
      ]
     },
     "execution_count": 133,
     "metadata": {},
     "output_type": "execute_result"
    }
   ],
   "source": [
    "cal1.subtraction(1,2, 3, 4)"
   ]
  },
  {
   "cell_type": "code",
   "execution_count": null,
   "id": "d0b640a2-3495-46a2-a567-771df2011dae",
   "metadata": {},
   "outputs": [],
   "source": []
  }
 ],
 "metadata": {
  "kernelspec": {
   "display_name": "Python 3 (ipykernel)",
   "language": "python",
   "name": "python3"
  },
  "language_info": {
   "codemirror_mode": {
    "name": "ipython",
    "version": 3
   },
   "file_extension": ".py",
   "mimetype": "text/x-python",
   "name": "python",
   "nbconvert_exporter": "python",
   "pygments_lexer": "ipython3",
   "version": "3.10.8"
  }
 },
 "nbformat": 4,
 "nbformat_minor": 5
}
