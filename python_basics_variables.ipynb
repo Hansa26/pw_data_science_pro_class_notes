{
 "cells": [
  {
   "cell_type": "code",
   "execution_count": 1,
   "id": "ee25f190-e5fa-46d1-a586-b4dd19eda5a6",
   "metadata": {},
   "outputs": [
    {
     "data": {
      "text/plain": [
       "3"
      ]
     },
     "execution_count": 1,
     "metadata": {},
     "output_type": "execute_result"
    }
   ],
   "source": [
    "1+2"
   ]
  },
  {
   "cell_type": "code",
   "execution_count": 2,
   "id": "a59fc711-101c-4a2d-bf94-38e5be2a1c3d",
   "metadata": {},
   "outputs": [],
   "source": [
    "complex_num = 5+6j"
   ]
  },
  {
   "cell_type": "code",
   "execution_count": 3,
   "id": "4af92bb8-bc57-4367-a6dc-3aea11b0eadb",
   "metadata": {},
   "outputs": [
    {
     "data": {
      "text/plain": [
       "(5+6j)"
      ]
     },
     "execution_count": 3,
     "metadata": {},
     "output_type": "execute_result"
    }
   ],
   "source": [
    "complex_num"
   ]
  },
  {
   "cell_type": "code",
   "execution_count": 4,
   "id": "6736b639-27ac-4948-90a2-660b27bec4c1",
   "metadata": {},
   "outputs": [
    {
     "data": {
      "text/plain": [
       "complex"
      ]
     },
     "execution_count": 4,
     "metadata": {},
     "output_type": "execute_result"
    }
   ],
   "source": [
    "type(complex_num)"
   ]
  },
  {
   "cell_type": "code",
   "execution_count": 6,
   "id": "c6fe4f7d-8ae5-47dd-a7d1-9853519b3691",
   "metadata": {},
   "outputs": [],
   "source": [
    "c = 4+7j"
   ]
  },
  {
   "cell_type": "code",
   "execution_count": 7,
   "id": "d1107902-8fe1-4711-82e7-285147804f4e",
   "metadata": {},
   "outputs": [
    {
     "data": {
      "text/plain": [
       "4.0"
      ]
     },
     "execution_count": 7,
     "metadata": {},
     "output_type": "execute_result"
    }
   ],
   "source": [
    "c.real"
   ]
  },
  {
   "cell_type": "code",
   "execution_count": 8,
   "id": "b823d2c1-9883-4264-b462-3eae5b068ff4",
   "metadata": {},
   "outputs": [
    {
     "data": {
      "text/plain": [
       "7.0"
      ]
     },
     "execution_count": 8,
     "metadata": {},
     "output_type": "execute_result"
    }
   ],
   "source": [
    "c.imag"
   ]
  },
  {
   "cell_type": "markdown",
   "id": "9b0911e9-24f6-4d54-9f54-f316bf4cba8e",
   "metadata": {},
   "source": [
    "The imaginary part of a complex number is defined as 'iota'. To calculate the value of an imaginary number, we use the notation iota or “i”. The square root of a negative number gives us an imaginary number."
   ]
  },
  {
   "cell_type": "markdown",
   "id": "d62f61ff-7e5e-4c70-88bc-7bbeb17883c8",
   "metadata": {},
   "source": [
    "Declaring variables"
   ]
  },
  {
   "cell_type": "markdown",
   "id": "050682cb-51a3-4f87-bc0b-e2f3ccacff6b",
   "metadata": {},
   "source": [
    "str, float, int, bool, complex"
   ]
  },
  {
   "cell_type": "markdown",
   "id": "8b45b916-5213-48f1-9b53-4a1024655696",
   "metadata": {},
   "source": [
    "Addition, Subtraction, Multiplication, Division, Modulus"
   ]
  },
  {
   "cell_type": "code",
   "execution_count": 10,
   "id": "fb1361cc-f92d-4024-8460-dddec40328c0",
   "metadata": {},
   "outputs": [],
   "source": [
    "a = 89\n",
    "b = 35"
   ]
  },
  {
   "cell_type": "code",
   "execution_count": 11,
   "id": "9fa003fa-dbe0-4f8e-88b5-d38355ac1d90",
   "metadata": {},
   "outputs": [
    {
     "data": {
      "text/plain": [
       "124"
      ]
     },
     "execution_count": 11,
     "metadata": {},
     "output_type": "execute_result"
    }
   ],
   "source": [
    "a+b"
   ]
  },
  {
   "cell_type": "code",
   "execution_count": 12,
   "id": "204e7113-2d40-4ff6-8976-5b1d9d40a4ad",
   "metadata": {},
   "outputs": [
    {
     "data": {
      "text/plain": [
       "3115"
      ]
     },
     "execution_count": 12,
     "metadata": {},
     "output_type": "execute_result"
    }
   ],
   "source": [
    "a*b"
   ]
  },
  {
   "cell_type": "code",
   "execution_count": 13,
   "id": "34669abb-5eab-4e08-b3a3-d5eebffe95ba",
   "metadata": {},
   "outputs": [
    {
     "data": {
      "text/plain": [
       "2.5428571428571427"
      ]
     },
     "execution_count": 13,
     "metadata": {},
     "output_type": "execute_result"
    }
   ],
   "source": [
    "a/b"
   ]
  },
  {
   "cell_type": "code",
   "execution_count": 14,
   "id": "663aef4d-61c0-4076-85c2-004d13a6568e",
   "metadata": {},
   "outputs": [
    {
     "data": {
      "text/plain": [
       "54"
      ]
     },
     "execution_count": 14,
     "metadata": {},
     "output_type": "execute_result"
    }
   ],
   "source": [
    "a-b"
   ]
  },
  {
   "cell_type": "markdown",
   "id": "fbea6820-de04-441c-b255-499d5656036f",
   "metadata": {},
   "source": [
    "Declaring variables in one single line\n",
    "a, b = 1, 2"
   ]
  },
  {
   "cell_type": "code",
   "execution_count": 17,
   "id": "de374e73-b004-4011-b699-279de152eab4",
   "metadata": {},
   "outputs": [],
   "source": [
    "a1, b1, c1, d1, e1 = 3, \"Hansa\", 34.56, True, 6+7j"
   ]
  },
  {
   "cell_type": "code",
   "execution_count": 18,
   "id": "032da61b-c73c-4450-b0a3-be6e2850e255",
   "metadata": {},
   "outputs": [
    {
     "data": {
      "text/plain": [
       "3"
      ]
     },
     "execution_count": 18,
     "metadata": {},
     "output_type": "execute_result"
    }
   ],
   "source": [
    "a1"
   ]
  },
  {
   "cell_type": "code",
   "execution_count": 19,
   "id": "2267622e-31ac-43d1-aa3f-5928bb433eb6",
   "metadata": {},
   "outputs": [
    {
     "data": {
      "text/plain": [
       "(6+7j)"
      ]
     },
     "execution_count": 19,
     "metadata": {},
     "output_type": "execute_result"
    }
   ],
   "source": [
    "e1"
   ]
  },
  {
   "cell_type": "code",
   "execution_count": 20,
   "id": "2670e9b3-b35d-4ca9-a6dd-767e87cac653",
   "metadata": {},
   "outputs": [
    {
     "data": {
      "text/plain": [
       "34.56"
      ]
     },
     "execution_count": 20,
     "metadata": {},
     "output_type": "execute_result"
    }
   ],
   "source": [
    "c1"
   ]
  },
  {
   "cell_type": "code",
   "execution_count": 21,
   "id": "7e729e54-7e52-4fdb-8d9e-9a195490ed04",
   "metadata": {},
   "outputs": [
    {
     "data": {
      "text/plain": [
       "'Hansa'"
      ]
     },
     "execution_count": 21,
     "metadata": {},
     "output_type": "execute_result"
    }
   ],
   "source": [
    "b1"
   ]
  },
  {
   "cell_type": "code",
   "execution_count": 22,
   "id": "8ca35f7b-8bb5-4bbc-914a-4beec0c7d99a",
   "metadata": {},
   "outputs": [
    {
     "data": {
      "text/plain": [
       "True"
      ]
     },
     "execution_count": 22,
     "metadata": {},
     "output_type": "execute_result"
    }
   ],
   "source": [
    "d1"
   ]
  },
  {
   "cell_type": "code",
   "execution_count": null,
   "id": "3c02be34-b2ae-4e13-b21e-b90d9a504fd7",
   "metadata": {},
   "outputs": [
    {
     "name": "stderr",
     "output_type": "stream",
     "text": [
      "UsageError: Line magic function `%a` not found.\n"
     ]
    }
   ],
   "source": [
    "%a = 10"
   ]
  },
  {
   "cell_type": "code",
   "execution_count": null,
   "id": "0f72e26d-feda-496f-85bc-b89f448e804c",
   "metadata": {},
   "outputs": [
    {
     "ename": "SyntaxError",
     "evalue": "invalid binary literal (3608400949.py, line 1)",
     "output_type": "error",
     "traceback": [
      "\u001b[0;36m  Cell \u001b[0;32mIn[24], line 1\u001b[0;36m\u001b[0m\n\u001b[0;31m    0b = 123\u001b[0m\n\u001b[0m     ^\u001b[0m\n\u001b[0;31mSyntaxError\u001b[0m\u001b[0;31m:\u001b[0m invalid binary literal\n"
     ]
    }
   ],
   "source": [
    "0b = 123"
   ]
  },
  {
   "cell_type": "code",
   "execution_count": 64,
   "id": "4cd6da26-b953-4d0b-9360-2d6ccc543d3b",
   "metadata": {},
   "outputs": [],
   "source": [
    "int_ = 10 # do not use the reserve keyword, hence renaming it"
   ]
  },
  {
   "cell_type": "code",
   "execution_count": null,
   "id": "5d9d3d91-92a6-40de-ac8b-0cd46be2e658",
   "metadata": {},
   "outputs": [
    {
     "ename": "SyntaxError",
     "evalue": "invalid syntax. Maybe you meant '==' or ':=' instead of '='? (34477869.py, line 1)",
     "output_type": "error",
     "traceback": [
      "\u001b[0;36m  Cell \u001b[0;32mIn[25], line 1\u001b[0;36m\u001b[0m\n\u001b[0;31m    @h = 123\u001b[0m\n\u001b[0m     ^\u001b[0m\n\u001b[0;31mSyntaxError\u001b[0m\u001b[0;31m:\u001b[0m invalid syntax. Maybe you meant '==' or ':=' instead of '='?\n"
     ]
    }
   ],
   "source": [
    "@h = 123"
   ]
  },
  {
   "cell_type": "code",
   "execution_count": null,
   "id": "187ce5e5-2a20-4b98-a7d6-6cf3bdb76f20",
   "metadata": {},
   "outputs": [
    {
     "ename": "SyntaxError",
     "evalue": "cannot assign to expression here. Maybe you meant '==' instead of '='? (2367719363.py, line 1)",
     "output_type": "error",
     "traceback": [
      "\u001b[0;36m  Cell \u001b[0;32mIn[26], line 1\u001b[0;36m\u001b[0m\n\u001b[0;31m    -b = 1234\u001b[0m\n\u001b[0m    ^\u001b[0m\n\u001b[0;31mSyntaxError\u001b[0m\u001b[0;31m:\u001b[0m cannot assign to expression here. Maybe you meant '==' instead of '='?\n"
     ]
    }
   ],
   "source": [
    "-b = 1234"
   ]
  },
  {
   "cell_type": "markdown",
   "id": "d7e63c93-50b4-4a20-90fa-8154997e917f",
   "metadata": {},
   "source": [
    "Rules of Variables:\n",
    "\n",
    "%a - not allowed before a variable name \n",
    "Error-->(UsageError: Line magic function `%a` not found.)\n",
    "\n",
    "0b - not allowed. Numeric value before \n",
    "Error-->(  Cell In[24], line 1\n",
    "    0b = 123\n",
    "     ^\n",
    "SyntaxError: invalid binary literal)\n",
    "\n",
    "@h - not allowed\n",
    "Error-->   Cell In[25], line 1\n",
    "    @h = 123\n",
    "     ^\n",
    "SyntaxError: invalid syntax. Maybe you meant '==' or ':=' instead of '='?\n",
    "\n",
    "Should not use reserved keywords\n",
    "\n",
    "-b -  not allowed.\n",
    "Error-->   Cell In[26], line 1\n",
    "    -b = 1234\n",
    "    ^\n",
    "SyntaxError: cannot assign to expression here. Maybe you meant '==' instead of '='?\n",
    "\n",
    "-------------------------------"
   ]
  },
  {
   "cell_type": "code",
   "execution_count": 27,
   "id": "86f9b157-6114-42e8-9cf6-c4c731d1d733",
   "metadata": {},
   "outputs": [],
   "source": [
    "b1 = True"
   ]
  },
  {
   "cell_type": "code",
   "execution_count": 28,
   "id": "57d9be4a-6c12-4fc2-8e76-6acfb604c152",
   "metadata": {},
   "outputs": [],
   "source": [
    "b2 = False"
   ]
  },
  {
   "cell_type": "code",
   "execution_count": 29,
   "id": "e1ede817-87f2-461c-b12b-a65a85d1f6ef",
   "metadata": {},
   "outputs": [
    {
     "data": {
      "text/plain": [
       "1"
      ]
     },
     "execution_count": 29,
     "metadata": {},
     "output_type": "execute_result"
    }
   ],
   "source": [
    "b1 - b2"
   ]
  },
  {
   "cell_type": "code",
   "execution_count": 30,
   "id": "f49b533d-1c11-460e-9b08-937262da9f38",
   "metadata": {},
   "outputs": [
    {
     "data": {
      "text/plain": [
       "-1"
      ]
     },
     "execution_count": 30,
     "metadata": {},
     "output_type": "execute_result"
    }
   ],
   "source": [
    "b2 - b1"
   ]
  },
  {
   "cell_type": "code",
   "execution_count": 31,
   "id": "d27fdc2e-a0dd-4df0-855b-ea38025367c2",
   "metadata": {},
   "outputs": [
    {
     "data": {
      "text/plain": [
       "False"
      ]
     },
     "execution_count": 31,
     "metadata": {},
     "output_type": "execute_result"
    }
   ],
   "source": [
    "b1 and b2"
   ]
  },
  {
   "cell_type": "code",
   "execution_count": 32,
   "id": "1fa27a21-92a8-476d-9c4b-d215dce90d23",
   "metadata": {},
   "outputs": [
    {
     "data": {
      "text/plain": [
       "True"
      ]
     },
     "execution_count": 32,
     "metadata": {},
     "output_type": "execute_result"
    }
   ],
   "source": [
    "b1 or b2"
   ]
  },
  {
   "cell_type": "code",
   "execution_count": 33,
   "id": "8464f3fe-3922-4d03-8135-fea0700e084a",
   "metadata": {},
   "outputs": [
    {
     "data": {
      "text/plain": [
       "False"
      ]
     },
     "execution_count": 33,
     "metadata": {},
     "output_type": "execute_result"
    }
   ],
   "source": [
    "b2 and b1"
   ]
  },
  {
   "cell_type": "code",
   "execution_count": 34,
   "id": "b2d9f170-bd96-416f-8ab3-3978c05f7005",
   "metadata": {},
   "outputs": [
    {
     "data": {
      "text/plain": [
       "True"
      ]
     },
     "execution_count": 34,
     "metadata": {},
     "output_type": "execute_result"
    }
   ],
   "source": [
    "b2 or b1"
   ]
  },
  {
   "cell_type": "code",
   "execution_count": 35,
   "id": "a378d4a0-af6d-4f75-95d4-ca88b1cc2b1a",
   "metadata": {},
   "outputs": [
    {
     "ename": "ZeroDivisionError",
     "evalue": "division by zero",
     "output_type": "error",
     "traceback": [
      "\u001b[0;31m---------------------------------------------------------------------------\u001b[0m",
      "\u001b[0;31mZeroDivisionError\u001b[0m                         Traceback (most recent call last)",
      "Cell \u001b[0;32mIn[35], line 1\u001b[0m\n\u001b[0;32m----> 1\u001b[0m \u001b[43mb1\u001b[49m\u001b[38;5;241;43m/\u001b[39;49m\u001b[43mb2\u001b[49m\n",
      "\u001b[0;31mZeroDivisionError\u001b[0m: division by zero"
     ]
    }
   ],
   "source": [
    "b1/b2"
   ]
  },
  {
   "cell_type": "code",
   "execution_count": 36,
   "id": "93b86ae7-a6c3-4ca2-8416-bbe304fb4528",
   "metadata": {},
   "outputs": [
    {
     "data": {
      "text/plain": [
       "0.0"
      ]
     },
     "execution_count": 36,
     "metadata": {},
     "output_type": "execute_result"
    }
   ],
   "source": [
    "b2/b1"
   ]
  },
  {
   "cell_type": "markdown",
   "id": "1469a74e-41fa-458a-9e90-28849fd9303d",
   "metadata": {},
   "source": [
    "String Operations -- "
   ]
  },
  {
   "cell_type": "code",
   "execution_count": 37,
   "id": "2cec373e-ece2-4f16-94a9-a32d7b9beed2",
   "metadata": {},
   "outputs": [],
   "source": [
    "s = 'my name is Hansa Guru'"
   ]
  },
  {
   "cell_type": "code",
   "execution_count": 38,
   "id": "265973ba-d4a1-481c-8b7f-c5fc1a31fa67",
   "metadata": {},
   "outputs": [
    {
     "data": {
      "text/plain": [
       "'my name is Hansa Guru'"
      ]
     },
     "execution_count": 38,
     "metadata": {},
     "output_type": "execute_result"
    }
   ],
   "source": [
    "s"
   ]
  },
  {
   "cell_type": "code",
   "execution_count": 39,
   "id": "335308e8-184c-4b4a-87db-4d0c6c541ad3",
   "metadata": {},
   "outputs": [
    {
     "data": {
      "text/plain": [
       "str"
      ]
     },
     "execution_count": 39,
     "metadata": {},
     "output_type": "execute_result"
    }
   ],
   "source": [
    "type(s)"
   ]
  },
  {
   "cell_type": "code",
   "execution_count": 44,
   "id": "b70b883f-743b-4042-88d8-5a55e59b70c6",
   "metadata": {},
   "outputs": [
    {
     "ename": "SyntaxError",
     "evalue": "unterminated string literal (detected at line 1) (2415820345.py, line 1)",
     "output_type": "error",
     "traceback": [
      "\u001b[0;36m  Cell \u001b[0;32mIn[44], line 1\u001b[0;36m\u001b[0m\n\u001b[0;31m    s2 = 'This is my first python class for Data Science Master's'\u001b[0m\n\u001b[0m                                                                 ^\u001b[0m\n\u001b[0;31mSyntaxError\u001b[0m\u001b[0;31m:\u001b[0m unterminated string literal (detected at line 1)\n"
     ]
    }
   ],
   "source": [
    "s2 = 'This is my first python class for Data Science Master's'"
   ]
  },
  {
   "cell_type": "code",
   "execution_count": 45,
   "id": "bd1143ab-d4fa-4bb9-aa23-2400216eac0b",
   "metadata": {},
   "outputs": [],
   "source": [
    "s2 = \"This is my first python class for Data Science Master's\""
   ]
  },
  {
   "cell_type": "code",
   "execution_count": 46,
   "id": "2aca4b3e-eca8-4f09-8672-9237019dbbb0",
   "metadata": {},
   "outputs": [
    {
     "data": {
      "text/plain": [
       "\"This is my first python class for Data Science Master's\""
      ]
     },
     "execution_count": 46,
     "metadata": {},
     "output_type": "execute_result"
    }
   ],
   "source": [
    "s2"
   ]
  },
  {
   "cell_type": "markdown",
   "id": "a577f564-3cec-49f3-bc1f-77fcdaf5ef71",
   "metadata": {},
   "source": [
    "Comments"
   ]
  },
  {
   "cell_type": "markdown",
   "id": "60f7e3c6-a382-4180-bb82-de00b74b3c2a",
   "metadata": {},
   "source": [
    "# Single line comment\n",
    "\"\"\"\n",
    "Multiline comment\n",
    "\"\"\""
   ]
  },
  {
   "cell_type": "code",
   "execution_count": 48,
   "id": "bcf5e1a1-3b53-4636-a9ee-5028b1553a9a",
   "metadata": {},
   "outputs": [],
   "source": [
    "s1 = 'Hansa'\n",
    "a = 10"
   ]
  },
  {
   "cell_type": "code",
   "execution_count": 50,
   "id": "95d31b6f-62e2-4597-b6d6-e8349f59d71f",
   "metadata": {},
   "outputs": [
    {
     "ename": "TypeError",
     "evalue": "can only concatenate str (not \"int\") to str",
     "output_type": "error",
     "traceback": [
      "\u001b[0;31m---------------------------------------------------------------------------\u001b[0m",
      "\u001b[0;31mTypeError\u001b[0m                                 Traceback (most recent call last)",
      "Cell \u001b[0;32mIn[50], line 1\u001b[0m\n\u001b[0;32m----> 1\u001b[0m \u001b[43ms1\u001b[49m\u001b[43m \u001b[49m\u001b[38;5;241;43m+\u001b[39;49m\u001b[43m \u001b[49m\u001b[43ma\u001b[49m\n",
      "\u001b[0;31mTypeError\u001b[0m: can only concatenate str (not \"int\") to str"
     ]
    }
   ],
   "source": [
    "s1 + a"
   ]
  },
  {
   "cell_type": "code",
   "execution_count": 53,
   "id": "76f2bcc2-6d21-4297-a268-28113325aa17",
   "metadata": {},
   "outputs": [
    {
     "data": {
      "text/plain": [
       "'Hansa10'"
      ]
     },
     "execution_count": 53,
     "metadata": {},
     "output_type": "execute_result"
    }
   ],
   "source": [
    "s1 + str(a) # typecasting - as data type should be same"
   ]
  },
  {
   "cell_type": "code",
   "execution_count": 54,
   "id": "c77659ec-2257-4bdb-b74d-fd7f36ca94a6",
   "metadata": {},
   "outputs": [],
   "source": [
    "b = '10'"
   ]
  },
  {
   "cell_type": "code",
   "execution_count": 55,
   "id": "9ce092d4-d079-4fde-a5e9-0a0d81af41a9",
   "metadata": {},
   "outputs": [
    {
     "ename": "TypeError",
     "evalue": "'int' object is not callable",
     "output_type": "error",
     "traceback": [
      "\u001b[0;31m---------------------------------------------------------------------------\u001b[0m",
      "\u001b[0;31mTypeError\u001b[0m                                 Traceback (most recent call last)",
      "Cell \u001b[0;32mIn[67], line 1\u001b[0m\n\u001b[0;32m----> 1\u001b[0m \u001b[38;5;28;43mint\u001b[39;49m\u001b[43m(\u001b[49m\u001b[43mb\u001b[49m\u001b[43m)\u001b[49m\n",
      "\u001b[0;31mTypeError\u001b[0m: 'int' object is not callable"
     ]
    }
   ],
   "source": [
    "int(b)"
   ]
  },
  {
   "cell_type": "code",
   "execution_count": 59,
   "id": "8a1fb5e6-788f-49ed-bd08-a278f511cabb",
   "metadata": {},
   "outputs": [],
   "source": [
    "b1 = str(a)"
   ]
  },
  {
   "cell_type": "code",
   "execution_count": 60,
   "id": "fca0c717-734a-43df-a3cf-5128cc355a53",
   "metadata": {},
   "outputs": [
    {
     "data": {
      "text/plain": [
       "'10'"
      ]
     },
     "execution_count": 60,
     "metadata": {},
     "output_type": "execute_result"
    }
   ],
   "source": [
    "b1"
   ]
  },
  {
   "cell_type": "code",
   "execution_count": 63,
   "id": "c1f23bd3-d265-4ccc-974f-418485be633c",
   "metadata": {},
   "outputs": [
    {
     "ename": "TypeError",
     "evalue": "'int' object is not callable",
     "output_type": "error",
     "traceback": [
      "\u001b[0;31m---------------------------------------------------------------------------\u001b[0m",
      "\u001b[0;31mTypeError\u001b[0m                                 Traceback (most recent call last)",
      "Cell \u001b[0;32mIn[63], line 1\u001b[0m\n\u001b[0;32m----> 1\u001b[0m \u001b[38;5;28;43mint\u001b[39;49m\u001b[43m(\u001b[49m\u001b[43mb1\u001b[49m\u001b[43m)\u001b[49m\n",
      "\u001b[0;31mTypeError\u001b[0m: 'int' object is not callable"
     ]
    }
   ],
   "source": [
    "int(b1)"
   ]
  },
  {
   "cell_type": "code",
   "execution_count": 65,
   "id": "954b2f53-4a61-4c48-b62c-a04692ce467f",
   "metadata": {},
   "outputs": [
    {
     "ename": "TypeError",
     "evalue": "'int' object is not callable",
     "output_type": "error",
     "traceback": [
      "\u001b[0;31m---------------------------------------------------------------------------\u001b[0m",
      "\u001b[0;31mTypeError\u001b[0m                                 Traceback (most recent call last)",
      "Cell \u001b[0;32mIn[65], line 1\u001b[0m\n\u001b[0;32m----> 1\u001b[0m \u001b[38;5;28;43mint\u001b[39;49m\u001b[43m(\u001b[49m\u001b[43mb1\u001b[49m\u001b[43m)\u001b[49m\n",
      "\u001b[0;31mTypeError\u001b[0m: 'int' object is not callable"
     ]
    }
   ],
   "source": [
    "int(b1)"
   ]
  },
  {
   "cell_type": "markdown",
   "id": "96a7cae7-d17e-499f-8ae4-545a14558990",
   "metadata": {},
   "source": [
    "As we have declared the datatype as one of the variable, need to restart the Kernel inorder to get back the original functionality!\n",
    "Hence using a new notebook as I do not want to delete it."
   ]
  },
  {
   "cell_type": "code",
   "execution_count": null,
   "id": "29736cfd-d4b1-4f04-b347-e0efe95205bd",
   "metadata": {},
   "outputs": [],
   "source": []
  }
 ],
 "metadata": {
  "kernelspec": {
   "display_name": "Python 3 (ipykernel)",
   "language": "python",
   "name": "python3"
  },
  "language_info": {
   "codemirror_mode": {
    "name": "ipython",
    "version": 3
   },
   "file_extension": ".py",
   "mimetype": "text/x-python",
   "name": "python",
   "nbconvert_exporter": "python",
   "pygments_lexer": "ipython3",
   "version": "3.10.8"
  }
 },
 "nbformat": 4,
 "nbformat_minor": 5
}
